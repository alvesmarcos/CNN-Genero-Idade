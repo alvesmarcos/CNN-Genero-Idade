{
 "cells": [
  {
   "cell_type": "markdown",
   "metadata": {},
   "source": [
    "## Pré-processamento\n",
    "\n",
    "Neste notebook iremos preparar/gerar os dados de entrada para nossa rede. A base de dados utilizada pode ser encontrada [aqui](https://talhassner.github.io/home/projects/Adience/Adience-data.html). \n",
    "\n",
    "![alt text](images/photos.png \"Fotos\")\n",
    "\n",
    "Após extrair as pastas você deverá ver as seguintes subpasta e arquivos:\n",
    " \n",
    "    aligned/\n",
    "    fold_0_data.txt\n",
    "    fold_1_data.txt\n",
    "    fold_2_data.txt\n",
    "    fold_3_data.txt\n",
    "    fold_4_data.txt\n",
    "    fold_frontal_0_data.txt\n",
    "    fold_frontal_1_data.txt\n",
    "    fold_frontal_2_data.txt\n",
    "    fold_frontal_3_data.txt\n",
    "    fold_frontal_4_data.txt\n",
    "\n",
    "### Informações sobre a base de dados\n",
    "\n",
    "- Total de fotos: 26580\n",
    "- Número de intervalos de idade / intervalos: 8 (0-2, 4-6, 8-13, 15-20, 25-32, 38-43, 48-53, 60-100)\n",
    "- Gênero: M/F"
   ]
  },
  {
   "cell_type": "markdown",
   "metadata": {},
   "source": [
    "## Dependências"
   ]
  },
  {
   "cell_type": "code",
   "execution_count": 1,
   "metadata": {},
   "outputs": [],
   "source": [
    "import numpy as np  # manipular vetores\n",
    "import pandas as pd # manipular arquivos txt\n",
    "import pickle as pkl # comprimir/serializar vetores\n",
    "from PIL import Image # maior eficiência ao processar as imagens\n",
    "import matplotlib.pyplot as plt  # plotar imagens\n",
    "from sklearn.preprocessing import minmax_scale # normaliza imagen\n",
    "from sklearn.preprocessing import normalize, MinMaxScaler # normaliza imagen"
   ]
  },
  {
   "cell_type": "markdown",
   "metadata": {},
   "source": [
    "## Arquivos de entrada\n",
    "\n",
    "A principal diferença entre fold e fold_frontal é o ângulo de inclinação da face. No frontal não existe imagem com a face inclinida, já no normal considera todas as imagens do banco."
   ]
  },
  {
   "cell_type": "code",
   "execution_count": 2,
   "metadata": {},
   "outputs": [],
   "source": [
    "fold = ['fold_%d_data.txt' % i for i in range(5)]"
   ]
  },
  {
   "cell_type": "code",
   "execution_count": 3,
   "metadata": {},
   "outputs": [],
   "source": [
    "def save(obj,name):\n",
    "    ''' Função para salvar objeto '''\n",
    "    with open(name+'.pkl', 'wb') as f:\n",
    "        pkl.dump(obj, f, pkl.HIGHEST_PROTOCOL)\n",
    "\n",
    "def load(name):\n",
    "    ''' Função para carregar objeto serializado '''\n",
    "    with open(name+'.pkl', 'rb') as f:\n",
    "        return pkl.load(f)\n",
    "\n",
    "## thanks https://github.com/mari-linhares/tensorflow-brasil\n",
    "def show(num_dados):\n",
    "    print('Exemplos de %d imagens da base de treino' % num_dados)\n",
    "    \n",
    "    # Escolhemos índices aleatórios\n",
    "    random_indices = np.random.randint(0, data['imagens'].shape[0], num_dados)\n",
    "    \n",
    "    # Buscando imagens e labels\n",
    "    imagens = data['imagens'][random_indices]\n",
    "    labels = data['labels'][random_indices]\n",
    "    \n",
    "    # Plottando imagens\n",
    "    for index, (img, label) in enumerate(zip(imagens, labels)):\n",
    "        plt.subplot(2, num_dados, index + 1)\n",
    "        plt.axis('off')\n",
    "        plt.imshow(img, cmap=plt.cm.gray_r, interpolation='nearest')\n",
    "        plt.title('%i' % label)\n",
    "    plt.show()"
   ]
  },
  {
   "cell_type": "markdown",
   "metadata": {},
   "source": [
    "## Tratamento dados de gênero\n",
    "\n",
    "Vamos verificar quais imagens estão com gênero indefinido e remover da nossa base de dados."
   ]
  },
  {
   "cell_type": "markdown",
   "metadata": {},
   "source": [
    "### Imagem inclinada\n",
    "\n",
    "Para os arquivos que possuem **fiducial_yaw_angle** diferente de 0, iremos considerar o intervalo entre os ângulos de -45° e 45°."
   ]
  },
  {
   "cell_type": "code",
   "execution_count": 6,
   "metadata": {},
   "outputs": [
    {
     "data": {
      "text/plain": [
       "(7719, 8931, 16650)"
      ]
     },
     "execution_count": 6,
     "metadata": {},
     "output_type": "execute_result"
    }
   ],
   "source": [
    "for f in fold:\n",
    "    df = pd.read_csv('data/'+f, sep=\"\\t\")\n",
    "    \n",
    "    for index, row in df.iterrows():\n",
    "        genero = row['gender']\n",
    "        angulo = row['fiducial_yaw_angle']\n",
    "        \n",
    "        if (genero!='m' and genero!='f') or (angulo >= 45 or angulo <= -45):\n",
    "            df.drop(index, inplace=True)\n",
    "\n",
    "    df.to_csv('txt/gender/'+f, index=False)\n",
    "\n",
    "count_m = 0\n",
    "count_f = 0\n",
    "\n",
    "for f in fold:\n",
    "    df = pd.read_csv('txt/gender/'+f, sep=\",\")\n",
    "    for index, row in df.iterrows():\n",
    "        genero = row['gender']\n",
    "        if (genero=='f'):\n",
    "            count_f += 1\n",
    "        else:\n",
    "            count_m += 1\n",
    "\n",
    "count_m, count_f, count_f + count_m"
   ]
  },
  {
   "cell_type": "markdown",
   "metadata": {},
   "source": [
    "### Salvando arquivo\n",
    "\n",
    "Iremos transforma nossas imagens (considerando apenas as que foram tratadas acima) em arrays numpy e fazer a seguinte conversão: 0 - Masculino (m) e 1 - Feminino "
   ]
  },
  {
   "cell_type": "code",
   "execution_count": 4,
   "metadata": {},
   "outputs": [],
   "source": [
    "WIDTH = HEIGHT = 256\n",
    "MASCULINO = 0\n",
    "FEMININO = 1"
   ]
  },
  {
   "cell_type": "code",
   "execution_count": 5,
   "metadata": {},
   "outputs": [],
   "source": [
    "def serializer():\n",
    "    ''' Salvar em arquivo com imagens (formato array numpy) e suas respectivas labels '''\n",
    "    i = 0\n",
    "    for f in fold:\n",
    "        df = pd.read_csv('txt/gender/'+f, sep=\",\")\n",
    "        imagens = []\n",
    "        labels = []\n",
    "        #--\n",
    "        for index, row in df.iterrows():\n",
    "            user_id = row['user_id']\n",
    "            original_image = row['original_image']\n",
    "            face_id = row['face_id']\n",
    "            genero = MASCULINO if row['gender'] == 'm' else FEMININO\n",
    "            # leitura da imagem\n",
    "            image = Image.open('data/aligned/'+user_id+'/landmark_aligned_face.'+str(face_id)+'.'+original_image)\n",
    "            # redimensiona imagem\n",
    "            image = image.resize((WIDTH, HEIGHT), Image.LANCZOS)\n",
    "            image = image.crop((14, 14, 241, 241))\n",
    "            # transforma em array numpy\n",
    "            img = np.array(image, dtype=np.float16)\n",
    "            lbl = np.array(genero)\n",
    "            # subtracao da media\n",
    "            img -= np.mean(img)\n",
    "            # append data\n",
    "            imagens.append(img)\n",
    "            labels.append(lbl)\n",
    "        # save dictionary\n",
    "        obj = { 'imagens': np.array(imagens), 'labels': np.array(labels) }\n",
    "        save(obj, 'serializer/gender/data_'+str(i))\n",
    "        i += 1\n",
    "serializer()"
   ]
  },
  {
   "cell_type": "markdown",
   "metadata": {},
   "source": [
    "### Carregando arquivo\n",
    "\n",
    "Após manipular ou modificar os dados é sempre importante garantir que os dados estão no formato esperado e não foram corrompidos ou alterados indevidamente."
   ]
  },
  {
   "cell_type": "code",
   "execution_count": 7,
   "metadata": {},
   "outputs": [
    {
     "data": {
      "text/plain": [
       "((3460, 227, 227, 3), (3460,))"
      ]
     },
     "execution_count": 7,
     "metadata": {},
     "output_type": "execute_result"
    }
   ],
   "source": [
    "# Escolhendo um arquivo aleatorio\n",
    "data = load('serializer/gender/data_%d' % np.random.randint(5))\n",
    "data['imagens'].shape, data['labels'].shape"
   ]
  },
  {
   "cell_type": "markdown",
   "metadata": {},
   "source": [
    "## Tratamento dados de idade\n",
    "\n",
    "Vamos verificar quais imagens estão com intervalos de idade indefinido e remover da nossa base de dados. Além disso vamos separar imagens por gênero."
   ]
  },
  {
   "cell_type": "code",
   "execution_count": 27,
   "metadata": {},
   "outputs": [],
   "source": [
    "AGE_RANGE = ['(0, 2)', \n",
    "             '(4, 6)', \n",
    "             '(8, 13)', \n",
    "             '(15, 20)', \n",
    "             '(25, 32)', \n",
    "             '(38, 43)', \n",
    "             '(48, 53)', \n",
    "             '(60, 100)']"
   ]
  },
  {
   "cell_type": "code",
   "execution_count": 28,
   "metadata": {},
   "outputs": [],
   "source": [
    "def fmt1(idade):\n",
    "    ''' Formata um valor inteiro em um intervalo de idade válido '''\n",
    "    idade = int(idade)\n",
    "    if idade >= 0 and idade <= 2:\n",
    "        return '(0, 2)'\n",
    "    elif idade >= 4 and idade <= 6:\n",
    "        return '(4, 6)'\n",
    "    elif idade >= 8 and idade <= 13:\n",
    "        return '(8, 13)'\n",
    "    elif idade >= 15 and idade <= 20:\n",
    "        return '(15, 20)'\n",
    "    elif idade >= 25 and idade <= 32:\n",
    "        return '(25, 32)'\n",
    "    elif idade >= 38 and idade <= 43:\n",
    "        return '(38, 43)'\n",
    "    elif idade >= 48 and idade <= 53:\n",
    "        return '(48, 53)'\n",
    "    elif idade >= 60 and idade <= 100:\n",
    "        return '(60, 100)'\n",
    "    else:\n",
    "        return None"
   ]
  },
  {
   "cell_type": "code",
   "execution_count": 29,
   "metadata": {},
   "outputs": [],
   "source": [
    "def fmt2(idade):\n",
    "    ''' Formata intervalo indefinido para um intervalo de idade válido '''\n",
    "    if idade=='(8, 12)':\n",
    "        return '(8, 13)'\n",
    "    elif idade=='(38, 42)':\n",
    "        return '(38, 43)'\n",
    "    elif idade=='(27, 32)':\n",
    "        return '(25, 32)'\n",
    "    else:\n",
    "        return None"
   ]
  },
  {
   "cell_type": "code",
   "execution_count": 30,
   "metadata": {},
   "outputs": [],
   "source": [
    "def wrapper_fmt(idade):\n",
    "    return fmt1(idade) if len(idade) < 3 else fmt2(idade)"
   ]
  },
  {
   "cell_type": "code",
   "execution_count": 31,
   "metadata": {},
   "outputs": [],
   "source": [
    "def categorical_fmt(idade_range):\n",
    "    if idade_range=='(0, 2)':\n",
    "        return 0\n",
    "    elif idade_range=='(4, 6)':\n",
    "        return 1\n",
    "    elif idade_range=='(8, 13)':\n",
    "        return 2\n",
    "    elif idade_range=='(15, 20)':\n",
    "        return 3\n",
    "    elif idade_range=='(25, 32)':\n",
    "        return 4\n",
    "    elif idade_range=='(38, 43)':\n",
    "        return 5\n",
    "    elif idade_range=='(48, 53)':\n",
    "        return 6\n",
    "    elif idade_range=='(60, 100)':\n",
    "        return 7"
   ]
  },
  {
   "cell_type": "markdown",
   "metadata": {},
   "source": [
    "### Imagem inclinada\n",
    "Para os arquivos que possuem fiducial_yaw_angle diferente de 0, iremos considerar o intervalo entre os ângulos de -45° e 45°."
   ]
  },
  {
   "cell_type": "markdown",
   "metadata": {},
   "source": [
    "#### Todos gêneros\n",
    "\n",
    "Primeiramente considerar todo tipo de gênero na nossa base (masculino/feminino/indefinido)."
   ]
  },
  {
   "cell_type": "code",
   "execution_count": 22,
   "metadata": {},
   "outputs": [
    {
     "data": {
      "text/plain": [
       "[2357, 2042, 2184, 1557, 4854, 2227, 787, 842]"
      ]
     },
     "execution_count": 22,
     "metadata": {},
     "output_type": "execute_result"
    }
   ],
   "source": [
    "for f in fold:\n",
    "    df = pd.read_csv('data/'+f, sep=\"\\t\")\n",
    "    \n",
    "    for index, row in df.iterrows():\n",
    "        idade = row['age']\n",
    "        angulo = row['fiducial_yaw_angle']\n",
    "        idade = idade if idade in AGE_RANGE else wrapper_fmt(idade)\n",
    "        \n",
    "        if (idade is None) or (angulo >= 45 or angulo <= -45):\n",
    "            df.drop(index, inplace=True)\n",
    "        else:\n",
    "            df.at[index, 'age'] = idade\n",
    "\n",
    "    df.to_csv('txt/age/'+f, index=False)\n",
    "\n",
    "count = [0, 0, 0, 0 ,0, 0, 0, 0]\n",
    "\n",
    "for f in fold:\n",
    "    df = pd.read_csv('txt/age/'+f, sep=\",\")\n",
    "    for index, row in df.iterrows():\n",
    "        idade = row['age']\n",
    "        count[categorical_fmt(idade)] += 1\n",
    "count"
   ]
  },
  {
   "cell_type": "markdown",
   "metadata": {},
   "source": [
    "#### Gênero Masculino\n",
    "\n",
    "Vamos considerar agora só as imagens que possuem gênero definido como masculino."
   ]
  },
  {
   "cell_type": "code",
   "execution_count": 25,
   "metadata": {},
   "outputs": [
    {
     "data": {
      "text/plain": [
       "[686, 860, 898, 687, 2171, 1221, 380, 426]"
      ]
     },
     "execution_count": 25,
     "metadata": {},
     "output_type": "execute_result"
    }
   ],
   "source": [
    "for f in fold:\n",
    "    df = pd.read_csv('data/'+f, sep=\"\\t\")\n",
    "    \n",
    "    for index, row in df.iterrows():\n",
    "        idade = row['age']\n",
    "        angulo = row['fiducial_yaw_angle']\n",
    "        genero = row['gender']\n",
    "        idade = idade if idade in AGE_RANGE else wrapper_fmt(idade)\n",
    "       \n",
    "        if (idade is None) or (angulo >= 45 or angulo <= -45) or (genero!='m'):\n",
    "            df.drop(index, inplace=True)\n",
    "        else:\n",
    "            df.at[index, 'age'] = idade\n",
    "\n",
    "    df.to_csv('txt/age-male/'+f, index=False)\n",
    "\n",
    "count = [0, 0, 0, 0 ,0, 0, 0, 0]\n",
    "\n",
    "for f in fold:\n",
    "    df = pd.read_csv('txt/age-male/'+f, sep=\",\")\n",
    "    for index, row in df.iterrows():\n",
    "        idade = row['age']\n",
    "        count[categorical_fmt(idade)] += 1\n",
    "count"
   ]
  },
  {
   "cell_type": "markdown",
   "metadata": {},
   "source": [
    "#### Gênero Feminino\n",
    "\n",
    "Vamos considerar agora só as imagens que possuem gênero definido como feminino."
   ]
  },
  {
   "cell_type": "code",
   "execution_count": 26,
   "metadata": {},
   "outputs": [
    {
     "data": {
      "text/plain": [
       "[631, 1182, 1279, 868, 2630, 1006, 402, 410]"
      ]
     },
     "execution_count": 26,
     "metadata": {},
     "output_type": "execute_result"
    }
   ],
   "source": [
    "for f in fold:\n",
    "    df = pd.read_csv('data/'+f, sep=\"\\t\")\n",
    "    \n",
    "    for index, row in df.iterrows():\n",
    "        idade = row['age']\n",
    "        angulo = row['fiducial_yaw_angle']\n",
    "        genero = row['gender']\n",
    "        idade = idade if idade in AGE_RANGE else wrapper_fmt(idade)\n",
    "        \n",
    "        if (idade is None) or (angulo >= 45 or angulo <= -45) or (genero!='f'):\n",
    "            df.drop(index, inplace=True)\n",
    "        else:\n",
    "            df.at[index, 'age'] = idade\n",
    "\n",
    "    df.to_csv('txt/age-female/'+f, index=False)\n",
    "\n",
    "count = [0, 0, 0, 0 ,0, 0, 0, 0]\n",
    "\n",
    "for f in fold:\n",
    "    df = pd.read_csv('txt/age-female/'+f, sep=\",\")\n",
    "    for index, row in df.iterrows():\n",
    "        idade = row['age']\n",
    "        count[categorical_fmt(idade)] += 1\n",
    "count"
   ]
  },
  {
   "cell_type": "markdown",
   "metadata": {},
   "source": [
    "### Salvando arquivo\n",
    "\n",
    "Iremos transforma nossas imagens (considerando apenas as que foram tratadas acima) em arrays numpy e fazer a seguinte conversão: 1 - '0-2', 2 - '4-6, 3 - '8-13', 4 - '15-20', 5 - '25-32', 6 - '38-43', 7 - '48-53', 8 - '60-100'"
   ]
  },
  {
   "cell_type": "code",
   "execution_count": 34,
   "metadata": {},
   "outputs": [],
   "source": [
    "WIDTH = HEIGHT = 256"
   ]
  },
  {
   "cell_type": "code",
   "execution_count": 35,
   "metadata": {},
   "outputs": [],
   "source": [
    "def serializer(name):\n",
    "    ''' Salvar em arquivo com imagens (formato array numpy) e suas respectivas labels '''\n",
    "    i = 0\n",
    "    for f in fold:\n",
    "        imagens = []\n",
    "        labels = []\n",
    "        df = pd.read_csv('txt/'+name+f, sep=\",\")\n",
    "        #--\n",
    "        for index, row in df.iterrows():\n",
    "            user_id = row['user_id']\n",
    "            original_image = row['original_image']\n",
    "            face_id = row['face_id']\n",
    "            idade = categorical_fmt(row['age'])\n",
    "            # leitura da imagem\n",
    "            image = Image.open('data/aligned/'+user_id+'/landmark_aligned_face.'+str(face_id)+'.'+original_image)\n",
    "            # redimensiona imagem\n",
    "            image = image.resize((WIDTH, HEIGHT), Image.LANCZOS)\n",
    "            image = image.crop((14, 14, 241, 241))\n",
    "            # transforma em array numpy\n",
    "            img = np.array(image, dtype=np.float16)\n",
    "            lbl = np.array(idade)\n",
    "            # subtracao da media\n",
    "            img -= np.mean(img)\n",
    "            # append data\n",
    "            imagens.append(img)\n",
    "            labels.append(lbl)\n",
    "        \n",
    "        # save dictionary\n",
    "        obj = { 'imagens': np.array(imagens), 'labels': np.array(labels) }\n",
    "        save(obj, 'serializer/'+name+'data_'+str(i))\n",
    "        i += 1"
   ]
  },
  {
   "cell_type": "code",
   "execution_count": 36,
   "metadata": {},
   "outputs": [],
   "source": [
    "# todos os generos\n",
    "serializer('age/')\n",
    "# masculino\n",
    "# serializer('age-male/')\n",
    "# feminino\n",
    "#serializer('age-female/')"
   ]
  },
  {
   "cell_type": "markdown",
   "metadata": {},
   "source": [
    "### Carregando arquivo\n",
    "\n",
    "Após manipular ou modificar os dados é sempre importante garantir que os dados estão no formato esperado e não foram corrompidos ou alterados indevidamente."
   ]
  },
  {
   "cell_type": "markdown",
   "metadata": {},
   "source": [
    "#### Todos gêneros"
   ]
  },
  {
   "cell_type": "code",
   "execution_count": 79,
   "metadata": {},
   "outputs": [
    {
     "data": {
      "text/plain": [
       "((2966, 227, 227, 3), (2966,))"
      ]
     },
     "execution_count": 79,
     "metadata": {},
     "output_type": "execute_result"
    }
   ],
   "source": [
    "# Escolhendo um arquivo aleatorio\n",
    "data = load('serializer/age/data_%d' % np.random.randint(5))\n",
    "data['imagens'].shape, data['labels'].shape"
   ]
  },
  {
   "cell_type": "markdown",
   "metadata": {},
   "source": [
    "#### Gênero Masculino"
   ]
  },
  {
   "cell_type": "code",
   "execution_count": 57,
   "metadata": {},
   "outputs": [
    {
     "data": {
      "text/plain": [
       "((1912, 227, 227, 3), (1912,))"
      ]
     },
     "execution_count": 57,
     "metadata": {},
     "output_type": "execute_result"
    }
   ],
   "source": [
    "# Escolhendo um arquivo aleatorio\n",
    "data = load('serializer/age-male/data_%d' % np.random.randint(5))\n",
    "data['imagens'].shape, data['labels'].shape"
   ]
  },
  {
   "cell_type": "markdown",
   "metadata": {},
   "source": [
    "#### Gênero Femino"
   ]
  },
  {
   "cell_type": "code",
   "execution_count": 4,
   "metadata": {},
   "outputs": [
    {
     "data": {
      "text/plain": [
       "((1638, 227, 227, 3), (1638,))"
      ]
     },
     "execution_count": 4,
     "metadata": {},
     "output_type": "execute_result"
    }
   ],
   "source": [
    "# Escolhendo um arquivo aleatorio\n",
    "data = load('serializer/age-female/data_%d' % np.random.randint(5))\n",
    "data['imagens'].shape, data['labels'].shape"
   ]
  }
 ],
 "metadata": {
  "kernelspec": {
   "display_name": "Python 3",
   "language": "python",
   "name": "python3"
  },
  "language_info": {
   "codemirror_mode": {
    "name": "ipython",
    "version": 3
   },
   "file_extension": ".py",
   "mimetype": "text/x-python",
   "name": "python",
   "nbconvert_exporter": "python",
   "pygments_lexer": "ipython3",
   "version": "3.6.5"
  }
 },
 "nbformat": 4,
 "nbformat_minor": 2
}
