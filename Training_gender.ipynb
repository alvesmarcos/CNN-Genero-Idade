{
 "cells": [
  {
   "cell_type": "markdown",
   "metadata": {},
   "source": [
    "## Treinamento Gênero\n",
    "\n",
    "Neste notebook treinar nossa rede para resolver o problema de classificação de gênero. Para isso iremos utilizar o framework [Keras](https://keras.io)"
   ]
  },
  {
   "cell_type": "markdown",
   "metadata": {},
   "source": [
    "## Dependências"
   ]
  },
  {
   "cell_type": "code",
   "execution_count": 1,
   "metadata": {},
   "outputs": [
    {
     "name": "stderr",
     "output_type": "stream",
     "text": [
      "Using TensorFlow backend.\n"
     ]
    }
   ],
   "source": [
    "import numpy as np\n",
    "import matplotlib.pyplot as plt\n",
    "import _pickle as pkl\n",
    "from keras.models import Sequential, load_model\n",
    "from keras.layers import Dense, Dropout, Flatten, Activation\n",
    "from keras.layers import Conv2D, MaxPooling2D, BatchNormalization\n",
    "from keras.callbacks import EarlyStopping\n",
    "from keras.utils import to_categorical\n",
    "from keras.losses import categorical_crossentropy\n",
    "from keras.optimizers import Adam\n",
    "from keras.layers import normalization\n",
    "from sklearn.model_selection import train_test_split\n",
    "from sklearn.metrics import accuracy_score, confusion_matrix\n",
    "\n",
    "%matplotlib inline"
   ]
  },
  {
   "cell_type": "markdown",
   "metadata": {},
   "source": [
    "## Funções auxíliares\n",
    "\n",
    "Iremos carregar implementar algumas funções para leitura e formatação dos dados de entrada pré processados no notebook anterior."
   ]
  },
  {
   "cell_type": "code",
   "execution_count": 2,
   "metadata": {},
   "outputs": [],
   "source": [
    "DATA_NAME = ['data_%d' % i for i in range(5)]"
   ]
  },
  {
   "cell_type": "code",
   "execution_count": 3,
   "metadata": {},
   "outputs": [],
   "source": [
    "def load(name):\n",
    "    with open(name+'.pkl', 'rb') as f:\n",
    "        return pkl.load(f)\n",
    "\n",
    "def wrapper_data(name):\n",
    "    imagens = []\n",
    "    labels = []\n",
    "    for data in DATA_NAME:\n",
    "        obj = load(name+data)\n",
    "        for x, y in zip(obj['imagens'], obj['labels']):\n",
    "            imagens.append(x)\n",
    "            labels.append(y)\n",
    "    return np.array(imagens, dtype=np.float16),  np.array(labels, dtype=np.uint16) "
   ]
  },
  {
   "cell_type": "markdown",
   "metadata": {},
   "source": [
    "## Arquitetura\n",
    "\n",
    "![arch](images/test2.png)"
   ]
  },
  {
   "cell_type": "markdown",
   "metadata": {},
   "source": [
    "### Modelo"
   ]
  },
  {
   "cell_type": "code",
   "execution_count": 4,
   "metadata": {},
   "outputs": [
    {
     "name": "stdout",
     "output_type": "stream",
     "text": [
      "_________________________________________________________________\n",
      "Layer (type)                 Output Shape              Param #   \n",
      "=================================================================\n",
      "conv2d_1 (Conv2D)            (None, 57, 57, 64)        4864      \n",
      "_________________________________________________________________\n",
      "batch_normalization_1 (Batch (None, 57, 57, 64)        256       \n",
      "_________________________________________________________________\n",
      "activation_1 (Activation)    (None, 57, 57, 64)        0         \n",
      "_________________________________________________________________\n",
      "max_pooling2d_1 (MaxPooling2 (None, 29, 29, 64)        0         \n",
      "_________________________________________________________________\n",
      "conv2d_2 (Conv2D)            (None, 29, 29, 128)       204928    \n",
      "_________________________________________________________________\n",
      "batch_normalization_2 (Batch (None, 29, 29, 128)       512       \n",
      "_________________________________________________________________\n",
      "activation_2 (Activation)    (None, 29, 29, 128)       0         \n",
      "_________________________________________________________________\n",
      "max_pooling2d_2 (MaxPooling2 (None, 15, 15, 128)       0         \n",
      "_________________________________________________________________\n",
      "conv2d_3 (Conv2D)            (None, 15, 15, 256)       295168    \n",
      "_________________________________________________________________\n",
      "activation_3 (Activation)    (None, 15, 15, 256)       0         \n",
      "_________________________________________________________________\n",
      "max_pooling2d_3 (MaxPooling2 (None, 8, 8, 256)         0         \n",
      "_________________________________________________________________\n",
      "flatten_1 (Flatten)          (None, 16384)             0         \n",
      "_________________________________________________________________\n",
      "dense_1 (Dense)              (None, 256)               4194560   \n",
      "_________________________________________________________________\n",
      "dropout_1 (Dropout)          (None, 256)               0         \n",
      "_________________________________________________________________\n",
      "dense_2 (Dense)              (None, 256)               65792     \n",
      "_________________________________________________________________\n",
      "dropout_2 (Dropout)          (None, 256)               0         \n",
      "_________________________________________________________________\n",
      "dense_3 (Dense)              (None, 2)                 514       \n",
      "=================================================================\n",
      "Total params: 4,766,594\n",
      "Trainable params: 4,766,210\n",
      "Non-trainable params: 384\n",
      "_________________________________________________________________\n",
      "None\n"
     ]
    }
   ],
   "source": [
    "model = Sequential()\n",
    "\n",
    "model.add(Conv2D(filters=64,\n",
    "                 kernel_size=(5,5),\n",
    "                 padding='same',\n",
    "                 strides=(4,4),\n",
    "                 input_shape=(227,227,3)))\n",
    "model.add(BatchNormalization(axis=3))\n",
    "model.add(Activation('relu'))\n",
    "model.add(MaxPooling2D(pool_size=(2,2), strides=(2,2), padding='same'))\n",
    "\n",
    "model.add(Conv2D(filters=128,\n",
    "                 kernel_size=(5,5),\n",
    "                 padding='same'))\n",
    "model.add(BatchNormalization(axis=3))\n",
    "model.add(Activation('relu'))\n",
    "model.add(MaxPooling2D(pool_size=(2,2), strides=(2,2), padding='same'))\n",
    "\n",
    "model.add(Conv2D(filters=256,\n",
    "                 kernel_size=(3,3),\n",
    "                 padding='same'))\n",
    "model.add(Activation('relu'))\n",
    "model.add(MaxPooling2D(pool_size=(2,2), strides=(2,2),  padding='same'))\n",
    "\n",
    "model.add(Flatten())\n",
    "\n",
    "model.add(Dense(256, activation='relu'))\n",
    "model.add(Dropout(rate=0.5))\n",
    "model.add(Dense(256, activation='relu'))\n",
    "model.add(Dropout(rate=0.5))\n",
    "model.add(Dense(2, activation='softmax'))\n",
    "\n",
    "print(model.summary())"
   ]
  },
  {
   "cell_type": "markdown",
   "metadata": {},
   "source": [
    "### Hiper-parâmetros"
   ]
  },
  {
   "cell_type": "code",
   "execution_count": 5,
   "metadata": {},
   "outputs": [],
   "source": [
    "BATCH_SIZE = 64\n",
    "EPOCHS = 100"
   ]
  },
  {
   "cell_type": "code",
   "execution_count": 6,
   "metadata": {},
   "outputs": [],
   "source": [
    "model.compile(loss=categorical_crossentropy, optimizer='adam', metrics=['accuracy'])"
   ]
  },
  {
   "cell_type": "markdown",
   "metadata": {},
   "source": [
    "### Entrada "
   ]
  },
  {
   "cell_type": "code",
   "execution_count": 7,
   "metadata": {},
   "outputs": [
    {
     "data": {
      "text/plain": [
       "((14152, 227, 227, 3), (2498, 227, 227, 3), (14152, 2), (2498, 2))"
      ]
     },
     "execution_count": 7,
     "metadata": {},
     "output_type": "execute_result"
    }
   ],
   "source": [
    "# carrega dados\n",
    "X, y = wrapper_data('serializer/gender/')\n",
    "# separa dados em treinamento e teste\n",
    "X_train, X_test, y_train, y_test = train_test_split(X, y, test_size=0.15)\n",
    "# one hot encode\n",
    "y_oh_train = to_categorical(y_train, 2)\n",
    "y_oh_test = to_categorical(y_test, 2)\n",
    "\n",
    "X_train.shape, X_test.shape, y_oh_train.shape, y_oh_test.shape"
   ]
  },
  {
   "cell_type": "markdown",
   "metadata": {},
   "source": [
    "### Treino"
   ]
  },
  {
   "cell_type": "code",
   "execution_count": 8,
   "metadata": {},
   "outputs": [
    {
     "name": "stdout",
     "output_type": "stream",
     "text": [
      "Train on 12029 samples, validate on 2123 samples\n",
      "Epoch 1/100\n",
      "12029/12029 [==============================] - 275s 23ms/step - loss: 0.6985 - acc: 0.6202 - val_loss: 0.5918 - val_acc: 0.6698\n",
      "Epoch 2/100\n",
      "12029/12029 [==============================] - 253s 21ms/step - loss: 0.5774 - acc: 0.6927 - val_loss: 0.5886 - val_acc: 0.6740\n",
      "Epoch 3/100\n",
      "12029/12029 [==============================] - 268s 22ms/step - loss: 0.5324 - acc: 0.7320 - val_loss: 0.4781 - val_acc: 0.7631\n",
      "Epoch 4/100\n",
      "12029/12029 [==============================] - 298s 25ms/step - loss: 0.4649 - acc: 0.7789 - val_loss: 0.4230 - val_acc: 0.7984\n",
      "Epoch 5/100\n",
      "12029/12029 [==============================] - 311s 26ms/step - loss: 0.4244 - acc: 0.8072 - val_loss: 0.4398 - val_acc: 0.8045\n",
      "Epoch 6/100\n",
      "12029/12029 [==============================] - 307s 26ms/step - loss: 0.3815 - acc: 0.8275 - val_loss: 0.3923 - val_acc: 0.8168\n",
      "Epoch 7/100\n",
      "12029/12029 [==============================] - 321s 27ms/step - loss: 0.3466 - acc: 0.8420 - val_loss: 0.3858 - val_acc: 0.8125\n",
      "Epoch 8/100\n",
      "12029/12029 [==============================] - 358s 30ms/step - loss: 0.3177 - acc: 0.8610 - val_loss: 0.3947 - val_acc: 0.8154\n",
      "Epoch 9/100\n",
      "12029/12029 [==============================] - 351s 29ms/step - loss: 0.2877 - acc: 0.8754 - val_loss: 0.3704 - val_acc: 0.8337\n",
      "Epoch 10/100\n",
      "12029/12029 [==============================] - 333s 28ms/step - loss: 0.2667 - acc: 0.8851 - val_loss: 0.3214 - val_acc: 0.8521\n",
      "Epoch 11/100\n",
      "12029/12029 [==============================] - 304s 25ms/step - loss: 0.2361 - acc: 0.9001 - val_loss: 0.3624 - val_acc: 0.8455\n",
      "Epoch 12/100\n",
      "12029/12029 [==============================] - 329s 27ms/step - loss: 0.2198 - acc: 0.9089 - val_loss: 0.3397 - val_acc: 0.8582\n",
      "Epoch 13/100\n",
      "12029/12029 [==============================] - 350s 29ms/step - loss: 0.1921 - acc: 0.9197 - val_loss: 0.3371 - val_acc: 0.8634\n",
      "Epoch 14/100\n",
      "12029/12029 [==============================] - 329s 27ms/step - loss: 0.1811 - acc: 0.9249 - val_loss: 0.4076 - val_acc: 0.8540\n",
      "Epoch 15/100\n",
      "12029/12029 [==============================] - 324s 27ms/step - loss: 0.1598 - acc: 0.9348 - val_loss: 0.3939 - val_acc: 0.8507\n",
      "Epoch 16/100\n",
      "12029/12029 [==============================] - 303s 25ms/step - loss: 0.1455 - acc: 0.9416 - val_loss: 0.4169 - val_acc: 0.8526\n",
      "Epoch 17/100\n",
      "12029/12029 [==============================] - 314s 26ms/step - loss: 0.1353 - acc: 0.9447 - val_loss: 0.3947 - val_acc: 0.8596\n",
      "Epoch 18/100\n",
      "12029/12029 [==============================] - 328s 27ms/step - loss: 0.1187 - acc: 0.9530 - val_loss: 0.4355 - val_acc: 0.8587\n",
      "Epoch 19/100\n",
      "12029/12029 [==============================] - 302s 25ms/step - loss: 0.1075 - acc: 0.9589 - val_loss: 0.4253 - val_acc: 0.8610\n",
      "Epoch 20/100\n",
      "12029/12029 [==============================] - 300s 25ms/step - loss: 0.1049 - acc: 0.9593 - val_loss: 0.4135 - val_acc: 0.8724\n",
      "Epoch 21/100\n",
      "12029/12029 [==============================] - 312s 26ms/step - loss: 0.0881 - acc: 0.9656 - val_loss: 0.4861 - val_acc: 0.8648\n",
      "Epoch 22/100\n",
      "12029/12029 [==============================] - 321s 27ms/step - loss: 0.0775 - acc: 0.9696 - val_loss: 0.4600 - val_acc: 0.8709\n",
      "Epoch 23/100\n",
      "12029/12029 [==============================] - 284s 24ms/step - loss: 0.0801 - acc: 0.9697 - val_loss: 0.5041 - val_acc: 0.8573\n",
      "Epoch 24/100\n",
      "12029/12029 [==============================] - 320s 27ms/step - loss: 0.0720 - acc: 0.9741 - val_loss: 0.5309 - val_acc: 0.8676\n",
      "Epoch 25/100\n",
      "12029/12029 [==============================] - 424s 35ms/step - loss: 0.0661 - acc: 0.9759 - val_loss: 0.5467 - val_acc: 0.8648\n",
      "Epoch 26/100\n",
      "12029/12029 [==============================] - 331s 28ms/step - loss: 0.0627 - acc: 0.9770 - val_loss: 0.5555 - val_acc: 0.8549\n",
      "Epoch 27/100\n",
      "12029/12029 [==============================] - 291s 24ms/step - loss: 0.0540 - acc: 0.9805 - val_loss: 0.5692 - val_acc: 0.8563\n",
      "Epoch 28/100\n",
      "12029/12029 [==============================] - 290s 24ms/step - loss: 0.0702 - acc: 0.9736 - val_loss: 0.4959 - val_acc: 0.8662\n",
      "Epoch 29/100\n",
      "12029/12029 [==============================] - 330s 27ms/step - loss: 0.0530 - acc: 0.9819 - val_loss: 0.5206 - val_acc: 0.8577\n",
      "Epoch 30/100\n",
      "12029/12029 [==============================] - 323s 27ms/step - loss: 0.0476 - acc: 0.9816 - val_loss: 0.6872 - val_acc: 0.8530\n",
      "Epoch 31/100\n",
      "12029/12029 [==============================] - 337s 28ms/step - loss: 0.0510 - acc: 0.9815 - val_loss: 0.6223 - val_acc: 0.8601\n",
      "Epoch 32/100\n",
      "12029/12029 [==============================] - 292s 24ms/step - loss: 0.0351 - acc: 0.9871 - val_loss: 0.6743 - val_acc: 0.8686\n",
      "Epoch 33/100\n",
      "12029/12029 [==============================] - 302s 25ms/step - loss: 0.0460 - acc: 0.9825 - val_loss: 0.6783 - val_acc: 0.8639\n",
      "Epoch 34/100\n",
      "12029/12029 [==============================] - 298s 25ms/step - loss: 0.0515 - acc: 0.9811 - val_loss: 0.5812 - val_acc: 0.8667\n",
      "Epoch 35/100\n",
      "12029/12029 [==============================] - 284s 24ms/step - loss: 0.0308 - acc: 0.9898 - val_loss: 0.7257 - val_acc: 0.8615\n",
      "Epoch 36/100\n",
      "12029/12029 [==============================] - 902s 75ms/step - loss: 0.0424 - acc: 0.9849 - val_loss: 0.5921 - val_acc: 0.8582\n",
      "Epoch 37/100\n",
      "12029/12029 [==============================] - 278s 23ms/step - loss: 0.0403 - acc: 0.9867 - val_loss: 0.5813 - val_acc: 0.8719\n",
      "Epoch 38/100\n",
      "12029/12029 [==============================] - 257s 21ms/step - loss: 0.0424 - acc: 0.9847 - val_loss: 0.7872 - val_acc: 0.8530\n",
      "Epoch 39/100\n",
      "12029/12029 [==============================] - 333s 28ms/step - loss: 0.0380 - acc: 0.9859 - val_loss: 0.6540 - val_acc: 0.8582\n",
      "Epoch 40/100\n",
      "12029/12029 [==============================] - 311s 26ms/step - loss: 0.0307 - acc: 0.9877 - val_loss: 0.7822 - val_acc: 0.8601\n",
      "Epoch 41/100\n",
      "12029/12029 [==============================] - 305s 25ms/step - loss: 0.0320 - acc: 0.9890 - val_loss: 0.7492 - val_acc: 0.8676\n",
      "Epoch 42/100\n",
      "12029/12029 [==============================] - 313s 26ms/step - loss: 0.0377 - acc: 0.9855 - val_loss: 0.6214 - val_acc: 0.8582\n",
      "Epoch 43/100\n",
      "12029/12029 [==============================] - 324s 27ms/step - loss: 0.0233 - acc: 0.9925 - val_loss: 0.7625 - val_acc: 0.8587\n",
      "Epoch 44/100\n",
      "12029/12029 [==============================] - 342s 28ms/step - loss: 0.0398 - acc: 0.9852 - val_loss: 0.5650 - val_acc: 0.8643\n",
      "Epoch 45/100\n",
      "12029/12029 [==============================] - 331s 27ms/step - loss: 0.0221 - acc: 0.9927 - val_loss: 0.7504 - val_acc: 0.8610\n",
      "Epoch 46/100\n",
      "12029/12029 [==============================] - 299s 25ms/step - loss: 0.0255 - acc: 0.9907 - val_loss: 0.7554 - val_acc: 0.8610\n",
      "Epoch 47/100\n",
      "12029/12029 [==============================] - 339s 28ms/step - loss: 0.0288 - acc: 0.9897 - val_loss: 0.8647 - val_acc: 0.8493\n",
      "Epoch 48/100\n",
      "12029/12029 [==============================] - 318s 26ms/step - loss: 0.0360 - acc: 0.9874 - val_loss: 0.7574 - val_acc: 0.8648\n",
      "Epoch 49/100\n",
      "12029/12029 [==============================] - 314s 26ms/step - loss: 0.0309 - acc: 0.9893 - val_loss: 0.6415 - val_acc: 0.8658\n",
      "Epoch 50/100\n",
      "12029/12029 [==============================] - 329s 27ms/step - loss: 0.0286 - acc: 0.9909 - val_loss: 0.7357 - val_acc: 0.8733\n",
      "Epoch 51/100\n",
      "12029/12029 [==============================] - 305s 25ms/step - loss: 0.0174 - acc: 0.9938 - val_loss: 0.7993 - val_acc: 0.8592\n",
      "Epoch 52/100\n",
      "12029/12029 [==============================] - 317s 26ms/step - loss: 0.0356 - acc: 0.9874 - val_loss: 0.7133 - val_acc: 0.8502\n",
      "Epoch 53/100\n",
      "12029/12029 [==============================] - 310s 26ms/step - loss: 0.0346 - acc: 0.9883 - val_loss: 0.6973 - val_acc: 0.8672\n",
      "Epoch 54/100\n",
      "12029/12029 [==============================] - 349s 29ms/step - loss: 0.0266 - acc: 0.9901 - val_loss: 0.6755 - val_acc: 0.8615\n",
      "Epoch 55/100\n",
      "12029/12029 [==============================] - 337s 28ms/step - loss: 0.0277 - acc: 0.9904 - val_loss: 0.7711 - val_acc: 0.8742\n",
      "Epoch 56/100\n",
      "12029/12029 [==============================] - 342s 28ms/step - loss: 0.0254 - acc: 0.9910 - val_loss: 0.7768 - val_acc: 0.8479\n",
      "Epoch 57/100\n",
      "12029/12029 [==============================] - 292s 24ms/step - loss: 0.0216 - acc: 0.9918 - val_loss: 0.8977 - val_acc: 0.8610\n",
      "Epoch 58/100\n",
      "12029/12029 [==============================] - 290s 24ms/step - loss: 0.0343 - acc: 0.9878 - val_loss: 0.7191 - val_acc: 0.8691\n"
     ]
    },
    {
     "name": "stdout",
     "output_type": "stream",
     "text": [
      "Epoch 59/100\n",
      "12029/12029 [==============================] - 295s 25ms/step - loss: 0.0265 - acc: 0.9913 - val_loss: 0.7285 - val_acc: 0.8643\n",
      "Epoch 60/100\n",
      "12029/12029 [==============================] - 289s 24ms/step - loss: 0.0196 - acc: 0.9938 - val_loss: 0.7945 - val_acc: 0.8700\n",
      "Epoch 61/100\n",
      "12029/12029 [==============================] - 281s 23ms/step - loss: 0.0130 - acc: 0.9953 - val_loss: 0.9091 - val_acc: 0.8653\n",
      "Epoch 62/100\n",
      "12029/12029 [==============================] - 287s 24ms/step - loss: 0.0289 - acc: 0.9903 - val_loss: 0.8557 - val_acc: 0.8530\n",
      "Epoch 63/100\n",
      "12029/12029 [==============================] - 278s 23ms/step - loss: 0.0279 - acc: 0.9910 - val_loss: 0.8010 - val_acc: 0.8681\n",
      "Epoch 64/100\n",
      "12029/12029 [==============================] - 304s 25ms/step - loss: 0.0289 - acc: 0.9899 - val_loss: 0.6841 - val_acc: 0.8568\n",
      "Epoch 65/100\n",
      "12029/12029 [==============================] - 293s 24ms/step - loss: 0.0211 - acc: 0.9924 - val_loss: 0.7704 - val_acc: 0.8658\n",
      "Epoch 66/100\n",
      "12029/12029 [==============================] - 262s 22ms/step - loss: 0.0217 - acc: 0.9925 - val_loss: 0.7149 - val_acc: 0.8662\n",
      "Epoch 67/100\n",
      "12029/12029 [==============================] - 322s 27ms/step - loss: 0.0238 - acc: 0.9920 - val_loss: 0.8036 - val_acc: 0.8752\n",
      "Epoch 68/100\n",
      "12029/12029 [==============================] - 310s 26ms/step - loss: 0.0169 - acc: 0.9935 - val_loss: 0.9272 - val_acc: 0.8540\n",
      "Epoch 69/100\n",
      "12029/12029 [==============================] - 316s 26ms/step - loss: 0.0250 - acc: 0.9909 - val_loss: 0.7819 - val_acc: 0.8686\n",
      "Epoch 70/100\n",
      "12029/12029 [==============================] - 298s 25ms/step - loss: 0.0217 - acc: 0.9927 - val_loss: 0.8403 - val_acc: 0.8559\n",
      "Epoch 71/100\n",
      "12029/12029 [==============================] - 297s 25ms/step - loss: 0.0225 - acc: 0.9919 - val_loss: 0.8458 - val_acc: 0.8530\n",
      "Epoch 72/100\n",
      "12029/12029 [==============================] - 296s 25ms/step - loss: 0.0233 - acc: 0.9921 - val_loss: 0.8426 - val_acc: 0.8714\n",
      "Epoch 73/100\n",
      "12029/12029 [==============================] - 302s 25ms/step - loss: 0.0080 - acc: 0.9974 - val_loss: 0.9563 - val_acc: 0.8738\n",
      "Epoch 74/100\n",
      "12029/12029 [==============================] - 277s 23ms/step - loss: 0.0235 - acc: 0.9929 - val_loss: 0.7526 - val_acc: 0.8563\n",
      "Epoch 75/100\n",
      "12029/12029 [==============================] - 330s 27ms/step - loss: 0.0228 - acc: 0.9914 - val_loss: 0.8818 - val_acc: 0.8521\n",
      "Epoch 76/100\n",
      "12029/12029 [==============================] - 285s 24ms/step - loss: 0.0155 - acc: 0.9948 - val_loss: 1.0446 - val_acc: 0.8483\n",
      "Epoch 77/100\n",
      "12029/12029 [==============================] - 251s 21ms/step - loss: 0.0211 - acc: 0.9931 - val_loss: 0.8629 - val_acc: 0.8610\n",
      "Epoch 78/100\n",
      "12029/12029 [==============================] - 264s 22ms/step - loss: 0.0131 - acc: 0.9953 - val_loss: 0.9466 - val_acc: 0.8559\n",
      "Epoch 79/100\n",
      "12029/12029 [==============================] - 256s 21ms/step - loss: 0.0245 - acc: 0.9924 - val_loss: 0.7971 - val_acc: 0.8705\n",
      "Epoch 80/100\n",
      "12029/12029 [==============================] - 245s 20ms/step - loss: 0.0170 - acc: 0.9937 - val_loss: 0.8955 - val_acc: 0.8507\n",
      "Epoch 81/100\n",
      "12029/12029 [==============================] - 235s 20ms/step - loss: 0.0184 - acc: 0.9939 - val_loss: 0.8768 - val_acc: 0.8719\n",
      "Epoch 82/100\n",
      "12029/12029 [==============================] - 300s 25ms/step - loss: 0.0169 - acc: 0.9935 - val_loss: 0.8712 - val_acc: 0.8568\n",
      "Epoch 83/100\n",
      "12029/12029 [==============================] - 305s 25ms/step - loss: 0.0177 - acc: 0.9933 - val_loss: 0.8652 - val_acc: 0.8620\n",
      "Epoch 84/100\n",
      "12029/12029 [==============================] - 300s 25ms/step - loss: 0.0200 - acc: 0.9943 - val_loss: 0.7571 - val_acc: 0.8545\n",
      "Epoch 85/100\n",
      "12029/12029 [==============================] - 296s 25ms/step - loss: 0.0207 - acc: 0.9928 - val_loss: 0.7937 - val_acc: 0.8535\n",
      "Epoch 86/100\n",
      "12029/12029 [==============================] - 316s 26ms/step - loss: 0.0156 - acc: 0.9952 - val_loss: 1.0568 - val_acc: 0.8601\n",
      "Epoch 87/100\n",
      "12029/12029 [==============================] - 314s 26ms/step - loss: 0.0174 - acc: 0.9938 - val_loss: 0.9137 - val_acc: 0.8596\n",
      "Epoch 88/100\n",
      "12029/12029 [==============================] - 314s 26ms/step - loss: 0.0203 - acc: 0.9931 - val_loss: 0.8366 - val_acc: 0.8639\n",
      "Epoch 89/100\n",
      "12029/12029 [==============================] - 290s 24ms/step - loss: 0.0177 - acc: 0.9937 - val_loss: 0.7617 - val_acc: 0.8676\n",
      "Epoch 90/100\n",
      "12029/12029 [==============================] - 295s 25ms/step - loss: 0.0117 - acc: 0.9963 - val_loss: 1.0730 - val_acc: 0.8563\n",
      "Epoch 91/100\n",
      "12029/12029 [==============================] - 292s 24ms/step - loss: 0.0166 - acc: 0.9951 - val_loss: 0.9405 - val_acc: 0.8724\n",
      "Epoch 92/100\n",
      "12029/12029 [==============================] - 295s 24ms/step - loss: 0.0149 - acc: 0.9946 - val_loss: 0.8810 - val_acc: 0.8719\n",
      "Epoch 93/100\n",
      "12029/12029 [==============================] - 291s 24ms/step - loss: 0.0221 - acc: 0.9928 - val_loss: 0.9496 - val_acc: 0.8596\n",
      "Epoch 94/100\n",
      "12029/12029 [==============================] - 290s 24ms/step - loss: 0.0113 - acc: 0.9963 - val_loss: 1.0445 - val_acc: 0.8573\n",
      "Epoch 95/100\n",
      "12029/12029 [==============================] - 295s 25ms/step - loss: 0.0194 - acc: 0.9940 - val_loss: 0.8873 - val_acc: 0.8601\n",
      "Epoch 96/100\n",
      "12029/12029 [==============================] - 289s 24ms/step - loss: 0.0135 - acc: 0.9950 - val_loss: 0.9380 - val_acc: 0.8521\n",
      "Epoch 97/100\n",
      "12029/12029 [==============================] - 289s 24ms/step - loss: 0.0241 - acc: 0.9914 - val_loss: 0.7907 - val_acc: 0.8738\n",
      "Epoch 98/100\n",
      "12029/12029 [==============================] - 298s 25ms/step - loss: 0.0133 - acc: 0.9955 - val_loss: 0.8897 - val_acc: 0.8625\n",
      "Epoch 99/100\n",
      "12029/12029 [==============================] - 287s 24ms/step - loss: 0.0127 - acc: 0.9953 - val_loss: 0.8475 - val_acc: 0.8672\n",
      "Epoch 100/100\n",
      "12029/12029 [==============================] - 284s 24ms/step - loss: 0.0063 - acc: 0.9980 - val_loss: 0.9752 - val_acc: 0.8686\n",
      "Train loss: [0.1577392447219656, 0.9765404183154325]\n",
      "Test loss: [1.0894220110067756, 0.8530824659727783]\n"
     ]
    }
   ],
   "source": [
    "hist = model.fit(x=X_train, y=y_oh_train, validation_split=0.15, batch_size=BATCH_SIZE, epochs=EPOCHS)\n",
    "model.save('models/model_gender.h5')\n",
    "\n",
    "print('Train loss:', model.evaluate(X_train, y_oh_train, verbose=0))\n",
    "print('Test loss:', model.evaluate(X_test, y_oh_test, verbose=0))"
   ]
  },
  {
   "cell_type": "code",
   "execution_count": 9,
   "metadata": {},
   "outputs": [
    {
     "name": "stdout",
     "output_type": "stream",
     "text": [
      "Acurácia: 0.8530824659727783\n",
      "Matriz de de confusão:\n",
      " [[1037  138]\n",
      " [ 229 1094]]\n"
     ]
    }
   ],
   "source": [
    "y_pred = model.predict(X_test).argmax(axis=1)\n",
    "print('Acurácia:', accuracy_score(y_test, y_pred))\n",
    "print('Matriz de de confusão:\\n', confusion_matrix(y_test, y_pred))"
   ]
  },
  {
   "cell_type": "code",
   "execution_count": 10,
   "metadata": {},
   "outputs": [
    {
     "data": {
      "text/plain": [
       "Text(0.5,0,'epoch')"
      ]
     },
     "execution_count": 10,
     "metadata": {},
     "output_type": "execute_result"
    },
    {
     "data": {
      "image/png": "[encoded data removed]",
      "text/plain": [
       "<Figure size 432x288 with 1 Axes>"
      ]
     },
     "metadata": {
      "needs_background": "light"
     },
     "output_type": "display_data"
    }
   ],
   "source": [
    "plt.plot(hist.history['acc'])\n",
    "plt.title('Acurácia')\n",
    "plt.ylabel('acc')\n",
    "plt.xlabel('epoch')"
   ]
  },
  {
   "cell_type": "code",
   "execution_count": 11,
   "metadata": {},
   "outputs": [
    {
     "data": {
      "text/plain": [
       "Text(0.5,0,'epoch')"
      ]
     },
     "execution_count": 11,
     "metadata": {},
     "output_type": "execute_result"
    },
    {
     "data": {
      "image/png": "[encoded data removed]",
      "text/plain": [
       "<Figure size 432x288 with 1 Axes>"
      ]
     },
     "metadata": {
      "needs_background": "light"
     },
     "output_type": "display_data"
    }
   ],
   "source": [
    "plt.plot(hist.history['loss'])\n",
    "plt.title('Loss')\n",
    "plt.ylabel('loss')\n",
    "plt.xlabel('epoch')"
   ]
  },
  {
   "cell_type": "code",
   "execution_count": null,
   "metadata": {},
   "outputs": [],
   "source": []
  }
 ],
 "metadata": {
  "kernelspec": {
   "display_name": "Python 3",
   "language": "python",
   "name": "python3"
  },
  "language_info": {
   "codemirror_mode": {
    "name": "ipython",
    "version": 3
   },
   "file_extension": ".py",
   "mimetype": "text/x-python",
   "name": "python",
   "nbconvert_exporter": "python",
   "pygments_lexer": "ipython3",
   "version": "3.6.5"
  }
 },
 "nbformat": 4,
 "nbformat_minor": 2
}
