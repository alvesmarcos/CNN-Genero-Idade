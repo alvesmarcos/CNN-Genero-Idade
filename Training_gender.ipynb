{
 "cells": [
  {
   "cell_type": "markdown",
   "metadata": {},
   "source": [
    "## Treinamento Gênero\n",
    "\n",
    "Neste notebook treinar nossa rede para resolver o problema de classificação de gênero. Para isso iremos utilizar o framework [Keras](https://keras.io)"
   ]
  },
  {
   "cell_type": "markdown",
   "metadata": {},
   "source": [
    "## Dependências"
   ]
  },
  {
   "cell_type": "code",
   "execution_count": 11,
   "metadata": {},
   "outputs": [],
   "source": [
    "import numpy as np\n",
    "import matplotlib.pyplot as plt\n",
    "import _pickle as pkl\n",
    "from keras.models import Sequential, load_model\n",
    "from keras.layers import Dense, Dropout, Flatten, Activation\n",
    "from keras.layers import Conv2D, MaxPooling2D, BatchNormalization\n",
    "from keras.callbacks import EarlyStopping\n",
    "from keras.utils import to_categorical\n",
    "from keras.losses import categorical_crossentropy\n",
    "from keras.optimizers import SGD\n",
    "from keras.layers import normalization\n",
    "from sklearn.model_selection import train_test_split\n",
    "from sklearn.metrics import accuracy_score, confusion_matrix\n",
    "\n",
    "%matplotlib inline"
   ]
  },
  {
   "cell_type": "markdown",
   "metadata": {},
   "source": [
    "## Funções auxíliares\n",
    "\n",
    "Iremos carregar implementar algumas funções para leitura e formatação dos dados de entrada pré processados no notebook anterior."
   ]
  },
  {
   "cell_type": "code",
   "execution_count": 2,
   "metadata": {},
   "outputs": [],
   "source": [
    "DATA_NAME = ['data_%d' % i for i in range(5)]"
   ]
  },
  {
   "cell_type": "code",
   "execution_count": 3,
   "metadata": {},
   "outputs": [],
   "source": [
    "def load(name):\n",
    "    with open(name+'.pkl', 'rb') as f:\n",
    "        return pkl.load(f)\n",
    "\n",
    "def wrapper_data(name):\n",
    "    imagens = []\n",
    "    labels = []\n",
    "    for data in DATA_NAME:\n",
    "        obj = load(name+data)\n",
    "        for x, y in zip(obj['imagens'], obj['labels']):\n",
    "            imagens.append(x)\n",
    "            labels.append(y)\n",
    "    return np.array(imagens, dtype=np.float16),  np.array(labels, dtype=np.uint16) "
   ]
  },
  {
   "cell_type": "markdown",
   "metadata": {},
   "source": [
    "## Arquitetura\n",
    "\n",
    "![arch](images/gender_arch.png)"
   ]
  },
  {
   "cell_type": "markdown",
   "metadata": {},
   "source": [
    "### Modelo"
   ]
  },
  {
   "cell_type": "code",
   "execution_count": 4,
   "metadata": {},
   "outputs": [
    {
     "name": "stdout",
     "output_type": "stream",
     "text": [
      "_________________________________________________________________\n",
      "Layer (type)                 Output Shape              Param #   \n",
      "=================================================================\n",
      "conv2d_1 (Conv2D)            (None, 57, 57, 64)        1792      \n",
      "_________________________________________________________________\n",
      "batch_normalization_1 (Batch (None, 57, 57, 64)        256       \n",
      "_________________________________________________________________\n",
      "activation_1 (Activation)    (None, 57, 57, 64)        0         \n",
      "_________________________________________________________________\n",
      "max_pooling2d_1 (MaxPooling2 (None, 29, 29, 64)        0         \n",
      "_________________________________________________________________\n",
      "conv2d_2 (Conv2D)            (None, 29, 29, 128)       73856     \n",
      "_________________________________________________________________\n",
      "batch_normalization_2 (Batch (None, 29, 29, 128)       512       \n",
      "_________________________________________________________________\n",
      "activation_2 (Activation)    (None, 29, 29, 128)       0         \n",
      "_________________________________________________________________\n",
      "max_pooling2d_2 (MaxPooling2 (None, 15, 15, 128)       0         \n",
      "_________________________________________________________________\n",
      "conv2d_3 (Conv2D)            (None, 15, 15, 256)       295168    \n",
      "_________________________________________________________________\n",
      "activation_3 (Activation)    (None, 15, 15, 256)       0         \n",
      "_________________________________________________________________\n",
      "max_pooling2d_3 (MaxPooling2 (None, 8, 8, 256)         0         \n",
      "_________________________________________________________________\n",
      "flatten_1 (Flatten)          (None, 16384)             0         \n",
      "_________________________________________________________________\n",
      "dense_1 (Dense)              (None, 256)               4194560   \n",
      "_________________________________________________________________\n",
      "dropout_1 (Dropout)          (None, 256)               0         \n",
      "_________________________________________________________________\n",
      "dense_2 (Dense)              (None, 256)               65792     \n",
      "_________________________________________________________________\n",
      "dropout_2 (Dropout)          (None, 256)               0         \n",
      "_________________________________________________________________\n",
      "dense_3 (Dense)              (None, 2)                 514       \n",
      "=================================================================\n",
      "Total params: 4,632,450\n",
      "Trainable params: 4,632,066\n",
      "Non-trainable params: 384\n",
      "_________________________________________________________________\n",
      "None\n"
     ]
    }
   ],
   "source": [
    "model = Sequential()\n",
    "\n",
    "model.add(Conv2D(filters=64,\n",
    "                 kernel_size=(3,3),\n",
    "                 strides=(4,4),\n",
    "                 padding='same',\n",
    "                 input_shape=(227,227,3)))\n",
    "model.add(BatchNormalization(axis=3))\n",
    "model.add(Activation('relu'))\n",
    "model.add(MaxPooling2D(pool_size=(2,2), strides=(2,2), padding='same'))\n",
    "\n",
    "model.add(Conv2D(filters=128,\n",
    "                 kernel_size=(3,3),\n",
    "                 padding='same'))\n",
    "model.add(BatchNormalization(axis=3))\n",
    "model.add(Activation('relu'))\n",
    "model.add(MaxPooling2D(pool_size=(2,2), strides=(2,2), padding='same'))\n",
    "\n",
    "model.add(Conv2D(filters=256,\n",
    "                 kernel_size=(3,3),\n",
    "                 padding='same'))\n",
    "model.add(Activation('relu'))\n",
    "model.add(MaxPooling2D(pool_size=(2,2), strides=(2,2),  padding='same'))\n",
    "\n",
    "model.add(Flatten())\n",
    "\n",
    "model.add(Dense(256, activation='relu'))\n",
    "model.add(Dropout(0.5))\n",
    "model.add(Dense(256, activation='relu'))\n",
    "model.add(Dropout(0.5))\n",
    "model.add(Dense(2, activation='softmax'))\n",
    "\n",
    "print(model.summary())"
   ]
  },
  {
   "cell_type": "markdown",
   "metadata": {},
   "source": [
    "### Hiper-parâmetros"
   ]
  },
  {
   "cell_type": "code",
   "execution_count": 5,
   "metadata": {},
   "outputs": [],
   "source": [
    "BATCH_SIZE = 50\n",
    "EPOCHS = 30\n",
    "LR = 1e-3\n",
    "LR_DECAY = 1e-4 / EPOCHS\n",
    "MOMENTUM = 0.9"
   ]
  },
  {
   "cell_type": "code",
   "execution_count": 6,
   "metadata": {},
   "outputs": [],
   "source": [
    "model.compile(loss=categorical_crossentropy, \n",
    "              optimizer=SGD(lr=LR, decay=LR_DECAY, momentum=MOMENTUM),\n",
    "              metrics=['accuracy'])"
   ]
  },
  {
   "cell_type": "markdown",
   "metadata": {},
   "source": [
    "### Entrada "
   ]
  },
  {
   "cell_type": "code",
   "execution_count": 7,
   "metadata": {},
   "outputs": [
    {
     "data": {
      "text/plain": [
       "((14152, 227, 227, 3), (2498, 227, 227, 3), (14152, 2), (2498, 2))"
      ]
     },
     "execution_count": 7,
     "metadata": {},
     "output_type": "execute_result"
    }
   ],
   "source": [
    "# carrega dados\n",
    "X, y = wrapper_data('serializer/gender/')\n",
    "# separa dados em treinamento e teste\n",
    "X_train, X_test, y_train, y_test = train_test_split(X, y, test_size=0.15)\n",
    "# one hot encode\n",
    "y_oh_train = to_categorical(y_train, 2)\n",
    "y_oh_test = to_categorical(y_test, 2)\n",
    "\n",
    "X_train.shape, X_test.shape, y_oh_train.shape, y_oh_test.shape"
   ]
  },
  {
   "cell_type": "markdown",
   "metadata": {},
   "source": [
    "### Treino"
   ]
  },
  {
   "cell_type": "code",
   "execution_count": 9,
   "metadata": {},
   "outputs": [
    {
     "name": "stdout",
     "output_type": "stream",
     "text": [
      "Train on 12736 samples, validate on 1416 samples\n",
      "Epoch 1/30\n",
      "12736/12736 [==============================] - 215s 17ms/step - loss: 0.6676 - acc: 0.6109 - val_loss: 0.5791 - val_acc: 0.6942\n",
      "Epoch 2/30\n",
      "12736/12736 [==============================] - 191s 15ms/step - loss: 0.5819 - acc: 0.6916 - val_loss: 0.5401 - val_acc: 0.7267\n",
      "Epoch 3/30\n",
      "12736/12736 [==============================] - 183s 14ms/step - loss: 0.5325 - acc: 0.7317 - val_loss: 0.4889 - val_acc: 0.7655\n",
      "Epoch 4/30\n",
      "12736/12736 [==============================] - 206s 16ms/step - loss: 0.4830 - acc: 0.7672 - val_loss: 0.4665 - val_acc: 0.7895\n",
      "Epoch 5/30\n",
      "12736/12736 [==============================] - 210s 17ms/step - loss: 0.4322 - acc: 0.7973 - val_loss: 0.4407 - val_acc: 0.7853\n",
      "Epoch 6/30\n",
      "12736/12736 [==============================] - 211s 17ms/step - loss: 0.3928 - acc: 0.8240 - val_loss: 0.3999 - val_acc: 0.8178\n",
      "Epoch 7/30\n",
      "12736/12736 [==============================] - 222s 17ms/step - loss: 0.3537 - acc: 0.8437 - val_loss: 0.3725 - val_acc: 0.8390\n",
      "Epoch 8/30\n",
      "12736/12736 [==============================] - 205s 16ms/step - loss: 0.3221 - acc: 0.8629 - val_loss: 0.3666 - val_acc: 0.8355\n",
      "Epoch 9/30\n",
      "12736/12736 [==============================] - 217s 17ms/step - loss: 0.2993 - acc: 0.8704 - val_loss: 0.3308 - val_acc: 0.8644\n",
      "Epoch 10/30\n",
      "12736/12736 [==============================] - 209s 16ms/step - loss: 0.2641 - acc: 0.8918 - val_loss: 0.3376 - val_acc: 0.8524\n",
      "Epoch 11/30\n",
      "12736/12736 [==============================] - 202s 16ms/step - loss: 0.2349 - acc: 0.9041 - val_loss: 0.3565 - val_acc: 0.8552\n",
      "Epoch 12/30\n",
      "12736/12736 [==============================] - 212s 17ms/step - loss: 0.2206 - acc: 0.9094 - val_loss: 0.3569 - val_acc: 0.8510\n",
      "Epoch 13/30\n",
      "12736/12736 [==============================] - 220s 17ms/step - loss: 0.1929 - acc: 0.9223 - val_loss: 0.3108 - val_acc: 0.8792\n",
      "Epoch 14/30\n",
      "12736/12736 [==============================] - 196s 15ms/step - loss: 0.1709 - acc: 0.9331 - val_loss: 0.3912 - val_acc: 0.8559\n",
      "Epoch 15/30\n",
      "12736/12736 [==============================] - 194s 15ms/step - loss: 0.1519 - acc: 0.9418 - val_loss: 0.2922 - val_acc: 0.8849\n",
      "Epoch 16/30\n",
      "12736/12736 [==============================] - 190s 15ms/step - loss: 0.1415 - acc: 0.9461 - val_loss: 0.3290 - val_acc: 0.8806\n",
      "Epoch 17/30\n",
      "12736/12736 [==============================] - 252s 20ms/step - loss: 0.1246 - acc: 0.9525 - val_loss: 0.3106 - val_acc: 0.8912\n",
      "Epoch 18/30\n",
      "12736/12736 [==============================] - 244s 19ms/step - loss: 0.1109 - acc: 0.9580 - val_loss: 0.2969 - val_acc: 0.8948\n",
      "Epoch 19/30\n",
      "12736/12736 [==============================] - 263s 21ms/step - loss: 0.1004 - acc: 0.9608 - val_loss: 0.3345 - val_acc: 0.8877\n",
      "Epoch 20/30\n",
      "12736/12736 [==============================] - 265s 21ms/step - loss: 0.0880 - acc: 0.9664 - val_loss: 0.4541 - val_acc: 0.8566\n",
      "Epoch 21/30\n",
      "12736/12736 [==============================] - 250s 20ms/step - loss: 0.0797 - acc: 0.9708 - val_loss: 0.3746 - val_acc: 0.8905\n",
      "Epoch 22/30\n",
      "12736/12736 [==============================] - 233s 18ms/step - loss: 0.0729 - acc: 0.9743 - val_loss: 0.3502 - val_acc: 0.8870\n",
      "Epoch 23/30\n",
      "12736/12736 [==============================] - 267s 21ms/step - loss: 0.0662 - acc: 0.9775 - val_loss: 0.3598 - val_acc: 0.8976\n",
      "Epoch 24/30\n",
      "12736/12736 [==============================] - 248s 19ms/step - loss: 0.0577 - acc: 0.9792 - val_loss: 0.3962 - val_acc: 0.8955\n",
      "Epoch 25/30\n",
      "12736/12736 [==============================] - 248s 19ms/step - loss: 0.0531 - acc: 0.9821 - val_loss: 0.3721 - val_acc: 0.8955\n",
      "Epoch 26/30\n",
      "12736/12736 [==============================] - 257s 20ms/step - loss: 0.0533 - acc: 0.9806 - val_loss: 0.4515 - val_acc: 0.8814\n",
      "Epoch 27/30\n",
      "12736/12736 [==============================] - 254s 20ms/step - loss: 0.0523 - acc: 0.9801 - val_loss: 0.4459 - val_acc: 0.8898\n",
      "Epoch 28/30\n",
      "12736/12736 [==============================] - 231s 18ms/step - loss: 0.0443 - acc: 0.9847 - val_loss: 0.3985 - val_acc: 0.8948\n",
      "Epoch 29/30\n",
      "12736/12736 [==============================] - 268s 21ms/step - loss: 0.0407 - acc: 0.9860 - val_loss: 0.4009 - val_acc: 0.8934\n",
      "Epoch 30/30\n",
      "12736/12736 [==============================] - 274s 22ms/step - loss: 0.0385 - acc: 0.9862 - val_loss: 0.4201 - val_acc: 0.8948\n",
      "Train loss: [0.053877052672153654, 0.9871396269078575]\n",
      "Test loss: [0.4256620485848223, 0.8843074459567654]\n"
     ]
    }
   ],
   "source": [
    "hist = model.fit(x=X_train, y=y_oh_train, validation_split=0.1, batch_size=BATCH_SIZE, epochs=EPOCHS)\n",
    "model.save('models/model_gender.h5')\n",
    "\n",
    "print('Train loss:', model.evaluate(X_train, y_oh_train, verbose=0))\n",
    "print('Test loss:', model.evaluate(X_test, y_oh_test, verbose=0))"
   ]
  },
  {
   "cell_type": "code",
   "execution_count": 15,
   "metadata": {},
   "outputs": [
    {
     "name": "stdout",
     "output_type": "stream",
     "text": [
      "Acurácia: 0.8843074459567654\n",
      "Matriz de de confusão:\n",
      " [[1033  137]\n",
      " [ 152 1176]]\n"
     ]
    }
   ],
   "source": [
    "y_pred = model.predict(X_test).argmax(axis=1)\n",
    "print('Acurácia:', accuracy_score(y_test, y_pred))\n",
    "print('Matriz de de confusão:\\n', confusion_matrix(y_test, y_pred))"
   ]
  },
  {
   "cell_type": "code",
   "execution_count": 24,
   "metadata": {},
   "outputs": [
    {
     "data": {
      "text/plain": [
       "Text(0.5,0,'epoch')"
      ]
     },
     "execution_count": 24,
     "metadata": {},
     "output_type": "execute_result"
    },
    {
     "data": {
      "image/png": "[encoded data removed]",
      "text/plain": [
       "<Figure size 432x288 with 1 Axes>"
      ]
     },
     "metadata": {
      "needs_background": "light"
     },
     "output_type": "display_data"
    }
   ],
   "source": [
    "plt.plot(hist.history['loss'])\n",
    "plt.title('model loss')\n",
    "plt.ylabel('loss')\n",
    "plt.xlabel('epoch')"
   ]
  },
  {
   "cell_type": "code",
   "execution_count": 26,
   "metadata": {},
   "outputs": [
    {
     "data": {
      "text/plain": [
       "Text(0.5,0,'epoch')"
      ]
     },
     "execution_count": 26,
     "metadata": {},
     "output_type": "execute_result"
    },
    {
     "data": {
      "image/png": "[encoded data removed]",
      "text/plain": [
       "<Figure size 432x288 with 1 Axes>"
      ]
     },
     "metadata": {
      "needs_background": "light"
     },
     "output_type": "display_data"
    }
   ],
   "source": [
    "plt.plot(hist.history['acc'])\n",
    "plt.title('model acc')\n",
    "plt.ylabel('acc')\n",
    "plt.xlabel('epoch')"
   ]
  }
 ],
 "metadata": {
  "kernelspec": {
   "display_name": "Python 3",
   "language": "python",
   "name": "python3"
  },
  "language_info": {
   "codemirror_mode": {
    "name": "ipython",
    "version": 3
   },
   "file_extension": ".py",
   "mimetype": "text/x-python",
   "name": "python",
   "nbconvert_exporter": "python",
   "pygments_lexer": "ipython3",
   "version": "3.6.5"
  }
 },
 "nbformat": 4,
 "nbformat_minor": 2
}
