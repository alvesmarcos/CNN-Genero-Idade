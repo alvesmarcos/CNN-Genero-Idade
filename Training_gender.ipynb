{
 "cells": [
  {
   "cell_type": "markdown",
   "metadata": {},
   "source": [
    "## Treinamento Gênero\n",
    "\n",
    "Neste notebook treinar nossa rede para resolver o problema de classificação de gênero. Para isso iremos utilizar o framework [Keras](https://keras.io)"
   ]
  },
  {
   "cell_type": "markdown",
   "metadata": {},
   "source": [
    "## Dependências"
   ]
  },
  {
   "cell_type": "code",
   "execution_count": 1,
   "metadata": {},
   "outputs": [
    {
     "name": "stderr",
     "output_type": "stream",
     "text": [
      "Using TensorFlow backend.\n"
     ]
    }
   ],
   "source": [
    "import numpy as np\n",
    "import matplotlib.pyplot as plt\n",
    "import _pickle as pkl\n",
    "from keras.models import Sequential, load_model\n",
    "from keras.layers import Dense, Dropout, Flatten, Activation\n",
    "from keras.layers import Conv2D, MaxPooling2D, BatchNormalization\n",
    "from keras.callbacks import EarlyStopping\n",
    "from keras.utils import to_categorical\n",
    "from keras.losses import categorical_crossentropy\n",
    "from keras.optimizers import Adam\n",
    "from keras.layers import normalization\n",
    "from sklearn.model_selection import train_test_split\n",
    "from sklearn.metrics import accuracy_score, confusion_matrix\n",
    "\n",
    "%matplotlib inline"
   ]
  },
  {
   "cell_type": "markdown",
   "metadata": {},
   "source": [
    "## Funções auxíliares\n",
    "\n",
    "Iremos carregar implementar algumas funções para leitura e formatação dos dados de entrada pré processados no notebook anterior."
   ]
  },
  {
   "cell_type": "code",
   "execution_count": 2,
   "metadata": {},
   "outputs": [],
   "source": [
    "DATA_NAME = ['data_%d' % i for i in range(5)]"
   ]
  },
  {
   "cell_type": "code",
   "execution_count": 3,
   "metadata": {},
   "outputs": [],
   "source": [
    "def load(name):\n",
    "    with open(name+'.pkl', 'rb') as f:\n",
    "        return pkl.load(f)\n",
    "\n",
    "def wrapper_data(name):\n",
    "    imagens = []\n",
    "    labels = []\n",
    "    for data in DATA_NAME:\n",
    "        obj = load(name+data)\n",
    "        for x, y in zip(obj['imagens'], obj['labels']):\n",
    "            imagens.append(x)\n",
    "            labels.append(y)\n",
    "    return np.array(imagens, dtype=np.float16),  np.array(labels, dtype=np.uint16) "
   ]
  },
  {
   "cell_type": "markdown",
   "metadata": {},
   "source": [
    "## Arquitetura\n",
    "\n",
    "![arch](images/gender_arch.png)"
   ]
  },
  {
   "cell_type": "markdown",
   "metadata": {},
   "source": [
    "### Modelo"
   ]
  },
  {
   "cell_type": "code",
   "execution_count": 4,
   "metadata": {},
   "outputs": [
    {
     "name": "stdout",
     "output_type": "stream",
     "text": [
      "_________________________________________________________________\n",
      "Layer (type)                 Output Shape              Param #   \n",
      "=================================================================\n",
      "conv2d_1 (Conv2D)            (None, 57, 57, 64)        4864      \n",
      "_________________________________________________________________\n",
      "batch_normalization_1 (Batch (None, 57, 57, 64)        256       \n",
      "_________________________________________________________________\n",
      "activation_1 (Activation)    (None, 57, 57, 64)        0         \n",
      "_________________________________________________________________\n",
      "max_pooling2d_1 (MaxPooling2 (None, 29, 29, 64)        0         \n",
      "_________________________________________________________________\n",
      "conv2d_2 (Conv2D)            (None, 29, 29, 128)       204928    \n",
      "_________________________________________________________________\n",
      "batch_normalization_2 (Batch (None, 29, 29, 128)       512       \n",
      "_________________________________________________________________\n",
      "activation_2 (Activation)    (None, 29, 29, 128)       0         \n",
      "_________________________________________________________________\n",
      "max_pooling2d_2 (MaxPooling2 (None, 15, 15, 128)       0         \n",
      "_________________________________________________________________\n",
      "conv2d_3 (Conv2D)            (None, 15, 15, 256)       295168    \n",
      "_________________________________________________________________\n",
      "activation_3 (Activation)    (None, 15, 15, 256)       0         \n",
      "_________________________________________________________________\n",
      "max_pooling2d_3 (MaxPooling2 (None, 8, 8, 256)         0         \n",
      "_________________________________________________________________\n",
      "flatten_1 (Flatten)          (None, 16384)             0         \n",
      "_________________________________________________________________\n",
      "dense_1 (Dense)              (None, 256)               4194560   \n",
      "_________________________________________________________________\n",
      "dropout_1 (Dropout)          (None, 256)               0         \n",
      "_________________________________________________________________\n",
      "dense_2 (Dense)              (None, 256)               65792     \n",
      "_________________________________________________________________\n",
      "dropout_2 (Dropout)          (None, 256)               0         \n",
      "_________________________________________________________________\n",
      "dense_3 (Dense)              (None, 2)                 514       \n",
      "=================================================================\n",
      "Total params: 4,766,594\n",
      "Trainable params: 4,766,210\n",
      "Non-trainable params: 384\n",
      "_________________________________________________________________\n",
      "None\n"
     ]
    }
   ],
   "source": [
    "model = Sequential()\n",
    "\n",
    "model.add(Conv2D(filters=64,\n",
    "                 kernel_size=(5,5),\n",
    "                 padding='same',\n",
    "                 strides=(4,4),\n",
    "                 input_shape=(227,227,3)))\n",
    "model.add(BatchNormalization(axis=3))\n",
    "model.add(Activation('relu'))\n",
    "model.add(MaxPooling2D(pool_size=(2,2), strides=(2,2), padding='same'))\n",
    "\n",
    "model.add(Conv2D(filters=128,\n",
    "                 kernel_size=(5,5),\n",
    "                 padding='same'))\n",
    "model.add(BatchNormalization(axis=3))\n",
    "model.add(Activation('relu'))\n",
    "model.add(MaxPooling2D(pool_size=(2,2), strides=(2,2), padding='same'))\n",
    "\n",
    "model.add(Conv2D(filters=256,\n",
    "                 kernel_size=(3,3),\n",
    "                 padding='same'))\n",
    "model.add(Activation('relu'))\n",
    "model.add(MaxPooling2D(pool_size=(2,2), strides=(2,2),  padding='same'))\n",
    "\n",
    "model.add(Flatten())\n",
    "\n",
    "model.add(Dense(256, activation='relu'))\n",
    "model.add(Dropout(rate=0.5))\n",
    "model.add(Dense(256, activation='relu'))\n",
    "model.add(Dropout(rate=0.5))\n",
    "model.add(Dense(2, activation='softmax'))\n",
    "\n",
    "print(model.summary())"
   ]
  },
  {
   "cell_type": "markdown",
   "metadata": {},
   "source": [
    "### Hiper-parâmetros"
   ]
  },
  {
   "cell_type": "code",
   "execution_count": 5,
   "metadata": {},
   "outputs": [],
   "source": [
    "BATCH_SIZE = 64\n",
    "EPOCHS = 30"
   ]
  },
  {
   "cell_type": "code",
   "execution_count": 6,
   "metadata": {},
   "outputs": [],
   "source": [
    "model.compile(loss=categorical_crossentropy, optimizer='adam', metrics=['accuracy'])"
   ]
  },
  {
   "cell_type": "markdown",
   "metadata": {},
   "source": [
    "### Entrada "
   ]
  },
  {
   "cell_type": "code",
   "execution_count": 7,
   "metadata": {},
   "outputs": [
    {
     "data": {
      "text/plain": [
       "((14152, 227, 227, 3), (2498, 227, 227, 3), (14152, 2), (2498, 2))"
      ]
     },
     "execution_count": 7,
     "metadata": {},
     "output_type": "execute_result"
    }
   ],
   "source": [
    "# carrega dados\n",
    "X, y = wrapper_data('serializer/gender/')\n",
    "# separa dados em treinamento e teste\n",
    "X_train, X_test, y_train, y_test = train_test_split(X, y, test_size=0.15)\n",
    "# one hot encode\n",
    "y_oh_train = to_categorical(y_train, 2)\n",
    "y_oh_test = to_categorical(y_test, 2)\n",
    "\n",
    "X_train.shape, X_test.shape, y_oh_train.shape, y_oh_test.shape"
   ]
  },
  {
   "cell_type": "markdown",
   "metadata": {},
   "source": [
    "### Treino"
   ]
  },
  {
   "cell_type": "code",
   "execution_count": 8,
   "metadata": {},
   "outputs": [
    {
     "name": "stdout",
     "output_type": "stream",
     "text": [
      "Train on 12736 samples, validate on 1416 samples\n",
      "Epoch 1/30\n",
      "12736/12736 [==============================] - 295s 23ms/step - loss: 0.7346 - acc: 0.5993 - val_loss: 0.6191 - val_acc: 0.6511\n",
      "Epoch 2/30\n",
      "12736/12736 [==============================] - 269s 21ms/step - loss: 0.5911 - acc: 0.6795 - val_loss: 0.5693 - val_acc: 0.6886\n",
      "Epoch 3/30\n",
      "12736/12736 [==============================] - 259s 20ms/step - loss: 0.5323 - acc: 0.7292 - val_loss: 0.5084 - val_acc: 0.7387\n",
      "Epoch 4/30\n",
      "12736/12736 [==============================] - 261s 20ms/step - loss: 0.4780 - acc: 0.7666 - val_loss: 0.4915 - val_acc: 0.7514\n",
      "Epoch 5/30\n",
      "12736/12736 [==============================] - 274s 22ms/step - loss: 0.4166 - acc: 0.8115 - val_loss: 0.4199 - val_acc: 0.8037\n",
      "Epoch 6/30\n",
      "12736/12736 [==============================] - 274s 22ms/step - loss: 0.3773 - acc: 0.8285 - val_loss: 0.4106 - val_acc: 0.8121\n",
      "Epoch 7/30\n",
      "12736/12736 [==============================] - 270s 21ms/step - loss: 0.3433 - acc: 0.8484 - val_loss: 0.4334 - val_acc: 0.8121\n",
      "Epoch 8/30\n",
      "12736/12736 [==============================] - 261s 21ms/step - loss: 0.3093 - acc: 0.8650 - val_loss: 0.3873 - val_acc: 0.8199\n",
      "Epoch 9/30\n",
      "12736/12736 [==============================] - 262s 21ms/step - loss: 0.2792 - acc: 0.8813 - val_loss: 0.3515 - val_acc: 0.8355\n",
      "Epoch 10/30\n",
      "12736/12736 [==============================] - 263s 21ms/step - loss: 0.2653 - acc: 0.8844 - val_loss: 0.3243 - val_acc: 0.8510\n",
      "Epoch 11/30\n",
      "12736/12736 [==============================] - 260s 20ms/step - loss: 0.2320 - acc: 0.9010 - val_loss: 0.3478 - val_acc: 0.8383\n",
      "Epoch 12/30\n",
      "12736/12736 [==============================] - 262s 21ms/step - loss: 0.2109 - acc: 0.9088 - val_loss: 0.3480 - val_acc: 0.8531\n",
      "Epoch 13/30\n",
      "12736/12736 [==============================] - 261s 21ms/step - loss: 0.2063 - acc: 0.9135 - val_loss: 0.3864 - val_acc: 0.8475\n",
      "Epoch 14/30\n",
      "12736/12736 [==============================] - 262s 21ms/step - loss: 0.1737 - acc: 0.9278 - val_loss: 0.3493 - val_acc: 0.8538\n",
      "Epoch 15/30\n",
      "12736/12736 [==============================] - 262s 21ms/step - loss: 0.1602 - acc: 0.9351 - val_loss: 0.3601 - val_acc: 0.8573\n",
      "Epoch 16/30\n",
      "12736/12736 [==============================] - 261s 20ms/step - loss: 0.1474 - acc: 0.9387 - val_loss: 0.3791 - val_acc: 0.8637\n",
      "Epoch 17/30\n",
      "12736/12736 [==============================] - 263s 21ms/step - loss: 0.1364 - acc: 0.9462 - val_loss: 0.3899 - val_acc: 0.8453\n",
      "Epoch 18/30\n",
      "12736/12736 [==============================] - 262s 21ms/step - loss: 0.1245 - acc: 0.9501 - val_loss: 0.4154 - val_acc: 0.8517\n",
      "Epoch 19/30\n",
      "12736/12736 [==============================] - 262s 21ms/step - loss: 0.1117 - acc: 0.9563 - val_loss: 0.4925 - val_acc: 0.8545\n",
      "Epoch 20/30\n",
      "12736/12736 [==============================] - 262s 21ms/step - loss: 0.1051 - acc: 0.9569 - val_loss: 0.4172 - val_acc: 0.8453\n",
      "Epoch 21/30\n",
      "12736/12736 [==============================] - 265s 21ms/step - loss: 0.0946 - acc: 0.9633 - val_loss: 0.4767 - val_acc: 0.8411\n",
      "Epoch 22/30\n",
      "12736/12736 [==============================] - 263s 21ms/step - loss: 0.0810 - acc: 0.9675 - val_loss: 0.5096 - val_acc: 0.8686\n",
      "Epoch 23/30\n",
      "12736/12736 [==============================] - 267s 21ms/step - loss: 0.0803 - acc: 0.9688 - val_loss: 0.5821 - val_acc: 0.8446\n",
      "Epoch 24/30\n",
      "12736/12736 [==============================] - 264s 21ms/step - loss: 0.0788 - acc: 0.9693 - val_loss: 0.4885 - val_acc: 0.8644\n",
      "Epoch 25/30\n",
      "12736/12736 [==============================] - 263s 21ms/step - loss: 0.0707 - acc: 0.9746 - val_loss: 0.5118 - val_acc: 0.8715\n",
      "Epoch 26/30\n",
      "12736/12736 [==============================] - 264s 21ms/step - loss: 0.0673 - acc: 0.9741 - val_loss: 0.5062 - val_acc: 0.8694\n",
      "Epoch 27/30\n",
      "12736/12736 [==============================] - 446s 35ms/step - loss: 0.0609 - acc: 0.9769 - val_loss: 0.5518 - val_acc: 0.8750\n",
      "Epoch 28/30\n",
      "12736/12736 [==============================] - 497s 39ms/step - loss: 0.0609 - acc: 0.9766 - val_loss: 0.5177 - val_acc: 0.8764\n",
      "Epoch 29/30\n",
      "12736/12736 [==============================] - 364s 29ms/step - loss: 0.0532 - acc: 0.9797 - val_loss: 0.5243 - val_acc: 0.8708\n",
      "Epoch 30/30\n",
      "12736/12736 [==============================] - 227s 18ms/step - loss: 0.0529 - acc: 0.9790 - val_loss: 0.5847 - val_acc: 0.8609\n",
      "Train loss: [0.13490597380945377, 0.9571085358959864]\n",
      "Test loss: [0.558826345451895, 0.855484387510008]\n"
     ]
    }
   ],
   "source": [
    "hist = model.fit(x=X_train, y=y_oh_train, validation_split=0.1, batch_size=BATCH_SIZE, epochs=EPOCHS)\n",
    "model.save('models/model_gender.h5')\n",
    "\n",
    "print('Train loss:', model.evaluate(X_train, y_oh_train, verbose=0))\n",
    "print('Test loss:', model.evaluate(X_test, y_oh_test, verbose=0))"
   ]
  },
  {
   "cell_type": "code",
   "execution_count": 9,
   "metadata": {},
   "outputs": [
    {
     "name": "stdout",
     "output_type": "stream",
     "text": [
      "Acurácia: 0.855484387510008\n",
      "Matriz de de confusão:\n",
      " [[ 979  167]\n",
      " [ 194 1158]]\n"
     ]
    }
   ],
   "source": [
    "y_pred = model.predict(X_test).argmax(axis=1)\n",
    "print('Acurácia:', accuracy_score(y_test, y_pred))\n",
    "print('Matriz de de confusão:\\n', confusion_matrix(y_test, y_pred))"
   ]
  },
  {
   "cell_type": "code",
   "execution_count": 10,
   "metadata": {},
   "outputs": [
    {
     "data": {
      "text/plain": [
       "Text(0.5,0,'epoch')"
      ]
     },
     "execution_count": 10,
     "metadata": {},
     "output_type": "execute_result"
    },
    {
     "data": {
      "image/png": "[encoded data removed]",
      "text/plain": [
       "<Figure size 432x288 with 1 Axes>"
      ]
     },
     "metadata": {
      "needs_background": "light"
     },
     "output_type": "display_data"
    }
   ],
   "source": [
    "plt.plot(hist.history['acc'])\n",
    "plt.title('Acurácia')\n",
    "plt.ylabel('acc')\n",
    "plt.xlabel('epoch')"
   ]
  },
  {
   "cell_type": "code",
   "execution_count": 11,
   "metadata": {},
   "outputs": [
    {
     "data": {
      "text/plain": [
       "Text(0.5,0,'epoch')"
      ]
     },
     "execution_count": 11,
     "metadata": {},
     "output_type": "execute_result"
    },
    {
     "data": {
      "image/png": "[encoded data removed]",
      "text/plain": [
       "<Figure size 432x288 with 1 Axes>"
      ]
     },
     "metadata": {
      "needs_background": "light"
     },
     "output_type": "display_data"
    }
   ],
   "source": [
    "plt.plot(hist.history['loss'])\n",
    "plt.title('Loss')\n",
    "plt.ylabel('loss')\n",
    "plt.xlabel('epoch')"
   ]
  }
 ],
 "metadata": {
  "kernelspec": {
   "display_name": "Python 3",
   "language": "python",
   "name": "python3"
  },
  "language_info": {
   "codemirror_mode": {
    "name": "ipython",
    "version": 3
   },
   "file_extension": ".py",
   "mimetype": "text/x-python",
   "name": "python",
   "nbconvert_exporter": "python",
   "pygments_lexer": "ipython3",
   "version": "3.6.5"
  }
 },
 "nbformat": 4,
 "nbformat_minor": 2
}
