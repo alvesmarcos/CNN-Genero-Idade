{
 "cells": [
  {
   "cell_type": "markdown",
   "metadata": {},
   "source": [
    "## Treinamento de Idade do Gênero Masculino\n",
    "\n",
    "Neste notebook treinar nossa rede para resolver o problema de classificação de idade considerando apenas o gênero masculino. Para isso iremos utilizar o framework [Keras](https://keras.io)"
   ]
  },
  {
   "cell_type": "markdown",
   "metadata": {},
   "source": [
    "## Dependências"
   ]
  },
  {
   "cell_type": "code",
   "execution_count": 1,
   "metadata": {},
   "outputs": [
    {
     "name": "stderr",
     "output_type": "stream",
     "text": [
      "Using TensorFlow backend.\n"
     ]
    }
   ],
   "source": [
    "import numpy as np\n",
    "import matplotlib.pyplot as plt\n",
    "import _pickle as pkl\n",
    "from keras.models import Sequential, load_model\n",
    "from keras.layers import Dense, Dropout, Flatten, Activation\n",
    "from keras.layers import Conv2D, MaxPooling2D, BatchNormalization\n",
    "from keras.callbacks import EarlyStopping\n",
    "from keras.utils import to_categorical\n",
    "from keras.losses import categorical_crossentropy\n",
    "from keras.layers import normalization\n",
    "from sklearn.model_selection import train_test_split\n",
    "from sklearn.metrics import accuracy_score, confusion_matrix\n",
    "\n",
    "%matplotlib inline"
   ]
  },
  {
   "cell_type": "markdown",
   "metadata": {},
   "source": [
    "## Funções auxíliares\n",
    "\n",
    "Iremos carregar implementar algumas funções para leitura e formatação dos dados de entrada pré processados no notebook anterior."
   ]
  },
  {
   "cell_type": "code",
   "execution_count": 2,
   "metadata": {},
   "outputs": [],
   "source": [
    "DATA_NAME = ['data_%d' % i for i in range(5)]"
   ]
  },
  {
   "cell_type": "code",
   "execution_count": 3,
   "metadata": {},
   "outputs": [],
   "source": [
    "def load(name):\n",
    "    with open(name+'.pkl', 'rb') as f:\n",
    "        return pkl.load(f)\n",
    "\n",
    "def wrapper_data(name):\n",
    "    imagens = []\n",
    "    labels = []\n",
    "    for data in DATA_NAME:\n",
    "        obj = load(name+data)\n",
    "        for x, y in zip(obj['imagens'], obj['labels']):\n",
    "            imagens.append(x)\n",
    "            labels.append(y)\n",
    "    return np.array(imagens, dtype=np.float16),  np.array(labels, dtype=np.uint16) "
   ]
  },
  {
   "cell_type": "markdown",
   "metadata": {},
   "source": [
    "## Arquitetura\n",
    "\n",
    "![arch](images/age_arch.png)"
   ]
  },
  {
   "cell_type": "markdown",
   "metadata": {},
   "source": [
    "### Modelo"
   ]
  },
  {
   "cell_type": "code",
   "execution_count": 4,
   "metadata": {},
   "outputs": [
    {
     "name": "stdout",
     "output_type": "stream",
     "text": [
      "_________________________________________________________________\n",
      "Layer (type)                 Output Shape              Param #   \n",
      "=================================================================\n",
      "conv2d_1 (Conv2D)            (None, 57, 57, 64)        4864      \n",
      "_________________________________________________________________\n",
      "batch_normalization_1 (Batch (None, 57, 57, 64)        256       \n",
      "_________________________________________________________________\n",
      "activation_1 (Activation)    (None, 57, 57, 64)        0         \n",
      "_________________________________________________________________\n",
      "max_pooling2d_1 (MaxPooling2 (None, 29, 29, 64)        0         \n",
      "_________________________________________________________________\n",
      "conv2d_2 (Conv2D)            (None, 29, 29, 128)       204928    \n",
      "_________________________________________________________________\n",
      "batch_normalization_2 (Batch (None, 29, 29, 128)       512       \n",
      "_________________________________________________________________\n",
      "activation_2 (Activation)    (None, 29, 29, 128)       0         \n",
      "_________________________________________________________________\n",
      "max_pooling2d_2 (MaxPooling2 (None, 15, 15, 128)       0         \n",
      "_________________________________________________________________\n",
      "conv2d_3 (Conv2D)            (None, 15, 15, 256)       295168    \n",
      "_________________________________________________________________\n",
      "activation_3 (Activation)    (None, 15, 15, 256)       0         \n",
      "_________________________________________________________________\n",
      "max_pooling2d_3 (MaxPooling2 (None, 8, 8, 256)         0         \n",
      "_________________________________________________________________\n",
      "flatten_1 (Flatten)          (None, 16384)             0         \n",
      "_________________________________________________________________\n",
      "dense_1 (Dense)              (None, 256)               4194560   \n",
      "_________________________________________________________________\n",
      "dropout_1 (Dropout)          (None, 256)               0         \n",
      "_________________________________________________________________\n",
      "dense_2 (Dense)              (None, 256)               65792     \n",
      "_________________________________________________________________\n",
      "dropout_2 (Dropout)          (None, 256)               0         \n",
      "_________________________________________________________________\n",
      "dense_3 (Dense)              (None, 2)                 514       \n",
      "=================================================================\n",
      "Total params: 4,766,594\n",
      "Trainable params: 4,766,210\n",
      "Non-trainable params: 384\n",
      "_________________________________________________________________\n",
      "None\n"
     ]
    }
   ],
   "source": [
    "model = Sequential()\n",
    "\n",
    "model.add(Conv2D(filters=64,\n",
    "                 kernel_size=(5,5),\n",
    "                 padding='same',\n",
    "                 strides=(4,4),\n",
    "                 input_shape=(227,227,3)))\n",
    "model.add(BatchNormalization(axis=3))\n",
    "model.add(Activation('relu'))\n",
    "model.add(MaxPooling2D(pool_size=(2,2), strides=(2,2), padding='same'))\n",
    "\n",
    "model.add(Conv2D(filters=128,\n",
    "                 kernel_size=(5,5),\n",
    "                 padding='same'))\n",
    "model.add(BatchNormalization(axis=3))\n",
    "model.add(Activation('relu'))\n",
    "model.add(MaxPooling2D(pool_size=(2,2), strides=(2,2), padding='same'))\n",
    "\n",
    "model.add(Conv2D(filters=256,\n",
    "                 kernel_size=(3,3),\n",
    "                 padding='same'))\n",
    "model.add(Activation('relu'))\n",
    "model.add(MaxPooling2D(pool_size=(2,2), strides=(2,2),  padding='same'))\n",
    "\n",
    "model.add(Flatten())\n",
    "\n",
    "model.add(Dense(256, activation='relu'))\n",
    "model.add(Dropout(rate=0.5))\n",
    "model.add(Dense(256, activation='relu'))\n",
    "model.add(Dropout(rate=0.5))\n",
    "model.add(Dense(8, activation='softmax'))\n",
    "\n",
    "print(model.summary())"
   ]
  },
  {
   "cell_type": "markdown",
   "metadata": {},
   "source": [
    "### Hiper-parâmetros"
   ]
  },
  {
   "cell_type": "code",
   "execution_count": 5,
   "metadata": {},
   "outputs": [],
   "source": [
    "BATCH_SIZE = 64\n",
    "EPOCHS = 30"
   ]
  },
  {
   "cell_type": "code",
   "execution_count": 6,
   "metadata": {},
   "outputs": [],
   "source": [
    "model.compile(loss=categorical_crossentropy, optimizer='adam', metrics=['accuracy'])"
   ]
  },
  {
   "cell_type": "markdown",
   "metadata": {},
   "source": [
    "### Entrada "
   ]
  },
  {
   "cell_type": "code",
   "execution_count": 7,
   "metadata": {},
   "outputs": [
    {
     "data": {
      "text/plain": [
       "((6229, 227, 227, 3), (1100, 227, 227, 3), (6229, 8), (1100, 8))"
      ]
     },
     "execution_count": 7,
     "metadata": {},
     "output_type": "execute_result"
    }
   ],
   "source": [
    "# carrega dados\n",
    "X, y = wrapper_data('serializer/age-male/')\n",
    "# separa dados em treinamento e teste\n",
    "X_train, X_test, y_train, y_test = train_test_split(X, y, test_size=0.15)\n",
    "\n",
    "y_oh_train = to_categorical(y_train, 8)\n",
    "y_oh_test = to_categorical(y_test, 8)\n",
    "\n",
    "X_train.shape, X_test.shape, y_oh_train.shape, y_oh_test.shape"
   ]
  },
  {
   "cell_type": "markdown",
   "metadata": {},
   "source": [
    "### Treino"
   ]
  },
  {
   "cell_type": "code",
   "execution_count": 8,
   "metadata": {},
   "outputs": [
    {
     "name": "stdout",
     "output_type": "stream",
     "text": [
      "Train on 5606 samples, validate on 623 samples\n",
      "Epoch 1/30\n",
      "5606/5606 [==============================] - 162s 29ms/step - loss: 2.0991 - acc: 0.2965 - val_loss: 1.7739 - val_acc: 0.3740\n",
      "Epoch 2/30\n",
      "5606/5606 [==============================] - 112s 20ms/step - loss: 1.6273 - acc: 0.3876 - val_loss: 2.0937 - val_acc: 0.3483\n",
      "Epoch 3/30\n",
      "5606/5606 [==============================] - 111s 20ms/step - loss: 1.4250 - acc: 0.4527 - val_loss: 1.4704 - val_acc: 0.4783\n",
      "Epoch 4/30\n",
      "5606/5606 [==============================] - 113s 20ms/step - loss: 1.2266 - acc: 0.5289 - val_loss: 1.2136 - val_acc: 0.5634\n",
      "Epoch 5/30\n",
      "5606/5606 [==============================] - 110s 20ms/step - loss: 1.1001 - acc: 0.5867 - val_loss: 1.2096 - val_acc: 0.5618\n",
      "Epoch 6/30\n",
      "5606/5606 [==============================] - 107s 19ms/step - loss: 1.0091 - acc: 0.6170 - val_loss: 1.1585 - val_acc: 0.5843\n",
      "Epoch 7/30\n",
      "5606/5606 [==============================] - 113s 20ms/step - loss: 0.8976 - acc: 0.6564 - val_loss: 1.1466 - val_acc: 0.5923\n",
      "Epoch 8/30\n",
      "5606/5606 [==============================] - 109s 19ms/step - loss: 0.8272 - acc: 0.6791 - val_loss: 1.1478 - val_acc: 0.6100\n",
      "Epoch 9/30\n",
      "5606/5606 [==============================] - 1038s 185ms/step - loss: 0.7108 - acc: 0.7301 - val_loss: 1.2580 - val_acc: 0.5602\n",
      "Epoch 10/30\n",
      "5606/5606 [==============================] - 108s 19ms/step - loss: 0.6424 - acc: 0.7574 - val_loss: 1.2356 - val_acc: 0.5955\n",
      "Epoch 11/30\n",
      "5606/5606 [==============================] - 109s 19ms/step - loss: 0.5548 - acc: 0.7893 - val_loss: 1.1339 - val_acc: 0.6533\n",
      "Epoch 12/30\n",
      "5606/5606 [==============================] - 118s 21ms/step - loss: 0.4904 - acc: 0.8161 - val_loss: 1.1043 - val_acc: 0.6645\n",
      "Epoch 13/30\n",
      "5606/5606 [==============================] - 117s 21ms/step - loss: 0.4247 - acc: 0.8503 - val_loss: 1.3329 - val_acc: 0.6356\n",
      "Epoch 14/30\n",
      "5606/5606 [==============================] - 109s 20ms/step - loss: 0.3876 - acc: 0.8580 - val_loss: 1.3307 - val_acc: 0.6132\n",
      "Epoch 15/30\n",
      "5606/5606 [==============================] - 107s 19ms/step - loss: 0.3529 - acc: 0.8685 - val_loss: 1.4028 - val_acc: 0.6324\n",
      "Epoch 16/30\n",
      "5606/5606 [==============================] - 2372s 423ms/step - loss: 0.2927 - acc: 0.8917 - val_loss: 1.4659 - val_acc: 0.6356\n",
      "Epoch 17/30\n",
      "5606/5606 [==============================] - 108s 19ms/step - loss: 0.2553 - acc: 0.9058 - val_loss: 1.7266 - val_acc: 0.6292\n",
      "Epoch 18/30\n",
      "5606/5606 [==============================] - 109s 20ms/step - loss: 0.2221 - acc: 0.9220 - val_loss: 1.6872 - val_acc: 0.6501\n",
      "Epoch 19/30\n",
      "5606/5606 [==============================] - 118s 21ms/step - loss: 0.2030 - acc: 0.9267 - val_loss: 1.6543 - val_acc: 0.6677\n",
      "Epoch 20/30\n",
      "5606/5606 [==============================] - 117s 21ms/step - loss: 0.1728 - acc: 0.9397 - val_loss: 1.6019 - val_acc: 0.6340\n",
      "Epoch 21/30\n",
      "5606/5606 [==============================] - 117s 21ms/step - loss: 0.2158 - acc: 0.9258 - val_loss: 1.6471 - val_acc: 0.6437\n",
      "Epoch 22/30\n",
      "5606/5606 [==============================] - 114s 20ms/step - loss: 0.1747 - acc: 0.9399 - val_loss: 1.5875 - val_acc: 0.6517\n",
      "Epoch 23/30\n",
      "5606/5606 [==============================] - 114s 20ms/step - loss: 0.1719 - acc: 0.9422 - val_loss: 1.5650 - val_acc: 0.6581\n",
      "Epoch 24/30\n",
      "5606/5606 [==============================] - 117s 21ms/step - loss: 0.1199 - acc: 0.9574 - val_loss: 1.7329 - val_acc: 0.6308\n",
      "Epoch 25/30\n",
      "5606/5606 [==============================] - 121s 22ms/step - loss: 0.1411 - acc: 0.9509 - val_loss: 1.6133 - val_acc: 0.6613\n",
      "Epoch 26/30\n",
      "5606/5606 [==============================] - 112s 20ms/step - loss: 0.1428 - acc: 0.9520 - val_loss: 1.8144 - val_acc: 0.6645\n",
      "Epoch 27/30\n",
      "5606/5606 [==============================] - 119s 21ms/step - loss: 0.1391 - acc: 0.9538 - val_loss: 1.5109 - val_acc: 0.6709\n",
      "Epoch 28/30\n",
      "5606/5606 [==============================] - 124s 22ms/step - loss: 0.1223 - acc: 0.9581 - val_loss: 1.7862 - val_acc: 0.6613\n",
      "Epoch 29/30\n",
      "5606/5606 [==============================] - 120s 21ms/step - loss: 0.1069 - acc: 0.9636 - val_loss: 1.8532 - val_acc: 0.6437\n",
      "Epoch 30/30\n",
      "5606/5606 [==============================] - 125s 22ms/step - loss: 0.1343 - acc: 0.9545 - val_loss: 1.9297 - val_acc: 0.6260\n",
      "Train loss: [0.24638314590128377, 0.9462192969043558]\n",
      "Test loss: [1.8772629954598166, 0.628181817965074]\n"
     ]
    }
   ],
   "source": [
    "hist = model.fit(x=X_train, y=y_oh_train, validation_split=0.1, batch_size=BATCH_SIZE, epochs=EPOCHS)\n",
    "model.save('models/model_age_male.h5')\n",
    "\n",
    "print('Train loss:', model.evaluate(X_train, y_oh_train, verbose=0))\n",
    "print('Test loss:', model.evaluate(X_test, y_oh_test, verbose=0))"
   ]
  },
  {
   "cell_type": "code",
   "execution_count": 9,
   "metadata": {},
   "outputs": [
    {
     "name": "stdout",
     "output_type": "stream",
     "text": [
      "Acurácia: 0.6281818181818182\n",
      "Matriz de de confusão:\n",
      " [[ 81  19   0   2   0   3   0   2]\n",
      " [ 23  93  10   8   2   3   0   0]\n",
      " [  8  31  67  16  13   5   0   0]\n",
      " [  0   1   4  53  14  11   2   0]\n",
      " [  1   4   4  23 223  47   6   6]\n",
      " [  2   1   2  14  29 123   9   5]\n",
      " [  1   0   1   4  12  20  19  11]\n",
      " [  1   0   0   2   7  14   6  32]]\n"
     ]
    }
   ],
   "source": [
    "y_pred = model.predict(X_test).argmax(axis=1)\n",
    "print('Acurácia:', accuracy_score(y_test, y_pred))\n",
    "print('Matriz de de confusão:\\n', confusion_matrix(y_test, y_pred))"
   ]
  },
  {
   "cell_type": "code",
   "execution_count": 10,
   "metadata": {},
   "outputs": [
    {
     "data": {
      "text/plain": [
       "Text(0.5,0,'epoch')"
      ]
     },
     "execution_count": 10,
     "metadata": {},
     "output_type": "execute_result"
    },
    {
     "data": {
      "image/png": "[encoded data removed]",
      "text/plain": [
       "<Figure size 432x288 with 1 Axes>"
      ]
     },
     "metadata": {
      "needs_background": "light"
     },
     "output_type": "display_data"
    }
   ],
   "source": [
    "plt.plot(hist.history['acc'])\n",
    "plt.title('Acurácia')\n",
    "plt.ylabel('acc')\n",
    "plt.xlabel('epoch')"
   ]
  },
  {
   "cell_type": "code",
   "execution_count": 11,
   "metadata": {},
   "outputs": [
    {
     "data": {
      "text/plain": [
       "Text(0.5,0,'epoch')"
      ]
     },
     "execution_count": 11,
     "metadata": {},
     "output_type": "execute_result"
    },
    {
     "data": {
      "image/png": "[encoded data removed]",
      "text/plain": [
       "<Figure size 432x288 with 1 Axes>"
      ]
     },
     "metadata": {
      "needs_background": "light"
     },
     "output_type": "display_data"
    }
   ],
   "source": [
    "plt.plot(hist.history['loss'])\n",
    "plt.title('Loss')\n",
    "plt.ylabel('loss')\n",
    "plt.xlabel('epoch')"
   ]
  }
 ],
 "metadata": {
  "kernelspec": {
   "display_name": "Python 3",
   "language": "python",
   "name": "python3"
  },
  "language_info": {
   "codemirror_mode": {
    "name": "ipython",
    "version": 3
   },
   "file_extension": ".py",
   "mimetype": "text/x-python",
   "name": "python",
   "nbconvert_exporter": "python",
   "pygments_lexer": "ipython3",
   "version": "3.6.5"
  }
 },
 "nbformat": 4,
 "nbformat_minor": 2
}
