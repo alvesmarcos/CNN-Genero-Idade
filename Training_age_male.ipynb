{
 "cells": [
  {
   "cell_type": "markdown",
   "metadata": {},
   "source": [
    "## Treinamento de Idade do Gênero Masculino\n",
    "\n",
    "Neste notebook treinar nossa rede para resolver o problema de classificação de idade considerando apenas o gênero masculino. Para isso iremos utilizar o framework [Keras](https://keras.io)"
   ]
  },
  {
   "cell_type": "markdown",
   "metadata": {},
   "source": [
    "## Dependências"
   ]
  },
  {
   "cell_type": "code",
   "execution_count": 1,
   "metadata": {},
   "outputs": [
    {
     "name": "stderr",
     "output_type": "stream",
     "text": [
      "Using TensorFlow backend.\n"
     ]
    }
   ],
   "source": [
    "import numpy as np\n",
    "import matplotlib.pyplot as plt\n",
    "import _pickle as pkl\n",
    "from keras.models import Sequential, load_model\n",
    "from keras.layers import Dense, Dropout, Flatten, Activation\n",
    "from keras.layers import Conv2D, MaxPooling2D, BatchNormalization\n",
    "from keras.callbacks import EarlyStopping\n",
    "from keras.utils import to_categorical\n",
    "from keras.losses import categorical_crossentropy\n",
    "from keras.layers import normalization\n",
    "from sklearn.model_selection import train_test_split\n",
    "from sklearn.metrics import accuracy_score, confusion_matrix\n",
    "\n",
    "%matplotlib inline"
   ]
  },
  {
   "cell_type": "markdown",
   "metadata": {},
   "source": [
    "## Funções auxíliares\n",
    "\n",
    "Iremos carregar implementar algumas funções para leitura e formatação dos dados de entrada pré processados no notebook anterior."
   ]
  },
  {
   "cell_type": "code",
   "execution_count": 2,
   "metadata": {},
   "outputs": [],
   "source": [
    "DATA_NAME = ['data_%d' % i for i in range(5)]"
   ]
  },
  {
   "cell_type": "code",
   "execution_count": 3,
   "metadata": {},
   "outputs": [],
   "source": [
    "def load(name):\n",
    "    with open(name+'.pkl', 'rb') as f:\n",
    "        return pkl.load(f)\n",
    "\n",
    "def wrapper_data(name):\n",
    "    imagens = []\n",
    "    labels = []\n",
    "    for data in DATA_NAME:\n",
    "        obj = load(name+data)\n",
    "        for x, y in zip(obj['imagens'], obj['labels']):\n",
    "            imagens.append(x)\n",
    "            labels.append(y)\n",
    "    return np.array(imagens, dtype=np.float16),  np.array(labels, dtype=np.uint16) "
   ]
  },
  {
   "cell_type": "markdown",
   "metadata": {},
   "source": [
    "## Arquitetura\n",
    "\n",
    "![arch](images/test1.png)"
   ]
  },
  {
   "cell_type": "markdown",
   "metadata": {},
   "source": [
    "### Modelo"
   ]
  },
  {
   "cell_type": "code",
   "execution_count": 4,
   "metadata": {},
   "outputs": [
    {
     "name": "stdout",
     "output_type": "stream",
     "text": [
      "_________________________________________________________________\n",
      "Layer (type)                 Output Shape              Param #   \n",
      "=================================================================\n",
      "conv2d_1 (Conv2D)            (None, 57, 57, 64)        4864      \n",
      "_________________________________________________________________\n",
      "batch_normalization_1 (Batch (None, 57, 57, 64)        256       \n",
      "_________________________________________________________________\n",
      "activation_1 (Activation)    (None, 57, 57, 64)        0         \n",
      "_________________________________________________________________\n",
      "max_pooling2d_1 (MaxPooling2 (None, 29, 29, 64)        0         \n",
      "_________________________________________________________________\n",
      "conv2d_2 (Conv2D)            (None, 29, 29, 128)       204928    \n",
      "_________________________________________________________________\n",
      "batch_normalization_2 (Batch (None, 29, 29, 128)       512       \n",
      "_________________________________________________________________\n",
      "activation_2 (Activation)    (None, 29, 29, 128)       0         \n",
      "_________________________________________________________________\n",
      "max_pooling2d_2 (MaxPooling2 (None, 15, 15, 128)       0         \n",
      "_________________________________________________________________\n",
      "conv2d_3 (Conv2D)            (None, 15, 15, 256)       295168    \n",
      "_________________________________________________________________\n",
      "activation_3 (Activation)    (None, 15, 15, 256)       0         \n",
      "_________________________________________________________________\n",
      "max_pooling2d_3 (MaxPooling2 (None, 8, 8, 256)         0         \n",
      "_________________________________________________________________\n",
      "flatten_1 (Flatten)          (None, 16384)             0         \n",
      "_________________________________________________________________\n",
      "dense_1 (Dense)              (None, 256)               4194560   \n",
      "_________________________________________________________________\n",
      "dropout_1 (Dropout)          (None, 256)               0         \n",
      "_________________________________________________________________\n",
      "dense_2 (Dense)              (None, 256)               65792     \n",
      "_________________________________________________________________\n",
      "dropout_2 (Dropout)          (None, 256)               0         \n",
      "_________________________________________________________________\n",
      "dense_3 (Dense)              (None, 8)                 2056      \n",
      "=================================================================\n",
      "Total params: 4,768,136\n",
      "Trainable params: 4,767,752\n",
      "Non-trainable params: 384\n",
      "_________________________________________________________________\n",
      "None\n"
     ]
    }
   ],
   "source": [
    "model = Sequential()\n",
    "\n",
    "model.add(Conv2D(filters=64,\n",
    "                 kernel_size=(5,5),\n",
    "                 padding='same',\n",
    "                 strides=(4,4),\n",
    "                 input_shape=(227,227,3)))\n",
    "model.add(BatchNormalization(axis=3))\n",
    "model.add(Activation('relu'))\n",
    "model.add(MaxPooling2D(pool_size=(2,2), strides=(2,2), padding='same'))\n",
    "\n",
    "model.add(Conv2D(filters=128,\n",
    "                 kernel_size=(5,5),\n",
    "                 padding='same'))\n",
    "model.add(BatchNormalization(axis=3))\n",
    "model.add(Activation('relu'))\n",
    "model.add(MaxPooling2D(pool_size=(2,2), strides=(2,2), padding='same'))\n",
    "\n",
    "model.add(Conv2D(filters=256,\n",
    "                 kernel_size=(3,3),\n",
    "                 padding='same'))\n",
    "model.add(Activation('relu'))\n",
    "model.add(MaxPooling2D(pool_size=(2,2), strides=(2,2),  padding='same'))\n",
    "\n",
    "model.add(Flatten())\n",
    "\n",
    "model.add(Dense(256, activation='relu'))\n",
    "model.add(Dropout(rate=0.5))\n",
    "model.add(Dense(256, activation='relu'))\n",
    "model.add(Dropout(rate=0.5))\n",
    "model.add(Dense(8, activation='softmax'))\n",
    "\n",
    "print(model.summary())"
   ]
  },
  {
   "cell_type": "markdown",
   "metadata": {},
   "source": [
    "### Hiper-parâmetros"
   ]
  },
  {
   "cell_type": "code",
   "execution_count": 5,
   "metadata": {},
   "outputs": [],
   "source": [
    "BATCH_SIZE = 64\n",
    "EPOCHS = 100"
   ]
  },
  {
   "cell_type": "code",
   "execution_count": 6,
   "metadata": {},
   "outputs": [],
   "source": [
    "model.compile(loss=categorical_crossentropy, optimizer='adam', metrics=['accuracy'])"
   ]
  },
  {
   "cell_type": "markdown",
   "metadata": {},
   "source": [
    "### Entrada "
   ]
  },
  {
   "cell_type": "code",
   "execution_count": 7,
   "metadata": {},
   "outputs": [
    {
     "data": {
      "text/plain": [
       "((6229, 227, 227, 3), (1100, 227, 227, 3), (6229, 8), (1100, 8))"
      ]
     },
     "execution_count": 7,
     "metadata": {},
     "output_type": "execute_result"
    }
   ],
   "source": [
    "# carrega dados\n",
    "X, y = wrapper_data('serializer/age-male/')\n",
    "# separa dados em treinamento e teste\n",
    "X_train, X_test, y_train, y_test = train_test_split(X, y, test_size=0.15)\n",
    "\n",
    "y_oh_train = to_categorical(y_train, 8)\n",
    "y_oh_test = to_categorical(y_test, 8)\n",
    "\n",
    "X_train.shape, X_test.shape, y_oh_train.shape, y_oh_test.shape"
   ]
  },
  {
   "cell_type": "markdown",
   "metadata": {},
   "source": [
    "### Treino"
   ]
  },
  {
   "cell_type": "code",
   "execution_count": 8,
   "metadata": {
    "scrolled": false
   },
   "outputs": [
    {
     "name": "stdout",
     "output_type": "stream",
     "text": [
      "Train on 5606 samples, validate on 623 samples\n",
      "Epoch 1/100\n",
      "5606/5606 [==============================] - 168s 30ms/step - loss: 2.0150 - acc: 0.2827 - val_loss: 1.7778 - val_acc: 0.3451\n",
      "Epoch 2/100\n",
      "5606/5606 [==============================] - 197s 35ms/step - loss: 1.7870 - acc: 0.3375 - val_loss: 1.6871 - val_acc: 0.4238\n",
      "Epoch 3/100\n",
      "5606/5606 [==============================] - 109s 19ms/step - loss: 1.5440 - acc: 0.4167 - val_loss: 1.3988 - val_acc: 0.4671\n",
      "Epoch 4/100\n",
      "5606/5606 [==============================] - 103s 18ms/step - loss: 1.3762 - acc: 0.4663 - val_loss: 1.3174 - val_acc: 0.5169\n",
      "Epoch 5/100\n",
      "5606/5606 [==============================] - 105s 19ms/step - loss: 1.2681 - acc: 0.5161 - val_loss: 1.2445 - val_acc: 0.5538\n",
      "Epoch 6/100\n",
      "5606/5606 [==============================] - 114s 20ms/step - loss: 1.1877 - acc: 0.5471 - val_loss: 1.1406 - val_acc: 0.5778\n",
      "Epoch 7/100\n",
      "5606/5606 [==============================] - 111s 20ms/step - loss: 1.1052 - acc: 0.5735 - val_loss: 1.0868 - val_acc: 0.5955\n",
      "Epoch 8/100\n",
      "5606/5606 [==============================] - 110s 20ms/step - loss: 1.0186 - acc: 0.6115 - val_loss: 1.0953 - val_acc: 0.6116\n",
      "Epoch 9/100\n",
      "5606/5606 [==============================] - 110s 20ms/step - loss: 0.9705 - acc: 0.6258 - val_loss: 1.0307 - val_acc: 0.6324\n",
      "Epoch 10/100\n",
      "5606/5606 [==============================] - 112s 20ms/step - loss: 0.8948 - acc: 0.6575 - val_loss: 1.0071 - val_acc: 0.6116\n",
      "Epoch 11/100\n",
      "5606/5606 [==============================] - 116s 21ms/step - loss: 0.8652 - acc: 0.6652 - val_loss: 1.0450 - val_acc: 0.6469\n",
      "Epoch 12/100\n",
      "5606/5606 [==============================] - 114s 20ms/step - loss: 0.8167 - acc: 0.6912 - val_loss: 0.9894 - val_acc: 0.6324\n",
      "Epoch 13/100\n",
      "5606/5606 [==============================] - 114s 20ms/step - loss: 0.7476 - acc: 0.7137 - val_loss: 0.9652 - val_acc: 0.6613\n",
      "Epoch 14/100\n",
      "5606/5606 [==============================] - 119s 21ms/step - loss: 0.6986 - acc: 0.7308 - val_loss: 1.0251 - val_acc: 0.6469\n",
      "Epoch 15/100\n",
      "5606/5606 [==============================] - 116s 21ms/step - loss: 0.6872 - acc: 0.7367 - val_loss: 0.9633 - val_acc: 0.6709\n",
      "Epoch 16/100\n",
      "5606/5606 [==============================] - 116s 21ms/step - loss: 0.6180 - acc: 0.7626 - val_loss: 0.9181 - val_acc: 0.6726\n",
      "Epoch 17/100\n",
      "5606/5606 [==============================] - 116s 21ms/step - loss: 0.5886 - acc: 0.7793 - val_loss: 1.0618 - val_acc: 0.6629\n",
      "Epoch 18/100\n",
      "5606/5606 [==============================] - 115s 20ms/step - loss: 0.5676 - acc: 0.7861 - val_loss: 0.9677 - val_acc: 0.6742\n",
      "Epoch 19/100\n",
      "5606/5606 [==============================] - 115s 21ms/step - loss: 0.5066 - acc: 0.8073 - val_loss: 0.9498 - val_acc: 0.6886\n",
      "Epoch 20/100\n",
      "5606/5606 [==============================] - 116s 21ms/step - loss: 0.5033 - acc: 0.8132 - val_loss: 1.0018 - val_acc: 0.6902\n",
      "Epoch 21/100\n",
      "5606/5606 [==============================] - 117s 21ms/step - loss: 0.4809 - acc: 0.8179 - val_loss: 0.9638 - val_acc: 0.6838\n",
      "Epoch 22/100\n",
      "5606/5606 [==============================] - 118s 21ms/step - loss: 0.4433 - acc: 0.8327 - val_loss: 1.0611 - val_acc: 0.6918\n",
      "Epoch 23/100\n",
      "5606/5606 [==============================] - 119s 21ms/step - loss: 0.4273 - acc: 0.8421 - val_loss: 1.1396 - val_acc: 0.7014\n",
      "Epoch 24/100\n",
      "5606/5606 [==============================] - 118s 21ms/step - loss: 0.4212 - acc: 0.8475 - val_loss: 1.0946 - val_acc: 0.6918\n",
      "Epoch 25/100\n",
      "5606/5606 [==============================] - 119s 21ms/step - loss: 0.4097 - acc: 0.8475 - val_loss: 1.1769 - val_acc: 0.6918\n",
      "Epoch 26/100\n",
      "5606/5606 [==============================] - 118s 21ms/step - loss: 0.3486 - acc: 0.8634 - val_loss: 1.2228 - val_acc: 0.6966\n",
      "Epoch 27/100\n",
      "5606/5606 [==============================] - 119s 21ms/step - loss: 0.3605 - acc: 0.8614 - val_loss: 1.1181 - val_acc: 0.7014\n",
      "Epoch 28/100\n",
      "5606/5606 [==============================] - 118s 21ms/step - loss: 0.3461 - acc: 0.8707 - val_loss: 1.0939 - val_acc: 0.6806\n",
      "Epoch 29/100\n",
      "5606/5606 [==============================] - 120s 21ms/step - loss: 0.3504 - acc: 0.8691 - val_loss: 1.0900 - val_acc: 0.6918\n",
      "Epoch 30/100\n",
      "5606/5606 [==============================] - 118s 21ms/step - loss: 0.3363 - acc: 0.8733 - val_loss: 1.1640 - val_acc: 0.6886\n",
      "Epoch 31/100\n",
      "5606/5606 [==============================] - 118s 21ms/step - loss: 0.2855 - acc: 0.8930 - val_loss: 1.2560 - val_acc: 0.6870\n",
      "Epoch 32/100\n",
      "5606/5606 [==============================] - 118s 21ms/step - loss: 0.2922 - acc: 0.8901 - val_loss: 1.3259 - val_acc: 0.6998\n",
      "Epoch 33/100\n",
      "5606/5606 [==============================] - 118s 21ms/step - loss: 0.2838 - acc: 0.8956 - val_loss: 1.3829 - val_acc: 0.6950\n",
      "Epoch 34/100\n",
      "5606/5606 [==============================] - 118s 21ms/step - loss: 0.3030 - acc: 0.8905 - val_loss: 1.2121 - val_acc: 0.7095\n",
      "Epoch 35/100\n",
      "5606/5606 [==============================] - 122s 22ms/step - loss: 0.2592 - acc: 0.9033 - val_loss: 1.2622 - val_acc: 0.7127\n",
      "Epoch 36/100\n",
      "5606/5606 [==============================] - 122s 22ms/step - loss: 0.2458 - acc: 0.9153 - val_loss: 1.3159 - val_acc: 0.7063\n",
      "Epoch 37/100\n",
      "5606/5606 [==============================] - 124s 22ms/step - loss: 0.2506 - acc: 0.9064 - val_loss: 1.3205 - val_acc: 0.6982\n",
      "Epoch 38/100\n",
      "5606/5606 [==============================] - 119s 21ms/step - loss: 0.2179 - acc: 0.9160 - val_loss: 1.4041 - val_acc: 0.7047\n",
      "Epoch 39/100\n",
      "5606/5606 [==============================] - 124s 22ms/step - loss: 0.2225 - acc: 0.9165 - val_loss: 1.3626 - val_acc: 0.7111\n",
      "Epoch 40/100\n",
      "5606/5606 [==============================] - 122s 22ms/step - loss: 0.2308 - acc: 0.9130 - val_loss: 1.3686 - val_acc: 0.6950\n",
      "Epoch 41/100\n",
      "5606/5606 [==============================] - 120s 21ms/step - loss: 0.2030 - acc: 0.9272 - val_loss: 1.5585 - val_acc: 0.6742\n",
      "Epoch 42/100\n",
      "5606/5606 [==============================] - 118s 21ms/step - loss: 0.2107 - acc: 0.9229 - val_loss: 1.4204 - val_acc: 0.6854\n",
      "Epoch 43/100\n",
      "5606/5606 [==============================] - 119s 21ms/step - loss: 0.2315 - acc: 0.9174 - val_loss: 1.3920 - val_acc: 0.6982\n",
      "Epoch 44/100\n",
      "5606/5606 [==============================] - 118s 21ms/step - loss: 0.2232 - acc: 0.9203 - val_loss: 1.4270 - val_acc: 0.6934\n",
      "Epoch 45/100\n",
      "5606/5606 [==============================] - 120s 21ms/step - loss: 0.1809 - acc: 0.9335 - val_loss: 1.5080 - val_acc: 0.7063\n",
      "Epoch 46/100\n",
      "5606/5606 [==============================] - 120s 21ms/step - loss: 0.2042 - acc: 0.9253 - val_loss: 1.5631 - val_acc: 0.7030\n",
      "Epoch 47/100\n",
      "5606/5606 [==============================] - 125s 22ms/step - loss: 0.1784 - acc: 0.9358 - val_loss: 1.4268 - val_acc: 0.7063\n",
      "Epoch 48/100\n",
      "5606/5606 [==============================] - 119s 21ms/step - loss: 0.1982 - acc: 0.9306 - val_loss: 1.4565 - val_acc: 0.6982\n",
      "Epoch 49/100\n",
      "5606/5606 [==============================] - 120s 21ms/step - loss: 0.1856 - acc: 0.9344 - val_loss: 1.5127 - val_acc: 0.7127\n",
      "Epoch 50/100\n",
      "5606/5606 [==============================] - 119s 21ms/step - loss: 0.1981 - acc: 0.9372 - val_loss: 1.5421 - val_acc: 0.6998\n",
      "Epoch 51/100\n",
      "5606/5606 [==============================] - 119s 21ms/step - loss: 0.1958 - acc: 0.9313 - val_loss: 1.4448 - val_acc: 0.6998\n",
      "Epoch 52/100\n",
      "5606/5606 [==============================] - 118s 21ms/step - loss: 0.1848 - acc: 0.9335 - val_loss: 1.5260 - val_acc: 0.7079\n",
      "Epoch 53/100\n",
      "5606/5606 [==============================] - 119s 21ms/step - loss: 0.1544 - acc: 0.9429 - val_loss: 1.5504 - val_acc: 0.7111\n",
      "Epoch 54/100\n",
      "5606/5606 [==============================] - 118s 21ms/step - loss: 0.1664 - acc: 0.9447 - val_loss: 1.4883 - val_acc: 0.6998\n",
      "Epoch 55/100\n",
      "5606/5606 [==============================] - 119s 21ms/step - loss: 0.1530 - acc: 0.9426 - val_loss: 1.7548 - val_acc: 0.6982\n",
      "Epoch 56/100\n",
      "5606/5606 [==============================] - 118s 21ms/step - loss: 0.1643 - acc: 0.9433 - val_loss: 1.6979 - val_acc: 0.6677\n",
      "Epoch 57/100\n",
      "5606/5606 [==============================] - 118s 21ms/step - loss: 0.1490 - acc: 0.9449 - val_loss: 1.7570 - val_acc: 0.7095\n",
      "Epoch 58/100\n",
      "5606/5606 [==============================] - 117s 21ms/step - loss: 0.1567 - acc: 0.9449 - val_loss: 1.5898 - val_acc: 0.6982\n",
      "Epoch 59/100\n"
     ]
    },
    {
     "name": "stdout",
     "output_type": "stream",
     "text": [
      "5606/5606 [==============================] - 118s 21ms/step - loss: 0.1477 - acc: 0.9479 - val_loss: 1.6393 - val_acc: 0.7095\n",
      "Epoch 60/100\n",
      "5606/5606 [==============================] - 117s 21ms/step - loss: 0.1491 - acc: 0.9463 - val_loss: 1.5864 - val_acc: 0.6966\n",
      "Epoch 61/100\n",
      "5606/5606 [==============================] - 118s 21ms/step - loss: 0.1289 - acc: 0.9531 - val_loss: 1.7518 - val_acc: 0.6870\n",
      "Epoch 62/100\n",
      "5606/5606 [==============================] - 117s 21ms/step - loss: 0.1283 - acc: 0.9508 - val_loss: 1.6922 - val_acc: 0.7143\n",
      "Epoch 63/100\n",
      "5606/5606 [==============================] - 116s 21ms/step - loss: 0.1400 - acc: 0.9522 - val_loss: 1.6584 - val_acc: 0.7175\n",
      "Epoch 64/100\n",
      "5606/5606 [==============================] - 117s 21ms/step - loss: 0.1336 - acc: 0.9529 - val_loss: 1.7911 - val_acc: 0.6822\n",
      "Epoch 65/100\n",
      "5606/5606 [==============================] - 117s 21ms/step - loss: 0.1363 - acc: 0.9538 - val_loss: 1.7027 - val_acc: 0.6950\n",
      "Epoch 66/100\n",
      "5606/5606 [==============================] - 116s 21ms/step - loss: 0.1341 - acc: 0.9540 - val_loss: 1.7154 - val_acc: 0.7191\n",
      "Epoch 67/100\n",
      "5606/5606 [==============================] - 117s 21ms/step - loss: 0.1200 - acc: 0.9552 - val_loss: 1.8126 - val_acc: 0.7014\n",
      "Epoch 68/100\n",
      "5606/5606 [==============================] - 116s 21ms/step - loss: 0.1411 - acc: 0.9533 - val_loss: 1.6889 - val_acc: 0.6934\n",
      "Epoch 69/100\n",
      "5606/5606 [==============================] - 116s 21ms/step - loss: 0.1381 - acc: 0.9522 - val_loss: 1.7139 - val_acc: 0.6790\n",
      "Epoch 70/100\n",
      "5606/5606 [==============================] - 117s 21ms/step - loss: 0.1395 - acc: 0.9527 - val_loss: 1.7519 - val_acc: 0.6934\n",
      "Epoch 71/100\n",
      "5606/5606 [==============================] - 117s 21ms/step - loss: 0.1217 - acc: 0.9608 - val_loss: 1.5408 - val_acc: 0.6950\n",
      "Epoch 72/100\n",
      "5606/5606 [==============================] - 116s 21ms/step - loss: 0.1139 - acc: 0.9604 - val_loss: 1.7542 - val_acc: 0.7111\n",
      "Epoch 73/100\n",
      "5606/5606 [==============================] - 116s 21ms/step - loss: 0.1162 - acc: 0.9592 - val_loss: 1.7022 - val_acc: 0.7079\n",
      "Epoch 74/100\n",
      "5606/5606 [==============================] - 118s 21ms/step - loss: 0.1474 - acc: 0.9526 - val_loss: 1.8178 - val_acc: 0.6966\n",
      "Epoch 75/100\n",
      "5606/5606 [==============================] - 117s 21ms/step - loss: 0.1441 - acc: 0.9492 - val_loss: 1.6977 - val_acc: 0.7079\n",
      "Epoch 76/100\n",
      "5606/5606 [==============================] - 117s 21ms/step - loss: 0.1236 - acc: 0.9590 - val_loss: 1.7014 - val_acc: 0.7207\n",
      "Epoch 77/100\n",
      "5606/5606 [==============================] - 116s 21ms/step - loss: 0.1361 - acc: 0.9538 - val_loss: 1.6911 - val_acc: 0.6918\n",
      "Epoch 78/100\n",
      "5606/5606 [==============================] - 119s 21ms/step - loss: 0.1149 - acc: 0.9593 - val_loss: 1.7347 - val_acc: 0.7063\n",
      "Epoch 79/100\n",
      "5606/5606 [==============================] - 125s 22ms/step - loss: 0.0942 - acc: 0.9686 - val_loss: 1.9583 - val_acc: 0.7111\n",
      "Epoch 80/100\n",
      "5606/5606 [==============================] - 118s 21ms/step - loss: 0.1148 - acc: 0.9631 - val_loss: 1.7428 - val_acc: 0.7111\n",
      "Epoch 81/100\n",
      "5606/5606 [==============================] - 119s 21ms/step - loss: 0.1227 - acc: 0.9586 - val_loss: 1.7911 - val_acc: 0.7063\n",
      "Epoch 82/100\n",
      "5606/5606 [==============================] - 120s 21ms/step - loss: 0.1034 - acc: 0.9643 - val_loss: 1.7856 - val_acc: 0.7079\n",
      "Epoch 83/100\n",
      "5606/5606 [==============================] - 120s 21ms/step - loss: 0.1058 - acc: 0.9641 - val_loss: 1.8013 - val_acc: 0.7047\n",
      "Epoch 84/100\n",
      "5606/5606 [==============================] - 121s 22ms/step - loss: 0.1059 - acc: 0.9679 - val_loss: 1.6976 - val_acc: 0.7063\n",
      "Epoch 85/100\n",
      "5606/5606 [==============================] - 121s 22ms/step - loss: 0.0922 - acc: 0.9684 - val_loss: 1.8161 - val_acc: 0.7191\n",
      "Epoch 86/100\n",
      "5606/5606 [==============================] - 120s 21ms/step - loss: 0.0849 - acc: 0.9704 - val_loss: 1.9048 - val_acc: 0.7047\n",
      "Epoch 87/100\n",
      "5606/5606 [==============================] - 121s 22ms/step - loss: 0.0875 - acc: 0.9707 - val_loss: 1.8663 - val_acc: 0.6998\n",
      "Epoch 88/100\n",
      "5606/5606 [==============================] - 124s 22ms/step - loss: 0.0841 - acc: 0.9727 - val_loss: 1.9608 - val_acc: 0.7127\n",
      "Epoch 89/100\n",
      "5606/5606 [==============================] - 120s 21ms/step - loss: 0.1114 - acc: 0.9622 - val_loss: 1.8834 - val_acc: 0.6950\n",
      "Epoch 90/100\n",
      "5606/5606 [==============================] - 122s 22ms/step - loss: 0.1331 - acc: 0.9572 - val_loss: 1.7293 - val_acc: 0.6806\n",
      "Epoch 91/100\n",
      "5606/5606 [==============================] - 123s 22ms/step - loss: 0.1008 - acc: 0.9640 - val_loss: 1.7919 - val_acc: 0.6902\n",
      "Epoch 92/100\n",
      "5606/5606 [==============================] - 122s 22ms/step - loss: 0.0891 - acc: 0.9682 - val_loss: 1.7526 - val_acc: 0.7030\n",
      "Epoch 93/100\n",
      "5606/5606 [==============================] - 123s 22ms/step - loss: 0.0921 - acc: 0.9691 - val_loss: 1.6934 - val_acc: 0.7014\n",
      "Epoch 94/100\n",
      "5606/5606 [==============================] - 123s 22ms/step - loss: 0.0954 - acc: 0.9690 - val_loss: 1.8193 - val_acc: 0.6934\n",
      "Epoch 95/100\n",
      "5606/5606 [==============================] - 1019s 182ms/step - loss: 0.0991 - acc: 0.9666 - val_loss: 1.7736 - val_acc: 0.6950\n",
      "Epoch 96/100\n",
      "5606/5606 [==============================] - 111s 20ms/step - loss: 0.0883 - acc: 0.9693 - val_loss: 1.7800 - val_acc: 0.7030\n",
      "Epoch 97/100\n",
      "5606/5606 [==============================] - 118s 21ms/step - loss: 0.0939 - acc: 0.9700 - val_loss: 1.9225 - val_acc: 0.6982\n",
      "Epoch 98/100\n",
      "5606/5606 [==============================] - 122s 22ms/step - loss: 0.0889 - acc: 0.9684 - val_loss: 1.8625 - val_acc: 0.7095\n",
      "Epoch 99/100\n",
      "5606/5606 [==============================] - 121s 22ms/step - loss: 0.1120 - acc: 0.9609 - val_loss: 1.9132 - val_acc: 0.7095\n",
      "Epoch 100/100\n",
      "5606/5606 [==============================] - 126s 23ms/step - loss: 0.1025 - acc: 0.9659 - val_loss: 1.8957 - val_acc: 0.7175\n",
      "Train loss: [0.19762878803097322, 0.9704607481710753]\n",
      "Test loss: [2.1268365677920253, 0.681818182034926]\n"
     ]
    }
   ],
   "source": [
    "hist = model.fit(x=X_train, y=y_oh_train, validation_split=0.1, batch_size=BATCH_SIZE, epochs=EPOCHS)\n",
    "model.save('models/model_age_male.h5')\n",
    "\n",
    "print('Train loss:', model.evaluate(X_train, y_oh_train, verbose=0))\n",
    "print('Test loss:', model.evaluate(X_test, y_oh_test, verbose=0))"
   ]
  },
  {
   "cell_type": "code",
   "execution_count": 9,
   "metadata": {},
   "outputs": [
    {
     "name": "stdout",
     "output_type": "stream",
     "text": [
      "Acurácia: 0.6818181818181818\n",
      "Matriz de de confusão:\n",
      " [[ 95   7   5   1   5   2   0   2]\n",
      " [ 14  91  14   2  12   1   0   0]\n",
      " [  1  22  74  12  13   6   2   0]\n",
      " [  0   0   6  55  22   5   0   0]\n",
      " [  1   1   3  13 247  30   3   2]\n",
      " [  0   0   5   6  51 130  12   3]\n",
      " [  1   0   1   2  11  17  17   5]\n",
      " [  0   0   0   0   4  19   6  41]]\n"
     ]
    }
   ],
   "source": [
    "y_pred = model.predict(X_test).argmax(axis=1)\n",
    "print('Acurácia:', accuracy_score(y_test, y_pred))\n",
    "print('Matriz de de confusão:\\n', confusion_matrix(y_test, y_pred))"
   ]
  },
  {
   "cell_type": "code",
   "execution_count": 10,
   "metadata": {},
   "outputs": [
    {
     "data": {
      "text/plain": [
       "Text(0.5,0,'epoch')"
      ]
     },
     "execution_count": 10,
     "metadata": {},
     "output_type": "execute_result"
    },
    {
     "data": {
      "image/png": "[encoded data removed]",
      "text/plain": [
       "<Figure size 432x288 with 1 Axes>"
      ]
     },
     "metadata": {
      "needs_background": "light"
     },
     "output_type": "display_data"
    }
   ],
   "source": [
    "plt.plot(hist.history['acc'])\n",
    "plt.title('Acurácia')\n",
    "plt.ylabel('acc')\n",
    "plt.xlabel('epoch')"
   ]
  },
  {
   "cell_type": "code",
   "execution_count": 11,
   "metadata": {},
   "outputs": [
    {
     "data": {
      "text/plain": [
       "Text(0.5,0,'epoch')"
      ]
     },
     "execution_count": 11,
     "metadata": {},
     "output_type": "execute_result"
    },
    {
     "data": {
      "image/png": "[encoded data removed]",
      "text/plain": [
       "<Figure size 432x288 with 1 Axes>"
      ]
     },
     "metadata": {
      "needs_background": "light"
     },
     "output_type": "display_data"
    }
   ],
   "source": [
    "plt.plot(hist.history['loss'])\n",
    "plt.title('Loss')\n",
    "plt.ylabel('loss')\n",
    "plt.xlabel('epoch')"
   ]
  }
 ],
 "metadata": {
  "kernelspec": {
   "display_name": "Python 3",
   "language": "python",
   "name": "python3"
  },
  "language_info": {
   "codemirror_mode": {
    "name": "ipython",
    "version": 3
   },
   "file_extension": ".py",
   "mimetype": "text/x-python",
   "name": "python",
   "nbconvert_exporter": "python",
   "pygments_lexer": "ipython3",
   "version": "3.6.5"
  }
 },
 "nbformat": 4,
 "nbformat_minor": 2
}
