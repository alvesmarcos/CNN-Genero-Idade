{
 "cells": [
  {
   "cell_type": "markdown",
   "metadata": {},
   "source": [
    "## Treinamento de Idade do Gênero Feminino\n",
    "\n",
    "Neste notebook treinar nossa rede para resolver o problema de classificação de idade considerando apenas o gênero feminino. Para isso iremos utilizar o framework [Keras](https://keras.io)"
   ]
  },
  {
   "cell_type": "markdown",
   "metadata": {},
   "source": [
    "## Dependências"
   ]
  },
  {
   "cell_type": "code",
   "execution_count": 4,
   "metadata": {},
   "outputs": [
    {
     "name": "stderr",
     "output_type": "stream",
     "text": [
      "Using TensorFlow backend.\n"
     ]
    }
   ],
   "source": [
    "import numpy as np\n",
    "import matplotlib.pyplot as plt\n",
    "import _pickle as pkl\n",
    "from keras.models import Sequential, load_model\n",
    "from keras.layers import Dense, Dropout, Flatten, Activation\n",
    "from keras.layers import Conv2D, MaxPooling2D, BatchNormalization\n",
    "from keras.callbacks import EarlyStopping\n",
    "from keras.utils import to_categorical\n",
    "from keras.losses import categorical_crossentropy\n",
    "from keras.layers import normalization\n",
    "from sklearn.model_selection import train_test_split\n",
    "from sklearn.metrics import accuracy_score, confusion_matrix\n",
    "\n",
    "%matplotlib inline"
   ]
  },
  {
   "cell_type": "markdown",
   "metadata": {},
   "source": [
    "## Funções auxíliares\n",
    "\n",
    "Iremos carregar implementar algumas funções para leitura e formatação dos dados de entrada pré processados no notebook anterior."
   ]
  },
  {
   "cell_type": "code",
   "execution_count": 5,
   "metadata": {},
   "outputs": [],
   "source": [
    "DATA_NAME = ['data_%d' % i for i in range(5)]"
   ]
  },
  {
   "cell_type": "code",
   "execution_count": 6,
   "metadata": {},
   "outputs": [],
   "source": [
    "def load(name):\n",
    "    with open(name+'.pkl', 'rb') as f:\n",
    "        return pkl.load(f)\n",
    "\n",
    "def wrapper_data(name):\n",
    "    imagens = []\n",
    "    labels = []\n",
    "    for data in DATA_NAME:\n",
    "        obj = load(name+data)\n",
    "        for x, y in zip(obj['imagens'], obj['labels']):\n",
    "            imagens.append(x)\n",
    "            labels.append(y)\n",
    "    return np.array(imagens, dtype=np.float16),  np.array(labels, dtype=np.uint16) "
   ]
  },
  {
   "cell_type": "markdown",
   "metadata": {},
   "source": [
    "## Arquitetura\n",
    "\n",
    "![arch](images/test1.png)"
   ]
  },
  {
   "cell_type": "markdown",
   "metadata": {},
   "source": [
    "### Modelo"
   ]
  },
  {
   "cell_type": "code",
   "execution_count": 7,
   "metadata": {},
   "outputs": [
    {
     "name": "stdout",
     "output_type": "stream",
     "text": [
      "_________________________________________________________________\n",
      "Layer (type)                 Output Shape              Param #   \n",
      "=================================================================\n",
      "conv2d_1 (Conv2D)            (None, 57, 57, 64)        4864      \n",
      "_________________________________________________________________\n",
      "batch_normalization_1 (Batch (None, 57, 57, 64)        256       \n",
      "_________________________________________________________________\n",
      "activation_1 (Activation)    (None, 57, 57, 64)        0         \n",
      "_________________________________________________________________\n",
      "max_pooling2d_1 (MaxPooling2 (None, 29, 29, 64)        0         \n",
      "_________________________________________________________________\n",
      "conv2d_2 (Conv2D)            (None, 29, 29, 128)       204928    \n",
      "_________________________________________________________________\n",
      "batch_normalization_2 (Batch (None, 29, 29, 128)       512       \n",
      "_________________________________________________________________\n",
      "activation_2 (Activation)    (None, 29, 29, 128)       0         \n",
      "_________________________________________________________________\n",
      "max_pooling2d_2 (MaxPooling2 (None, 15, 15, 128)       0         \n",
      "_________________________________________________________________\n",
      "conv2d_3 (Conv2D)            (None, 15, 15, 256)       295168    \n",
      "_________________________________________________________________\n",
      "activation_3 (Activation)    (None, 15, 15, 256)       0         \n",
      "_________________________________________________________________\n",
      "max_pooling2d_3 (MaxPooling2 (None, 8, 8, 256)         0         \n",
      "_________________________________________________________________\n",
      "flatten_1 (Flatten)          (None, 16384)             0         \n",
      "_________________________________________________________________\n",
      "dense_1 (Dense)              (None, 256)               4194560   \n",
      "_________________________________________________________________\n",
      "dropout_1 (Dropout)          (None, 256)               0         \n",
      "_________________________________________________________________\n",
      "dense_2 (Dense)              (None, 256)               65792     \n",
      "_________________________________________________________________\n",
      "dropout_2 (Dropout)          (None, 256)               0         \n",
      "_________________________________________________________________\n",
      "dense_3 (Dense)              (None, 8)                 2056      \n",
      "=================================================================\n",
      "Total params: 4,768,136\n",
      "Trainable params: 4,767,752\n",
      "Non-trainable params: 384\n",
      "_________________________________________________________________\n",
      "None\n"
     ]
    }
   ],
   "source": [
    "model = Sequential()\n",
    "\n",
    "model.add(Conv2D(filters=64,\n",
    "                 kernel_size=(5,5),\n",
    "                 padding='same',\n",
    "                 strides=(4,4),\n",
    "                 input_shape=(227,227,3)))\n",
    "model.add(BatchNormalization(axis=3))\n",
    "model.add(Activation('relu'))\n",
    "model.add(MaxPooling2D(pool_size=(2,2), strides=(2,2), padding='same'))\n",
    "\n",
    "model.add(Conv2D(filters=128,\n",
    "                 kernel_size=(5,5),\n",
    "                 padding='same'))\n",
    "model.add(BatchNormalization(axis=3))\n",
    "model.add(Activation('relu'))\n",
    "model.add(MaxPooling2D(pool_size=(2,2), strides=(2,2), padding='same'))\n",
    "\n",
    "model.add(Conv2D(filters=256,\n",
    "                 kernel_size=(3,3),\n",
    "                 padding='same'))\n",
    "model.add(Activation('relu'))\n",
    "model.add(MaxPooling2D(pool_size=(2,2), strides=(2,2),  padding='same'))\n",
    "\n",
    "model.add(Flatten())\n",
    "\n",
    "model.add(Dense(256, activation='relu'))\n",
    "model.add(Dropout(rate=0.5))\n",
    "model.add(Dense(256, activation='relu'))\n",
    "model.add(Dropout(rate=0.5))\n",
    "model.add(Dense(8, activation='softmax'))\n",
    "\n",
    "print(model.summary())"
   ]
  },
  {
   "cell_type": "markdown",
   "metadata": {},
   "source": [
    "### Hiper-parâmetros"
   ]
  },
  {
   "cell_type": "code",
   "execution_count": 8,
   "metadata": {},
   "outputs": [],
   "source": [
    "BATCH_SIZE = 64\n",
    "EPOCHS = 100"
   ]
  },
  {
   "cell_type": "code",
   "execution_count": 9,
   "metadata": {},
   "outputs": [],
   "source": [
    "model.compile(loss=categorical_crossentropy, optimizer='adam', metrics=['accuracy'])"
   ]
  },
  {
   "cell_type": "markdown",
   "metadata": {},
   "source": [
    "### Entrada "
   ]
  },
  {
   "cell_type": "code",
   "execution_count": 10,
   "metadata": {},
   "outputs": [
    {
     "data": {
      "text/plain": [
       "((7146, 227, 227, 3), (1262, 227, 227, 3), (7146, 8), (1262, 8))"
      ]
     },
     "execution_count": 10,
     "metadata": {},
     "output_type": "execute_result"
    }
   ],
   "source": [
    "# carrega dados\n",
    "X, y = wrapper_data('serializer/age-female/')\n",
    "# separa dados em treinamento e teste\n",
    "X_train, X_test, y_train, y_test = train_test_split(X, y, test_size=0.15)\n",
    "\n",
    "y_oh_train = to_categorical(y_train, 8)\n",
    "y_oh_test = to_categorical(y_test, 8)\n",
    "\n",
    "X_train.shape, X_test.shape, y_oh_train.shape, y_oh_test.shape"
   ]
  },
  {
   "cell_type": "markdown",
   "metadata": {},
   "source": [
    "### Treino"
   ]
  },
  {
   "cell_type": "code",
   "execution_count": 11,
   "metadata": {},
   "outputs": [
    {
     "name": "stdout",
     "output_type": "stream",
     "text": [
      "Train on 6431 samples, validate on 715 samples\n",
      "Epoch 1/100\n",
      "6431/6431 [==============================] - 137s 21ms/step - loss: 1.9650 - acc: 0.3138 - val_loss: 1.8228 - val_acc: 0.3245\n",
      "Epoch 2/100\n",
      "6431/6431 [==============================] - 130s 20ms/step - loss: 1.7599 - acc: 0.3671 - val_loss: 1.7036 - val_acc: 0.3818\n",
      "Epoch 3/100\n",
      "6431/6431 [==============================] - 131s 20ms/step - loss: 1.6433 - acc: 0.3981 - val_loss: 1.5236 - val_acc: 0.4210\n",
      "Epoch 4/100\n",
      "6431/6431 [==============================] - 127s 20ms/step - loss: 1.5364 - acc: 0.4234 - val_loss: 1.4622 - val_acc: 0.4448\n",
      "Epoch 5/100\n",
      "6431/6431 [==============================] - 131s 20ms/step - loss: 1.4716 - acc: 0.4513 - val_loss: 1.3885 - val_acc: 0.4713\n",
      "Epoch 6/100\n",
      "6431/6431 [==============================] - 118s 18ms/step - loss: 1.4051 - acc: 0.4640 - val_loss: 1.3628 - val_acc: 0.4769\n",
      "Epoch 7/100\n",
      "6431/6431 [==============================] - 122s 19ms/step - loss: 1.3318 - acc: 0.4925 - val_loss: 1.3073 - val_acc: 0.4895\n",
      "Epoch 8/100\n",
      "6431/6431 [==============================] - 138s 22ms/step - loss: 1.2919 - acc: 0.5103 - val_loss: 1.2721 - val_acc: 0.5287\n",
      "Epoch 9/100\n",
      "6431/6431 [==============================] - 133s 21ms/step - loss: 1.2063 - acc: 0.5369 - val_loss: 1.3289 - val_acc: 0.4657\n",
      "Epoch 10/100\n",
      "6431/6431 [==============================] - 134s 21ms/step - loss: 1.1515 - acc: 0.5640 - val_loss: 1.2611 - val_acc: 0.5315\n",
      "Epoch 11/100\n",
      "6431/6431 [==============================] - 134s 21ms/step - loss: 1.0969 - acc: 0.5847 - val_loss: 1.2518 - val_acc: 0.5273\n",
      "Epoch 12/100\n",
      "6431/6431 [==============================] - 130s 20ms/step - loss: 1.0384 - acc: 0.6041 - val_loss: 1.2090 - val_acc: 0.5469\n",
      "Epoch 13/100\n",
      "6431/6431 [==============================] - 138s 22ms/step - loss: 0.9630 - acc: 0.6276 - val_loss: 1.1763 - val_acc: 0.5636\n",
      "Epoch 14/100\n",
      "6431/6431 [==============================] - 148s 23ms/step - loss: 0.9211 - acc: 0.6511 - val_loss: 1.1749 - val_acc: 0.5748\n",
      "Epoch 15/100\n",
      "6431/6431 [==============================] - 149s 23ms/step - loss: 0.8509 - acc: 0.6775 - val_loss: 1.1716 - val_acc: 0.5902\n",
      "Epoch 16/100\n",
      "6431/6431 [==============================] - 141s 22ms/step - loss: 0.8156 - acc: 0.6895 - val_loss: 1.2265 - val_acc: 0.5930\n",
      "Epoch 17/100\n",
      "6431/6431 [==============================] - 142s 22ms/step - loss: 0.7819 - acc: 0.7052 - val_loss: 1.1557 - val_acc: 0.5958\n",
      "Epoch 18/100\n",
      "6431/6431 [==============================] - 144s 22ms/step - loss: 0.7171 - acc: 0.7241 - val_loss: 1.2385 - val_acc: 0.5888\n",
      "Epoch 19/100\n",
      "6431/6431 [==============================] - 150s 23ms/step - loss: 0.6755 - acc: 0.7430 - val_loss: 1.2117 - val_acc: 0.5832\n",
      "Epoch 20/100\n",
      "6431/6431 [==============================] - 151s 23ms/step - loss: 0.6367 - acc: 0.7556 - val_loss: 1.2300 - val_acc: 0.5902\n",
      "Epoch 21/100\n",
      "6431/6431 [==============================] - 144s 22ms/step - loss: 0.6245 - acc: 0.7644 - val_loss: 1.3059 - val_acc: 0.6000\n",
      "Epoch 22/100\n",
      "6431/6431 [==============================] - 140s 22ms/step - loss: 0.6029 - acc: 0.7753 - val_loss: 1.3193 - val_acc: 0.5874\n",
      "Epoch 23/100\n",
      "6431/6431 [==============================] - 140s 22ms/step - loss: 0.5526 - acc: 0.7963 - val_loss: 1.3534 - val_acc: 0.6084\n",
      "Epoch 24/100\n",
      "6431/6431 [==============================] - 166s 26ms/step - loss: 0.5277 - acc: 0.7937 - val_loss: 1.3579 - val_acc: 0.6140\n",
      "Epoch 25/100\n",
      "6431/6431 [==============================] - 224s 35ms/step - loss: 0.4876 - acc: 0.8199 - val_loss: 1.3897 - val_acc: 0.6014\n",
      "Epoch 26/100\n",
      "6431/6431 [==============================] - 215s 33ms/step - loss: 0.4740 - acc: 0.8243 - val_loss: 1.3851 - val_acc: 0.6000\n",
      "Epoch 27/100\n",
      "6431/6431 [==============================] - 119s 18ms/step - loss: 0.4460 - acc: 0.8307 - val_loss: 1.3831 - val_acc: 0.6154\n",
      "Epoch 28/100\n",
      "6431/6431 [==============================] - 123s 19ms/step - loss: 0.4248 - acc: 0.8374 - val_loss: 1.4415 - val_acc: 0.6056\n",
      "Epoch 29/100\n",
      "6431/6431 [==============================] - 141s 22ms/step - loss: 0.4087 - acc: 0.8504 - val_loss: 1.6032 - val_acc: 0.5972\n",
      "Epoch 30/100\n",
      "6431/6431 [==============================] - 148s 23ms/step - loss: 0.3835 - acc: 0.8594 - val_loss: 1.4963 - val_acc: 0.5916\n",
      "Epoch 31/100\n",
      "6431/6431 [==============================] - 138s 21ms/step - loss: 0.3693 - acc: 0.8643 - val_loss: 1.4521 - val_acc: 0.6182\n",
      "Epoch 32/100\n",
      "6431/6431 [==============================] - 143s 22ms/step - loss: 0.3472 - acc: 0.8753 - val_loss: 1.5974 - val_acc: 0.6182\n",
      "Epoch 33/100\n",
      "6431/6431 [==============================] - 143s 22ms/step - loss: 0.3663 - acc: 0.8695 - val_loss: 1.6091 - val_acc: 0.6014\n",
      "Epoch 34/100\n",
      "6431/6431 [==============================] - 145s 23ms/step - loss: 0.3245 - acc: 0.8812 - val_loss: 1.6244 - val_acc: 0.6238\n",
      "Epoch 35/100\n",
      "6431/6431 [==============================] - 147s 23ms/step - loss: 0.3372 - acc: 0.8761 - val_loss: 1.6692 - val_acc: 0.6154\n",
      "Epoch 36/100\n",
      "6431/6431 [==============================] - 147s 23ms/step - loss: 0.3202 - acc: 0.8843 - val_loss: 1.6445 - val_acc: 0.6042\n",
      "Epoch 37/100\n",
      "6431/6431 [==============================] - 148s 23ms/step - loss: 0.3145 - acc: 0.8857 - val_loss: 1.7686 - val_acc: 0.6042\n",
      "Epoch 38/100\n",
      "6431/6431 [==============================] - 151s 24ms/step - loss: 0.2897 - acc: 0.8949 - val_loss: 1.7350 - val_acc: 0.5944\n",
      "Epoch 39/100\n",
      "6431/6431 [==============================] - 159s 25ms/step - loss: 0.2764 - acc: 0.8994 - val_loss: 1.9910 - val_acc: 0.6126\n",
      "Epoch 40/100\n",
      "6431/6431 [==============================] - 148s 23ms/step - loss: 0.2684 - acc: 0.9023 - val_loss: 1.9392 - val_acc: 0.6266\n",
      "Epoch 41/100\n",
      "6431/6431 [==============================] - 153s 24ms/step - loss: 0.2946 - acc: 0.8949 - val_loss: 1.7965 - val_acc: 0.6056\n",
      "Epoch 42/100\n",
      "6431/6431 [==============================] - 154s 24ms/step - loss: 0.2450 - acc: 0.9093 - val_loss: 1.8711 - val_acc: 0.6000\n",
      "Epoch 43/100\n",
      "6431/6431 [==============================] - 156s 24ms/step - loss: 0.2489 - acc: 0.9112 - val_loss: 1.8781 - val_acc: 0.5902\n",
      "Epoch 44/100\n",
      "6431/6431 [==============================] - 153s 24ms/step - loss: 0.2407 - acc: 0.9118 - val_loss: 1.9398 - val_acc: 0.6266\n",
      "Epoch 45/100\n",
      "6431/6431 [==============================] - 159s 25ms/step - loss: 0.2278 - acc: 0.9182 - val_loss: 1.8595 - val_acc: 0.6294\n",
      "Epoch 46/100\n",
      "6431/6431 [==============================] - 154s 24ms/step - loss: 0.2400 - acc: 0.9159 - val_loss: 1.8375 - val_acc: 0.6140\n",
      "Epoch 47/100\n",
      "6431/6431 [==============================] - 159s 25ms/step - loss: 0.2271 - acc: 0.9207 - val_loss: 2.0456 - val_acc: 0.6196\n",
      "Epoch 48/100\n",
      "6431/6431 [==============================] - 164s 26ms/step - loss: 0.2278 - acc: 0.9171 - val_loss: 1.7737 - val_acc: 0.6294\n",
      "Epoch 49/100\n",
      "6431/6431 [==============================] - 151s 23ms/step - loss: 0.2017 - acc: 0.9268 - val_loss: 1.9762 - val_acc: 0.6014\n",
      "Epoch 50/100\n",
      "6431/6431 [==============================] - 161s 25ms/step - loss: 0.1957 - acc: 0.9303 - val_loss: 1.9387 - val_acc: 0.6364\n",
      "Epoch 51/100\n",
      "6431/6431 [==============================] - 160s 25ms/step - loss: 0.2391 - acc: 0.9134 - val_loss: 1.8540 - val_acc: 0.6350\n",
      "Epoch 52/100\n",
      "6431/6431 [==============================] - 157s 24ms/step - loss: 0.2261 - acc: 0.9233 - val_loss: 1.9385 - val_acc: 0.6126\n",
      "Epoch 53/100\n",
      "6431/6431 [==============================] - 156s 24ms/step - loss: 0.2008 - acc: 0.9261 - val_loss: 2.0056 - val_acc: 0.6028\n",
      "Epoch 54/100\n",
      "6431/6431 [==============================] - 155s 24ms/step - loss: 0.2110 - acc: 0.9265 - val_loss: 2.1718 - val_acc: 0.6042\n",
      "Epoch 55/100\n",
      "6431/6431 [==============================] - 155s 24ms/step - loss: 0.2009 - acc: 0.9280 - val_loss: 2.0719 - val_acc: 0.6350\n",
      "Epoch 56/100\n",
      "6431/6431 [==============================] - 155s 24ms/step - loss: 0.2014 - acc: 0.9292 - val_loss: 1.9579 - val_acc: 0.6168\n",
      "Epoch 57/100\n",
      "6431/6431 [==============================] - 162s 25ms/step - loss: 0.1879 - acc: 0.9336 - val_loss: 2.2855 - val_acc: 0.6014\n",
      "Epoch 58/100\n",
      "6431/6431 [==============================] - 151s 23ms/step - loss: 0.1925 - acc: 0.9330 - val_loss: 2.0758 - val_acc: 0.6140\n",
      "Epoch 59/100\n"
     ]
    },
    {
     "name": "stdout",
     "output_type": "stream",
     "text": [
      "6431/6431 [==============================] - 149s 23ms/step - loss: 0.1800 - acc: 0.9372 - val_loss: 2.0756 - val_acc: 0.6070\n",
      "Epoch 60/100\n",
      "6431/6431 [==============================] - 145s 23ms/step - loss: 0.1851 - acc: 0.9367 - val_loss: 2.0536 - val_acc: 0.5804\n",
      "Epoch 61/100\n",
      "6431/6431 [==============================] - 140s 22ms/step - loss: 0.1806 - acc: 0.9344 - val_loss: 2.2147 - val_acc: 0.6140\n",
      "Epoch 62/100\n",
      "6431/6431 [==============================] - 140s 22ms/step - loss: 0.1984 - acc: 0.9328 - val_loss: 2.0928 - val_acc: 0.6140\n",
      "Epoch 63/100\n",
      "6431/6431 [==============================] - 140s 22ms/step - loss: 0.1593 - acc: 0.9412 - val_loss: 2.1576 - val_acc: 0.6308\n",
      "Epoch 64/100\n",
      "6431/6431 [==============================] - 140s 22ms/step - loss: 0.1661 - acc: 0.9445 - val_loss: 2.2547 - val_acc: 0.6126\n",
      "Epoch 65/100\n",
      "6431/6431 [==============================] - 134s 21ms/step - loss: 0.1619 - acc: 0.9446 - val_loss: 2.3775 - val_acc: 0.6140\n",
      "Epoch 66/100\n",
      "6431/6431 [==============================] - 138s 21ms/step - loss: 0.1675 - acc: 0.9417 - val_loss: 2.2801 - val_acc: 0.5986\n",
      "Epoch 67/100\n",
      "6431/6431 [==============================] - 129s 20ms/step - loss: 0.1857 - acc: 0.9358 - val_loss: 2.1118 - val_acc: 0.6196\n",
      "Epoch 68/100\n",
      "6431/6431 [==============================] - 144s 22ms/step - loss: 0.1672 - acc: 0.9423 - val_loss: 2.0396 - val_acc: 0.6112\n",
      "Epoch 69/100\n",
      "6431/6431 [==============================] - 145s 23ms/step - loss: 0.1583 - acc: 0.9440 - val_loss: 2.2731 - val_acc: 0.6028\n",
      "Epoch 70/100\n",
      "6431/6431 [==============================] - 142s 22ms/step - loss: 0.1536 - acc: 0.9502 - val_loss: 2.1975 - val_acc: 0.6238\n",
      "Epoch 71/100\n",
      "6431/6431 [==============================] - 146s 23ms/step - loss: 0.1502 - acc: 0.9465 - val_loss: 2.3849 - val_acc: 0.6182\n",
      "Epoch 72/100\n",
      "6431/6431 [==============================] - 159s 25ms/step - loss: 0.1606 - acc: 0.9426 - val_loss: 2.1811 - val_acc: 0.6112\n",
      "Epoch 73/100\n",
      "6431/6431 [==============================] - 189s 29ms/step - loss: 0.1628 - acc: 0.9440 - val_loss: 2.2355 - val_acc: 0.6238\n",
      "Epoch 74/100\n",
      "6431/6431 [==============================] - 189s 29ms/step - loss: 0.1472 - acc: 0.9488 - val_loss: 2.2553 - val_acc: 0.6294\n",
      "Epoch 75/100\n",
      "6431/6431 [==============================] - 225s 35ms/step - loss: 0.1466 - acc: 0.9495 - val_loss: 2.1986 - val_acc: 0.6252\n",
      "Epoch 76/100\n",
      "6431/6431 [==============================] - 156s 24ms/step - loss: 0.1555 - acc: 0.9468 - val_loss: 2.4021 - val_acc: 0.6210\n",
      "Epoch 77/100\n",
      "6431/6431 [==============================] - 22845s 4s/step - loss: 0.1515 - acc: 0.9495 - val_loss: 2.2755 - val_acc: 0.6112\n",
      "Epoch 78/100\n",
      "6431/6431 [==============================] - 16238s 3s/step - loss: 0.1339 - acc: 0.9527 - val_loss: 2.2491 - val_acc: 0.6140\n",
      "Epoch 79/100\n",
      "6431/6431 [==============================] - 1373s 214ms/step - loss: 0.1296 - acc: 0.9571 - val_loss: 2.4284 - val_acc: 0.6210\n",
      "Epoch 80/100\n",
      "6431/6431 [==============================] - 111s 17ms/step - loss: 0.1578 - acc: 0.9459 - val_loss: 2.3459 - val_acc: 0.6154\n",
      "Epoch 81/100\n",
      "6431/6431 [==============================] - 113s 18ms/step - loss: 0.1307 - acc: 0.9527 - val_loss: 2.3449 - val_acc: 0.6028\n",
      "Epoch 82/100\n",
      "6431/6431 [==============================] - 117s 18ms/step - loss: 0.1219 - acc: 0.9568 - val_loss: 2.3532 - val_acc: 0.6196\n",
      "Epoch 83/100\n",
      "6431/6431 [==============================] - 116s 18ms/step - loss: 0.1326 - acc: 0.9535 - val_loss: 2.2442 - val_acc: 0.6126\n",
      "Epoch 84/100\n",
      "6431/6431 [==============================] - 117s 18ms/step - loss: 0.1523 - acc: 0.9510 - val_loss: 2.2836 - val_acc: 0.6210\n",
      "Epoch 85/100\n",
      "6431/6431 [==============================] - 119s 18ms/step - loss: 0.1316 - acc: 0.9560 - val_loss: 2.3317 - val_acc: 0.6252\n",
      "Epoch 86/100\n",
      "6431/6431 [==============================] - 124s 19ms/step - loss: 0.1167 - acc: 0.9594 - val_loss: 2.5509 - val_acc: 0.6098\n",
      "Epoch 87/100\n",
      "6431/6431 [==============================] - 126s 20ms/step - loss: 0.1287 - acc: 0.9557 - val_loss: 2.2718 - val_acc: 0.6308\n",
      "Epoch 88/100\n",
      "6431/6431 [==============================] - 131s 20ms/step - loss: 0.1276 - acc: 0.9580 - val_loss: 2.2709 - val_acc: 0.6378\n",
      "Epoch 89/100\n",
      "6431/6431 [==============================] - 131s 20ms/step - loss: 0.1457 - acc: 0.9509 - val_loss: 2.3258 - val_acc: 0.6168\n",
      "Epoch 90/100\n",
      "6431/6431 [==============================] - 133s 21ms/step - loss: 0.1416 - acc: 0.9509 - val_loss: 2.3109 - val_acc: 0.6252\n",
      "Epoch 91/100\n",
      "6431/6431 [==============================] - 136s 21ms/step - loss: 0.1523 - acc: 0.9493 - val_loss: 2.1715 - val_acc: 0.6364\n",
      "Epoch 92/100\n",
      "6431/6431 [==============================] - 136s 21ms/step - loss: 0.1311 - acc: 0.9530 - val_loss: 2.3214 - val_acc: 0.6336\n",
      "Epoch 93/100\n",
      "6431/6431 [==============================] - 138s 22ms/step - loss: 0.1139 - acc: 0.9610 - val_loss: 2.4049 - val_acc: 0.6336\n",
      "Epoch 94/100\n",
      "6431/6431 [==============================] - 140s 22ms/step - loss: 0.1270 - acc: 0.9555 - val_loss: 2.5008 - val_acc: 0.6420\n",
      "Epoch 95/100\n",
      "6431/6431 [==============================] - 140s 22ms/step - loss: 0.1205 - acc: 0.9591 - val_loss: 2.2910 - val_acc: 0.6336\n",
      "Epoch 96/100\n",
      "6431/6431 [==============================] - 142s 22ms/step - loss: 0.0992 - acc: 0.9678 - val_loss: 2.3396 - val_acc: 0.6420\n",
      "Epoch 97/100\n",
      "6431/6431 [==============================] - 141s 22ms/step - loss: 0.1161 - acc: 0.9611 - val_loss: 2.4259 - val_acc: 0.6182\n",
      "Epoch 98/100\n",
      "6431/6431 [==============================] - 143s 22ms/step - loss: 0.1224 - acc: 0.9593 - val_loss: 2.4673 - val_acc: 0.6224\n",
      "Epoch 99/100\n",
      "6431/6431 [==============================] - 143s 22ms/step - loss: 0.1245 - acc: 0.9582 - val_loss: 2.3628 - val_acc: 0.6224\n",
      "Epoch 100/100\n",
      "6431/6431 [==============================] - 169s 26ms/step - loss: 0.1233 - acc: 0.9571 - val_loss: 2.6072 - val_acc: 0.6322\n",
      "Train loss: [0.2795210599915192, 0.9571788413431876]\n",
      "Test loss: [2.292592262928913, 0.6481774961324954]\n"
     ]
    }
   ],
   "source": [
    "hist = model.fit(x=X_train, y=y_oh_train, validation_split=0.1, batch_size=BATCH_SIZE, epochs=EPOCHS)\n",
    "model.save('models/model_age_female.h5')\n",
    "\n",
    "print('Train loss:', model.evaluate(X_train, y_oh_train, verbose=0))\n",
    "print('Test loss:', model.evaluate(X_test, y_oh_test, verbose=0))"
   ]
  },
  {
   "cell_type": "code",
   "execution_count": 12,
   "metadata": {},
   "outputs": [
    {
     "name": "stdout",
     "output_type": "stream",
     "text": [
      "Acurácia: 0.6481774960380349\n",
      "Matriz de de confusão:\n",
      " [[ 69  27   3   3   0   1   1   0]\n",
      " [ 23 130  16   1   7   1   0   0]\n",
      " [  2   4 138   4  23   3   0   2]\n",
      " [  0   1   7  70  48   7   4   1]\n",
      " [  1   6  20  21 316  20   3   1]\n",
      " [  0   2   7   6  75  57   3   6]\n",
      " [  1   2   0   2  18   6  16   4]\n",
      " [  0   1   8   6  13  18   5  22]]\n"
     ]
    }
   ],
   "source": [
    "y_pred = model.predict(X_test).argmax(axis=1)\n",
    "print('Acurácia:', accuracy_score(y_test, y_pred))\n",
    "print('Matriz de de confusão:\\n', confusion_matrix(y_test, y_pred))"
   ]
  },
  {
   "cell_type": "code",
   "execution_count": 13,
   "metadata": {},
   "outputs": [
    {
     "data": {
      "text/plain": [
       "Text(0.5,0,'epoch')"
      ]
     },
     "execution_count": 13,
     "metadata": {},
     "output_type": "execute_result"
    },
    {
     "data": {
      "image/png": "[encoded data removed]",
      "text/plain": [
       "<Figure size 432x288 with 1 Axes>"
      ]
     },
     "metadata": {
      "needs_background": "light"
     },
     "output_type": "display_data"
    }
   ],
   "source": [
    "plt.plot(hist.history['acc'])\n",
    "plt.title('Acurácia')\n",
    "plt.ylabel('acc')\n",
    "plt.xlabel('epoch')"
   ]
  },
  {
   "cell_type": "code",
   "execution_count": 14,
   "metadata": {},
   "outputs": [
    {
     "data": {
      "text/plain": [
       "Text(0.5,0,'epoch')"
      ]
     },
     "execution_count": 14,
     "metadata": {},
     "output_type": "execute_result"
    },
    {
     "data": {
      "image/png": "[encoded data removed]",
      "text/plain": [
       "<Figure size 432x288 with 1 Axes>"
      ]
     },
     "metadata": {
      "needs_background": "light"
     },
     "output_type": "display_data"
    }
   ],
   "source": [
    "plt.plot(hist.history['loss'])\n",
    "plt.title('Loss')\n",
    "plt.ylabel('loss')\n",
    "plt.xlabel('epoch')"
   ]
  }
 ],
 "metadata": {
  "kernelspec": {
   "display_name": "Python 3",
   "language": "python",
   "name": "python3"
  },
  "language_info": {
   "codemirror_mode": {
    "name": "ipython",
    "version": 3
   },
   "file_extension": ".py",
   "mimetype": "text/x-python",
   "name": "python",
   "nbconvert_exporter": "python",
   "pygments_lexer": "ipython3",
   "version": "3.6.5"
  }
 },
 "nbformat": 4,
 "nbformat_minor": 2
}
