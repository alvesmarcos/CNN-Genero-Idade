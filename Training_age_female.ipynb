{
 "cells": [
  {
   "cell_type": "markdown",
   "metadata": {},
   "source": [
    "## Treinamento de Idade do Gênero Feminino\n",
    "\n",
    "Neste notebook treinar nossa rede para resolver o problema de classificação de idade considerando apenas o gênero feminino. Para isso iremos utilizar o framework [Keras](https://keras.io)"
   ]
  },
  {
   "cell_type": "markdown",
   "metadata": {},
   "source": [
    "## Dependências"
   ]
  },
  {
   "cell_type": "code",
   "execution_count": 1,
   "metadata": {},
   "outputs": [
    {
     "name": "stderr",
     "output_type": "stream",
     "text": [
      "Using TensorFlow backend.\n"
     ]
    }
   ],
   "source": [
    "import numpy as np\n",
    "import matplotlib.pyplot as plt\n",
    "import _pickle as pkl\n",
    "from keras.models import Sequential, load_model\n",
    "from keras.layers import Dense, Dropout, Flatten, Activation\n",
    "from keras.layers import Conv2D, MaxPooling2D, BatchNormalization\n",
    "from keras.callbacks import EarlyStopping\n",
    "from keras.utils import to_categorical\n",
    "from keras.losses import categorical_crossentropy\n",
    "from keras.layers import normalization\n",
    "from sklearn.model_selection import train_test_split\n",
    "from sklearn.metrics import accuracy_score, confusion_matrix\n",
    "\n",
    "%matplotlib inline"
   ]
  },
  {
   "cell_type": "markdown",
   "metadata": {},
   "source": [
    "## Funções auxíliares\n",
    "\n",
    "Iremos carregar implementar algumas funções para leitura e formatação dos dados de entrada pré processados no notebook anterior."
   ]
  },
  {
   "cell_type": "code",
   "execution_count": 2,
   "metadata": {},
   "outputs": [],
   "source": [
    "DATA_NAME = ['data_%d' % i for i in range(5)]"
   ]
  },
  {
   "cell_type": "code",
   "execution_count": 3,
   "metadata": {},
   "outputs": [],
   "source": [
    "def load(name):\n",
    "    with open(name+'.pkl', 'rb') as f:\n",
    "        return pkl.load(f)\n",
    "\n",
    "def wrapper_data(name):\n",
    "    imagens = []\n",
    "    labels = []\n",
    "    for data in DATA_NAME:\n",
    "        obj = load(name+data)\n",
    "        for x, y in zip(obj['imagens'], obj['labels']):\n",
    "            imagens.append(x)\n",
    "            labels.append(y)\n",
    "    return np.array(imagens, dtype=np.float16),  np.array(labels, dtype=np.uint16) "
   ]
  },
  {
   "cell_type": "markdown",
   "metadata": {},
   "source": [
    "## Arquitetura\n",
    "\n",
    "![arch](images/age_arch.png)"
   ]
  },
  {
   "cell_type": "markdown",
   "metadata": {},
   "source": [
    "### Modelo"
   ]
  },
  {
   "cell_type": "code",
   "execution_count": 4,
   "metadata": {},
   "outputs": [
    {
     "name": "stdout",
     "output_type": "stream",
     "text": [
      "_________________________________________________________________\n",
      "Layer (type)                 Output Shape              Param #   \n",
      "=================================================================\n",
      "conv2d_1 (Conv2D)            (None, 57, 57, 64)        4864      \n",
      "_________________________________________________________________\n",
      "batch_normalization_1 (Batch (None, 57, 57, 64)        256       \n",
      "_________________________________________________________________\n",
      "activation_1 (Activation)    (None, 57, 57, 64)        0         \n",
      "_________________________________________________________________\n",
      "max_pooling2d_1 (MaxPooling2 (None, 29, 29, 64)        0         \n",
      "_________________________________________________________________\n",
      "conv2d_2 (Conv2D)            (None, 29, 29, 128)       204928    \n",
      "_________________________________________________________________\n",
      "batch_normalization_2 (Batch (None, 29, 29, 128)       512       \n",
      "_________________________________________________________________\n",
      "activation_2 (Activation)    (None, 29, 29, 128)       0         \n",
      "_________________________________________________________________\n",
      "max_pooling2d_2 (MaxPooling2 (None, 15, 15, 128)       0         \n",
      "_________________________________________________________________\n",
      "conv2d_3 (Conv2D)            (None, 15, 15, 256)       295168    \n",
      "_________________________________________________________________\n",
      "activation_3 (Activation)    (None, 15, 15, 256)       0         \n",
      "_________________________________________________________________\n",
      "max_pooling2d_3 (MaxPooling2 (None, 8, 8, 256)         0         \n",
      "_________________________________________________________________\n",
      "flatten_1 (Flatten)          (None, 16384)             0         \n",
      "_________________________________________________________________\n",
      "dense_1 (Dense)              (None, 512)               8389120   \n",
      "_________________________________________________________________\n",
      "dropout_1 (Dropout)          (None, 512)               0         \n",
      "_________________________________________________________________\n",
      "dense_2 (Dense)              (None, 512)               262656    \n",
      "_________________________________________________________________\n",
      "dropout_2 (Dropout)          (None, 512)               0         \n",
      "_________________________________________________________________\n",
      "dense_3 (Dense)              (None, 8)                 4104      \n",
      "=================================================================\n",
      "Total params: 9,161,608\n",
      "Trainable params: 9,161,224\n",
      "Non-trainable params: 384\n",
      "_________________________________________________________________\n",
      "None\n"
     ]
    }
   ],
   "source": [
    "model = Sequential()\n",
    "\n",
    "model.add(Conv2D(filters=64,\n",
    "                 kernel_size=(5,5),\n",
    "                 padding='same',\n",
    "                 strides=(4,4),\n",
    "                 input_shape=(227,227,3)))\n",
    "model.add(BatchNormalization(axis=3))\n",
    "model.add(Activation('relu'))\n",
    "model.add(MaxPooling2D(pool_size=(2,2), strides=(2,2), padding='same'))\n",
    "\n",
    "model.add(Conv2D(filters=128,\n",
    "                 kernel_size=(5,5),\n",
    "                 padding='same'))\n",
    "model.add(BatchNormalization(axis=3))\n",
    "model.add(Activation('relu'))\n",
    "model.add(MaxPooling2D(pool_size=(2,2), strides=(2,2), padding='same'))\n",
    "\n",
    "model.add(Conv2D(filters=256,\n",
    "                 kernel_size=(3,3),\n",
    "                 padding='same'))\n",
    "model.add(Activation('relu'))\n",
    "model.add(MaxPooling2D(pool_size=(2,2), strides=(2,2),  padding='same'))\n",
    "\n",
    "model.add(Flatten())\n",
    "\n",
    "model.add(Dense(256, activation='relu'))\n",
    "model.add(Dropout(rate=0.5))\n",
    "model.add(Dense(256, activation='relu'))\n",
    "model.add(Dropout(rate=0.5))\n",
    "model.add(Dense(8, activation='softmax'))\n",
    "\n",
    "print(model.summary())"
   ]
  },
  {
   "cell_type": "markdown",
   "metadata": {},
   "source": [
    "### Hiper-parâmetros"
   ]
  },
  {
   "cell_type": "code",
   "execution_count": 5,
   "metadata": {},
   "outputs": [],
   "source": [
    "BATCH_SIZE = 64\n",
    "EPOCHS = 30"
   ]
  },
  {
   "cell_type": "code",
   "execution_count": 6,
   "metadata": {},
   "outputs": [],
   "source": [
    "model.compile(loss=categorical_crossentropy, optimizer='adam', metrics=['accuracy'])"
   ]
  },
  {
   "cell_type": "markdown",
   "metadata": {},
   "source": [
    "### Entrada "
   ]
  },
  {
   "cell_type": "code",
   "execution_count": 7,
   "metadata": {},
   "outputs": [
    {
     "data": {
      "text/plain": [
       "((6229, 227, 227, 3), (1100, 227, 227, 3), (6229, 8), (1100, 8))"
      ]
     },
     "execution_count": 7,
     "metadata": {},
     "output_type": "execute_result"
    }
   ],
   "source": [
    "# carrega dados\n",
    "X, y = wrapper_data('serializer/age-female/')\n",
    "# separa dados em treinamento e teste\n",
    "X_train, X_test, y_train, y_test = train_test_split(X, y, test_size=0.15)\n",
    "\n",
    "y_oh_train = to_categorical(y_train, 8)\n",
    "y_oh_test = to_categorical(y_test, 8)\n",
    "\n",
    "X_train.shape, X_test.shape, y_oh_train.shape, y_oh_test.shape"
   ]
  },
  {
   "cell_type": "markdown",
   "metadata": {},
   "source": [
    "### Treino"
   ]
  },
  {
   "cell_type": "code",
   "execution_count": 8,
   "metadata": {},
   "outputs": [
    {
     "name": "stdout",
     "output_type": "stream",
     "text": [
      "Train on 5606 samples, validate on 623 samples\n",
      "Epoch 1/30\n",
      "5606/5606 [==============================] - 138s 25ms/step - loss: 2.0507 - acc: 0.2845 - val_loss: 1.8137 - val_acc: 0.3114\n",
      "Epoch 2/30\n",
      "5606/5606 [==============================] - 113s 20ms/step - loss: 1.6453 - acc: 0.3782 - val_loss: 2.0900 - val_acc: 0.2536\n",
      "Epoch 3/30\n",
      "5606/5606 [==============================] - 112s 20ms/step - loss: 1.4266 - acc: 0.4542 - val_loss: 1.8372 - val_acc: 0.3098\n",
      "Epoch 4/30\n",
      "5606/5606 [==============================] - 121s 22ms/step - loss: 1.2752 - acc: 0.5139 - val_loss: 1.4254 - val_acc: 0.4559\n",
      "Epoch 5/30\n",
      "5606/5606 [==============================] - 115s 20ms/step - loss: 1.1493 - acc: 0.5596 - val_loss: 1.4336 - val_acc: 0.4446\n",
      "Epoch 6/30\n",
      "5606/5606 [==============================] - 116s 21ms/step - loss: 1.0451 - acc: 0.6035 - val_loss: 1.8268 - val_acc: 0.3531\n",
      "Epoch 7/30\n",
      "5606/5606 [==============================] - 116s 21ms/step - loss: 0.9604 - acc: 0.6333 - val_loss: 1.1435 - val_acc: 0.5682\n",
      "Epoch 8/30\n",
      "5606/5606 [==============================] - 128s 23ms/step - loss: 0.8730 - acc: 0.6643 - val_loss: 1.1702 - val_acc: 0.5618\n",
      "Epoch 9/30\n",
      "5606/5606 [==============================] - 126s 22ms/step - loss: 0.7903 - acc: 0.7034 - val_loss: 1.3178 - val_acc: 0.5056\n",
      "Epoch 10/30\n",
      "5606/5606 [==============================] - 130s 23ms/step - loss: 0.7459 - acc: 0.7153 - val_loss: 1.1441 - val_acc: 0.6003\n",
      "Epoch 11/30\n",
      "5606/5606 [==============================] - 118s 21ms/step - loss: 0.6601 - acc: 0.7547 - val_loss: 1.1657 - val_acc: 0.5891\n",
      "Epoch 12/30\n",
      "5606/5606 [==============================] - 116s 21ms/step - loss: 0.6144 - acc: 0.7676 - val_loss: 1.3001 - val_acc: 0.5827\n",
      "Epoch 13/30\n",
      "5606/5606 [==============================] - 112s 20ms/step - loss: 0.5737 - acc: 0.7817 - val_loss: 1.2551 - val_acc: 0.5955\n",
      "Epoch 14/30\n",
      "5606/5606 [==============================] - 111s 20ms/step - loss: 0.4829 - acc: 0.8204 - val_loss: 1.3026 - val_acc: 0.5955\n",
      "Epoch 15/30\n",
      "5606/5606 [==============================] - 112s 20ms/step - loss: 0.4346 - acc: 0.8380 - val_loss: 1.4151 - val_acc: 0.5907\n",
      "Epoch 16/30\n",
      "5606/5606 [==============================] - 113s 20ms/step - loss: 0.3816 - acc: 0.8578 - val_loss: 1.4957 - val_acc: 0.5843\n",
      "Epoch 17/30\n",
      "5606/5606 [==============================] - 113s 20ms/step - loss: 0.3575 - acc: 0.8691 - val_loss: 1.5806 - val_acc: 0.5891\n",
      "Epoch 18/30\n",
      "5606/5606 [==============================] - 118s 21ms/step - loss: 0.3396 - acc: 0.8733 - val_loss: 1.4523 - val_acc: 0.6116\n",
      "Epoch 19/30\n",
      "5606/5606 [==============================] - 122s 22ms/step - loss: 0.3020 - acc: 0.8930 - val_loss: 1.6072 - val_acc: 0.5666\n",
      "Epoch 20/30\n",
      "5606/5606 [==============================] - 112s 20ms/step - loss: 0.2750 - acc: 0.8994 - val_loss: 1.7132 - val_acc: 0.6067\n",
      "Epoch 21/30\n",
      "5606/5606 [==============================] - 125s 22ms/step - loss: 0.2338 - acc: 0.9154 - val_loss: 1.5521 - val_acc: 0.6116\n",
      "Epoch 22/30\n",
      "5606/5606 [==============================] - 126s 23ms/step - loss: 0.2204 - acc: 0.9215 - val_loss: 1.7615 - val_acc: 0.5827\n",
      "Epoch 23/30\n",
      "5606/5606 [==============================] - 122s 22ms/step - loss: 0.2190 - acc: 0.9212 - val_loss: 1.7623 - val_acc: 0.6244\n",
      "Epoch 24/30\n",
      "5606/5606 [==============================] - 134s 24ms/step - loss: 0.1713 - acc: 0.9388 - val_loss: 1.9056 - val_acc: 0.6003\n",
      "Epoch 25/30\n",
      "5606/5606 [==============================] - 134s 24ms/step - loss: 0.1636 - acc: 0.9399 - val_loss: 1.8878 - val_acc: 0.6308\n",
      "Epoch 26/30\n",
      "5606/5606 [==============================] - 2944s 525ms/step - loss: 0.1800 - acc: 0.9338 - val_loss: 1.7772 - val_acc: 0.6180\n",
      "Epoch 27/30\n",
      "5606/5606 [==============================] - 127s 23ms/step - loss: 0.1832 - acc: 0.9358 - val_loss: 1.8476 - val_acc: 0.6196\n",
      "Epoch 28/30\n",
      "5606/5606 [==============================] - 118s 21ms/step - loss: 0.1600 - acc: 0.9431 - val_loss: 2.1399 - val_acc: 0.5955\n",
      "Epoch 29/30\n",
      "5606/5606 [==============================] - 116s 21ms/step - loss: 0.1441 - acc: 0.9465 - val_loss: 1.8993 - val_acc: 0.6356\n",
      "Epoch 30/30\n",
      "5606/5606 [==============================] - 107s 19ms/step - loss: 0.1493 - acc: 0.9486 - val_loss: 1.9277 - val_acc: 0.6003\n",
      "Train loss: [0.27117903599254506, 0.937068550396088]\n",
      "Test loss: [1.7521656768972222, 0.5972727270559831]\n"
     ]
    }
   ],
   "source": [
    "hist = model.fit(x=X_train, y=y_oh_train, validation_split=0.1, batch_size=BATCH_SIZE, epochs=EPOCHS)\n",
    "model.save('models/model_age_female.h5')\n",
    "\n",
    "print('Train loss:', model.evaluate(X_train, y_oh_train, verbose=0))\n",
    "print('Test loss:', model.evaluate(X_test, y_oh_test, verbose=0))"
   ]
  },
  {
   "cell_type": "code",
   "execution_count": 9,
   "metadata": {},
   "outputs": [
    {
     "name": "stdout",
     "output_type": "stream",
     "text": [
      "Acurácia: 0.5972727272727273\n",
      "Matriz de de confusão:\n",
      " [[ 84  15   4   0   4   1   0   2]\n",
      " [ 23  84  26   1   4   1   1   1]\n",
      " [  3  25  69  11   8   4   2   0]\n",
      " [  0   0  17  63  19   3   2   1]\n",
      " [  2   6  20  26 215  51  16   7]\n",
      " [  1   3   6  10  31  92   9  13]\n",
      " [  0   0   2   2  11  20  18   2]\n",
      " [  1   0   2   0   6  12   6  32]]\n"
     ]
    }
   ],
   "source": [
    "y_pred = model.predict(X_test).argmax(axis=1)\n",
    "print('Acurácia:', accuracy_score(y_test, y_pred))\n",
    "print('Matriz de de confusão:\\n', confusion_matrix(y_test, y_pred))"
   ]
  },
  {
   "cell_type": "code",
   "execution_count": 11,
   "metadata": {},
   "outputs": [
    {
     "data": {
      "text/plain": [
       "Text(0.5,0,'epoch')"
      ]
     },
     "execution_count": 11,
     "metadata": {},
     "output_type": "execute_result"
    },
    {
     "data": {
      "image/png": "[encoded data removed]",
      "text/plain": [
       "<Figure size 432x288 with 1 Axes>"
      ]
     },
     "metadata": {
      "needs_background": "light"
     },
     "output_type": "display_data"
    }
   ],
   "source": [
    "plt.plot(hist.history['acc'])\n",
    "plt.title('Acurácia')\n",
    "plt.ylabel('acc')\n",
    "plt.xlabel('epoch')"
   ]
  },
  {
   "cell_type": "code",
   "execution_count": 12,
   "metadata": {},
   "outputs": [
    {
     "data": {
      "text/plain": [
       "Text(0.5,0,'epoch')"
      ]
     },
     "execution_count": 12,
     "metadata": {},
     "output_type": "execute_result"
    },
    {
     "data": {
      "image/png": "[encoded data removed]",
      "text/plain": [
       "<Figure size 432x288 with 1 Axes>"
      ]
     },
     "metadata": {
      "needs_background": "light"
     },
     "output_type": "display_data"
    }
   ],
   "source": [
    "plt.plot(hist.history['loss'])\n",
    "plt.title('Loss')\n",
    "plt.ylabel('loss')\n",
    "plt.xlabel('epoch')"
   ]
  }
 ],
 "metadata": {
  "kernelspec": {
   "display_name": "Python 3",
   "language": "python",
   "name": "python3"
  },
  "language_info": {
   "codemirror_mode": {
    "name": "ipython",
    "version": 3
   },
   "file_extension": ".py",
   "mimetype": "text/x-python",
   "name": "python",
   "nbconvert_exporter": "python",
   "pygments_lexer": "ipython3",
   "version": "3.6.5"
  }
 },
 "nbformat": 4,
 "nbformat_minor": 2
}
