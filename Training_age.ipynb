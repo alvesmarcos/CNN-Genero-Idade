{
 "cells": [
  {
   "cell_type": "markdown",
   "metadata": {},
   "source": [
    "## Treinamento de Idade\n",
    "\n",
    "Neste notebook treinar nossa rede para resolver o problema de classificação de idade. Para isso iremos utilizar o framework [Keras](https://keras.io)"
   ]
  },
  {
   "cell_type": "markdown",
   "metadata": {},
   "source": [
    "## Dependências"
   ]
  },
  {
   "cell_type": "code",
   "execution_count": 1,
   "metadata": {},
   "outputs": [
    {
     "name": "stderr",
     "output_type": "stream",
     "text": [
      "Using TensorFlow backend.\n"
     ]
    }
   ],
   "source": [
    "import numpy as np\n",
    "import matplotlib.pyplot as plt\n",
    "import _pickle as pkl\n",
    "from keras.models import Sequential, load_model\n",
    "from keras.layers import Dense, Dropout, Flatten, Activation\n",
    "from keras.layers import Conv2D, MaxPooling2D, BatchNormalization\n",
    "from keras.callbacks import EarlyStopping\n",
    "from keras.utils import to_categorical\n",
    "from keras.losses import categorical_crossentropy\n",
    "from keras.layers import normalization\n",
    "from sklearn.model_selection import train_test_split\n",
    "from sklearn.metrics import accuracy_score, confusion_matrix\n",
    "import seaborn as sns\n",
    "\n",
    "%matplotlib inline"
   ]
  },
  {
   "cell_type": "markdown",
   "metadata": {},
   "source": [
    "## Funções auxíliares\n",
    "\n",
    "Iremos carregar implementar algumas funções para leitura e formatação dos dados de entrada pré processados no notebook anterior."
   ]
  },
  {
   "cell_type": "code",
   "execution_count": 2,
   "metadata": {},
   "outputs": [],
   "source": [
    "DATA_NAME = ['data_%d' % i for i in range(5)]"
   ]
  },
  {
   "cell_type": "code",
   "execution_count": 3,
   "metadata": {},
   "outputs": [],
   "source": [
    "def load(name):\n",
    "    with open(name+'.pkl', 'rb') as f:\n",
    "        return pkl.load(f)\n",
    "\n",
    "def wrapper_data(name):\n",
    "    imagens = []\n",
    "    labels = []\n",
    "    for data in DATA_NAME:\n",
    "        obj = load(name+data)\n",
    "        for x, y in zip(obj['imagens'], obj['labels']):\n",
    "            imagens.append(x)\n",
    "            labels.append(y)\n",
    "    return np.array(imagens, dtype=np.float16),  np.array(labels, dtype=np.uint16) "
   ]
  },
  {
   "cell_type": "markdown",
   "metadata": {},
   "source": [
    "## Arquitetura\n",
    "\n",
    "![arch](images/test1.png)"
   ]
  },
  {
   "cell_type": "markdown",
   "metadata": {},
   "source": [
    "### Modelo"
   ]
  },
  {
   "cell_type": "code",
   "execution_count": 6,
   "metadata": {},
   "outputs": [
    {
     "name": "stdout",
     "output_type": "stream",
     "text": [
      "_________________________________________________________________\n",
      "Layer (type)                 Output Shape              Param #   \n",
      "=================================================================\n",
      "conv2d_1 (Conv2D)            (None, 57, 57, 64)        4864      \n",
      "_________________________________________________________________\n",
      "batch_normalization_1 (Batch (None, 57, 57, 64)        256       \n",
      "_________________________________________________________________\n",
      "activation_1 (Activation)    (None, 57, 57, 64)        0         \n",
      "_________________________________________________________________\n",
      "max_pooling2d_1 (MaxPooling2 (None, 29, 29, 64)        0         \n",
      "_________________________________________________________________\n",
      "conv2d_2 (Conv2D)            (None, 29, 29, 128)       204928    \n",
      "_________________________________________________________________\n",
      "batch_normalization_2 (Batch (None, 29, 29, 128)       512       \n",
      "_________________________________________________________________\n",
      "activation_2 (Activation)    (None, 29, 29, 128)       0         \n",
      "_________________________________________________________________\n",
      "max_pooling2d_2 (MaxPooling2 (None, 15, 15, 128)       0         \n",
      "_________________________________________________________________\n",
      "conv2d_3 (Conv2D)            (None, 15, 15, 256)       295168    \n",
      "_________________________________________________________________\n",
      "activation_3 (Activation)    (None, 15, 15, 256)       0         \n",
      "_________________________________________________________________\n",
      "max_pooling2d_3 (MaxPooling2 (None, 8, 8, 256)         0         \n",
      "_________________________________________________________________\n",
      "flatten_1 (Flatten)          (None, 16384)             0         \n",
      "_________________________________________________________________\n",
      "dense_1 (Dense)              (None, 256)               4194560   \n",
      "_________________________________________________________________\n",
      "dropout_1 (Dropout)          (None, 256)               0         \n",
      "_________________________________________________________________\n",
      "dense_2 (Dense)              (None, 256)               65792     \n",
      "_________________________________________________________________\n",
      "dropout_2 (Dropout)          (None, 256)               0         \n",
      "_________________________________________________________________\n",
      "dense_3 (Dense)              (None, 8)                 2056      \n",
      "=================================================================\n",
      "Total params: 4,768,136\n",
      "Trainable params: 4,767,752\n",
      "Non-trainable params: 384\n",
      "_________________________________________________________________\n",
      "None\n"
     ]
    }
   ],
   "source": [
    "model = Sequential()\n",
    "\n",
    "model.add(Conv2D(filters=64,\n",
    "                 kernel_size=(5,5),\n",
    "                 padding='same',\n",
    "                 strides=(4,4),\n",
    "                 input_shape=(227,227,3)))\n",
    "model.add(BatchNormalization(axis=3))\n",
    "model.add(Activation('relu'))\n",
    "model.add(MaxPooling2D(pool_size=(2,2), strides=(2,2), padding='same'))\n",
    "\n",
    "model.add(Conv2D(filters=128,\n",
    "                 kernel_size=(5,5),\n",
    "                 padding='same'))\n",
    "model.add(BatchNormalization(axis=3))\n",
    "model.add(Activation('relu'))\n",
    "model.add(MaxPooling2D(pool_size=(2,2), strides=(2,2), padding='same'))\n",
    "\n",
    "model.add(Conv2D(filters=256,\n",
    "                 kernel_size=(3,3),\n",
    "                 padding='same'))\n",
    "model.add(Activation('relu'))\n",
    "model.add(MaxPooling2D(pool_size=(2,2), strides=(2,2),  padding='same'))\n",
    "\n",
    "model.add(Flatten())\n",
    "\n",
    "model.add(Dense(256, activation='relu'))\n",
    "model.add(Dropout(rate=0.5))\n",
    "model.add(Dense(256, activation='relu'))\n",
    "model.add(Dropout(rate=0.5))\n",
    "model.add(Dense(8, activation='softmax'))\n",
    "\n",
    "print(model.summary())"
   ]
  },
  {
   "cell_type": "markdown",
   "metadata": {},
   "source": [
    "### Hiper-parâmetros"
   ]
  },
  {
   "cell_type": "code",
   "execution_count": 7,
   "metadata": {},
   "outputs": [],
   "source": [
    "BATCH_SIZE = 64\n",
    "EPOCHS = 100"
   ]
  },
  {
   "cell_type": "code",
   "execution_count": 8,
   "metadata": {},
   "outputs": [],
   "source": [
    "model.compile(loss=categorical_crossentropy, optimizer='adam', metrics=['accuracy'])"
   ]
  },
  {
   "cell_type": "markdown",
   "metadata": {},
   "source": [
    "### Entrada "
   ]
  },
  {
   "cell_type": "code",
   "execution_count": 9,
   "metadata": {},
   "outputs": [
    {
     "data": {
      "text/plain": [
       "((14322, 227, 227, 3), (2528, 227, 227, 3), (14322, 8), (2528, 8))"
      ]
     },
     "execution_count": 9,
     "metadata": {},
     "output_type": "execute_result"
    }
   ],
   "source": [
    "# carrega dados\n",
    "X, y = wrapper_data('serializer/age/')\n",
    "# separa dados em treinamento e teste\n",
    "X_train, X_test, y_train, y_test = train_test_split(X, y, test_size=0.15)\n",
    "\n",
    "y_oh_train = to_categorical(y_train, 8)\n",
    "y_oh_test = to_categorical(y_test, 8)\n",
    "\n",
    "X_train.shape, X_test.shape, y_oh_train.shape, y_oh_test.shape"
   ]
  },
  {
   "cell_type": "markdown",
   "metadata": {},
   "source": [
    "### Treino"
   ]
  },
  {
   "cell_type": "code",
   "execution_count": 8,
   "metadata": {},
   "outputs": [
    {
     "name": "stdout",
     "output_type": "stream",
     "text": [
      "Train on 12173 samples, validate on 2149 samples\n",
      "Epoch 1/100\n",
      "12173/12173 [==============================] - 299s 25ms/step - loss: 1.9464 - acc: 0.3078 - val_loss: 1.6651 - val_acc: 0.3899\n",
      "Epoch 2/100\n",
      "12173/12173 [==============================] - 294s 24ms/step - loss: 1.5863 - acc: 0.4102 - val_loss: 1.4849 - val_acc: 0.4500\n",
      "Epoch 3/100\n",
      "12173/12173 [==============================] - 382s 31ms/step - loss: 1.4318 - acc: 0.4532 - val_loss: 1.3741 - val_acc: 0.4933\n",
      "Epoch 4/100\n",
      "12173/12173 [==============================] - 261s 21ms/step - loss: 1.3450 - acc: 0.4897 - val_loss: 1.2754 - val_acc: 0.5188\n",
      "Epoch 5/100\n",
      "12173/12173 [==============================] - 288s 24ms/step - loss: 1.2613 - acc: 0.5160 - val_loss: 1.2664 - val_acc: 0.5272\n",
      "Epoch 6/100\n",
      "12173/12173 [==============================] - 274s 23ms/step - loss: 1.1914 - acc: 0.5427 - val_loss: 1.1980 - val_acc: 0.5589\n",
      "Epoch 7/100\n",
      "12173/12173 [==============================] - 275s 23ms/step - loss: 1.1315 - acc: 0.5630 - val_loss: 1.1446 - val_acc: 0.5677\n",
      "Epoch 8/100\n",
      "12173/12173 [==============================] - 274s 23ms/step - loss: 1.0755 - acc: 0.5901 - val_loss: 1.1585 - val_acc: 0.5770\n",
      "Epoch 9/100\n",
      "12173/12173 [==============================] - 291s 24ms/step - loss: 1.0295 - acc: 0.6019 - val_loss: 1.1367 - val_acc: 0.5761\n",
      "Epoch 10/100\n",
      "12173/12173 [==============================] - 293s 24ms/step - loss: 0.9781 - acc: 0.6250 - val_loss: 1.1469 - val_acc: 0.5756\n",
      "Epoch 11/100\n",
      "12173/12173 [==============================] - 270s 22ms/step - loss: 0.9369 - acc: 0.6433 - val_loss: 1.1241 - val_acc: 0.6031\n",
      "Epoch 12/100\n",
      "12173/12173 [==============================] - 269s 22ms/step - loss: 0.8938 - acc: 0.6535 - val_loss: 1.0914 - val_acc: 0.6114\n",
      "Epoch 13/100\n",
      "12173/12173 [==============================] - 270s 22ms/step - loss: 0.8455 - acc: 0.6728 - val_loss: 1.0969 - val_acc: 0.6147\n",
      "Epoch 14/100\n",
      "12173/12173 [==============================] - 272s 22ms/step - loss: 0.8334 - acc: 0.6827 - val_loss: 1.1100 - val_acc: 0.6087\n",
      "Epoch 15/100\n",
      "12173/12173 [==============================] - 270s 22ms/step - loss: 0.7745 - acc: 0.7036 - val_loss: 1.0828 - val_acc: 0.6268\n",
      "Epoch 16/100\n",
      "12173/12173 [==============================] - 270s 22ms/step - loss: 0.7520 - acc: 0.7114 - val_loss: 1.1119 - val_acc: 0.6208\n",
      "Epoch 17/100\n",
      "12173/12173 [==============================] - 267s 22ms/step - loss: 0.7037 - acc: 0.7284 - val_loss: 1.1569 - val_acc: 0.6212\n",
      "Epoch 18/100\n",
      "12173/12173 [==============================] - 268s 22ms/step - loss: 0.6729 - acc: 0.7411 - val_loss: 1.1222 - val_acc: 0.6208\n",
      "Epoch 19/100\n",
      "12173/12173 [==============================] - 265s 22ms/step - loss: 0.6444 - acc: 0.7540 - val_loss: 1.1675 - val_acc: 0.6156\n",
      "Epoch 20/100\n",
      "12173/12173 [==============================] - 263s 22ms/step - loss: 0.6387 - acc: 0.7520 - val_loss: 1.1632 - val_acc: 0.6254\n",
      "Epoch 21/100\n",
      "12173/12173 [==============================] - 263s 22ms/step - loss: 0.5918 - acc: 0.7735 - val_loss: 1.1328 - val_acc: 0.6366\n",
      "Epoch 22/100\n",
      "12173/12173 [==============================] - 264s 22ms/step - loss: 0.5667 - acc: 0.7849 - val_loss: 1.1508 - val_acc: 0.6398\n",
      "Epoch 23/100\n",
      "12173/12173 [==============================] - 261s 21ms/step - loss: 0.5465 - acc: 0.7895 - val_loss: 1.2111 - val_acc: 0.6333\n",
      "Epoch 24/100\n",
      "12173/12173 [==============================] - 261s 21ms/step - loss: 0.5428 - acc: 0.7907 - val_loss: 1.2016 - val_acc: 0.6273\n",
      "Epoch 25/100\n",
      "12173/12173 [==============================] - 260s 21ms/step - loss: 0.5046 - acc: 0.8125 - val_loss: 1.2793 - val_acc: 0.6361\n",
      "Epoch 26/100\n",
      "12173/12173 [==============================] - 258s 21ms/step - loss: 0.4863 - acc: 0.8188 - val_loss: 1.2079 - val_acc: 0.6366\n",
      "Epoch 27/100\n",
      "12173/12173 [==============================] - 259s 21ms/step - loss: 0.5004 - acc: 0.8111 - val_loss: 1.2903 - val_acc: 0.6315\n",
      "Epoch 28/100\n",
      "12173/12173 [==============================] - 257s 21ms/step - loss: 0.4518 - acc: 0.8294 - val_loss: 1.2837 - val_acc: 0.6208\n",
      "Epoch 29/100\n",
      "12173/12173 [==============================] - 258s 21ms/step - loss: 0.4243 - acc: 0.8410 - val_loss: 1.2823 - val_acc: 0.6412\n",
      "Epoch 30/100\n",
      "12173/12173 [==============================] - 258s 21ms/step - loss: 0.4239 - acc: 0.8417 - val_loss: 1.2945 - val_acc: 0.6398\n",
      "Epoch 31/100\n",
      "12173/12173 [==============================] - 257s 21ms/step - loss: 0.3944 - acc: 0.8454 - val_loss: 1.3301 - val_acc: 0.6417\n",
      "Epoch 32/100\n",
      "12173/12173 [==============================] - 269s 22ms/step - loss: 0.3822 - acc: 0.8575 - val_loss: 1.3259 - val_acc: 0.6491\n",
      "Epoch 33/100\n",
      "12173/12173 [==============================] - 292s 24ms/step - loss: 0.3628 - acc: 0.8640 - val_loss: 1.3808 - val_acc: 0.6338\n",
      "Epoch 34/100\n",
      "12173/12173 [==============================] - 281s 23ms/step - loss: 0.3847 - acc: 0.8573 - val_loss: 1.3233 - val_acc: 0.6454\n",
      "Epoch 35/100\n",
      "12173/12173 [==============================] - 284s 23ms/step - loss: 0.3516 - acc: 0.8682 - val_loss: 1.3679 - val_acc: 0.6370\n",
      "Epoch 36/100\n",
      "12173/12173 [==============================] - 292s 24ms/step - loss: 0.3601 - acc: 0.8654 - val_loss: 1.3827 - val_acc: 0.6361\n",
      "Epoch 37/100\n",
      "12173/12173 [==============================] - 300s 25ms/step - loss: 0.3515 - acc: 0.8703 - val_loss: 1.4181 - val_acc: 0.6515\n",
      "Epoch 38/100\n",
      "12173/12173 [==============================] - 237s 19ms/step - loss: 0.3212 - acc: 0.8805 - val_loss: 1.4138 - val_acc: 0.6538\n",
      "Epoch 39/100\n",
      "12173/12173 [==============================] - 259s 21ms/step - loss: 0.3244 - acc: 0.8827 - val_loss: 1.5030 - val_acc: 0.6445\n",
      "Epoch 40/100\n",
      "12173/12173 [==============================] - 311s 26ms/step - loss: 0.2955 - acc: 0.8894 - val_loss: 1.5512 - val_acc: 0.6491\n",
      "Epoch 41/100\n",
      "12173/12173 [==============================] - 239s 20ms/step - loss: 0.3055 - acc: 0.8867 - val_loss: 1.5571 - val_acc: 0.6445\n",
      "Epoch 42/100\n",
      "12173/12173 [==============================] - 258s 21ms/step - loss: 0.3117 - acc: 0.8863 - val_loss: 1.5519 - val_acc: 0.6510\n",
      "Epoch 43/100\n",
      "12173/12173 [==============================] - 276s 23ms/step - loss: 0.2906 - acc: 0.8920 - val_loss: 1.6131 - val_acc: 0.6473\n",
      "Epoch 44/100\n",
      "12173/12173 [==============================] - 434s 36ms/step - loss: 0.2818 - acc: 0.8950 - val_loss: 1.5196 - val_acc: 0.6417\n",
      "Epoch 45/100\n",
      "12173/12173 [==============================] - 230s 19ms/step - loss: 0.2545 - acc: 0.9093 - val_loss: 1.6411 - val_acc: 0.6501\n",
      "Epoch 46/100\n",
      "12173/12173 [==============================] - 243s 20ms/step - loss: 0.2671 - acc: 0.9009 - val_loss: 1.6352 - val_acc: 0.6473\n",
      "Epoch 47/100\n",
      "12173/12173 [==============================] - 806s 66ms/step - loss: 0.2601 - acc: 0.9042 - val_loss: 1.6804 - val_acc: 0.6561\n",
      "Epoch 48/100\n",
      "12173/12173 [==============================] - 223s 18ms/step - loss: 0.2724 - acc: 0.9010 - val_loss: 1.5848 - val_acc: 0.6557\n",
      "Epoch 49/100\n",
      "12173/12173 [==============================] - 373s 31ms/step - loss: 0.2596 - acc: 0.9038 - val_loss: 1.6886 - val_acc: 0.6459\n",
      "Epoch 50/100\n",
      "12173/12173 [==============================] - 237s 19ms/step - loss: 0.2411 - acc: 0.9130 - val_loss: 1.6540 - val_acc: 0.6533\n",
      "Epoch 51/100\n",
      "12173/12173 [==============================] - 273s 22ms/step - loss: 0.2553 - acc: 0.9091 - val_loss: 1.5797 - val_acc: 0.6356\n",
      "Epoch 52/100\n",
      "12173/12173 [==============================] - 292s 24ms/step - loss: 0.2380 - acc: 0.9150 - val_loss: 1.6796 - val_acc: 0.6529\n",
      "Epoch 53/100\n",
      "12173/12173 [==============================] - 339s 28ms/step - loss: 0.2450 - acc: 0.9096 - val_loss: 1.6867 - val_acc: 0.6575\n",
      "Epoch 54/100\n",
      "12173/12173 [==============================] - 1038s 85ms/step - loss: 0.2179 - acc: 0.9191 - val_loss: 1.7390 - val_acc: 0.6510\n",
      "Epoch 55/100\n",
      "12173/12173 [==============================] - 942s 77ms/step - loss: 0.2452 - acc: 0.9106 - val_loss: 1.8190 - val_acc: 0.6366\n",
      "Epoch 56/100\n",
      "12173/12173 [==============================] - 274s 23ms/step - loss: 0.2133 - acc: 0.9236 - val_loss: 1.6853 - val_acc: 0.6459\n",
      "Epoch 57/100\n",
      "12173/12173 [==============================] - 275s 23ms/step - loss: 0.2013 - acc: 0.9268 - val_loss: 1.8407 - val_acc: 0.6612\n",
      "Epoch 58/100\n",
      "12173/12173 [==============================] - 302s 25ms/step - loss: 0.1915 - acc: 0.9317 - val_loss: 1.8629 - val_acc: 0.6431\n"
     ]
    },
    {
     "name": "stdout",
     "output_type": "stream",
     "text": [
      "Epoch 59/100\n",
      "12173/12173 [==============================] - 319s 26ms/step - loss: 0.2126 - acc: 0.9271 - val_loss: 1.8385 - val_acc: 0.6459\n",
      "Epoch 60/100\n",
      "12173/12173 [==============================] - 322s 26ms/step - loss: 0.1950 - acc: 0.9309 - val_loss: 1.8771 - val_acc: 0.6468\n",
      "Epoch 61/100\n",
      "12173/12173 [==============================] - 381s 31ms/step - loss: 0.2167 - acc: 0.9230 - val_loss: 1.7453 - val_acc: 0.6510\n",
      "Epoch 62/100\n",
      "12173/12173 [==============================] - 351s 29ms/step - loss: 0.1947 - acc: 0.9310 - val_loss: 1.8889 - val_acc: 0.6380\n",
      "Epoch 63/100\n",
      "12173/12173 [==============================] - 351s 29ms/step - loss: 0.1944 - acc: 0.9312 - val_loss: 1.8885 - val_acc: 0.6454\n",
      "Epoch 64/100\n",
      "12173/12173 [==============================] - 454s 37ms/step - loss: 0.1857 - acc: 0.9347 - val_loss: 1.6933 - val_acc: 0.6557\n",
      "Epoch 65/100\n",
      "12173/12173 [==============================] - 619s 51ms/step - loss: 0.1845 - acc: 0.9343 - val_loss: 1.8914 - val_acc: 0.6487\n",
      "Epoch 66/100\n",
      "12173/12173 [==============================] - 331s 27ms/step - loss: 0.1836 - acc: 0.9360 - val_loss: 1.9136 - val_acc: 0.6598\n",
      "Epoch 67/100\n",
      "12173/12173 [==============================] - 250s 21ms/step - loss: 0.1861 - acc: 0.9322 - val_loss: 1.9731 - val_acc: 0.6468\n",
      "Epoch 68/100\n",
      "12173/12173 [==============================] - 236s 19ms/step - loss: 0.1698 - acc: 0.9391 - val_loss: 1.8828 - val_acc: 0.6617\n",
      "Epoch 69/100\n",
      "12173/12173 [==============================] - 246s 20ms/step - loss: 0.1952 - acc: 0.9358 - val_loss: 1.8519 - val_acc: 0.6566\n",
      "Epoch 70/100\n",
      "12173/12173 [==============================] - 254s 21ms/step - loss: 0.2031 - acc: 0.9305 - val_loss: 1.8542 - val_acc: 0.6589\n",
      "Epoch 71/100\n",
      "12173/12173 [==============================] - 261s 21ms/step - loss: 0.1677 - acc: 0.9413 - val_loss: 1.8151 - val_acc: 0.6659\n",
      "Epoch 72/100\n",
      "12173/12173 [==============================] - 266s 22ms/step - loss: 0.1569 - acc: 0.9445 - val_loss: 1.9113 - val_acc: 0.6570\n",
      "Epoch 73/100\n",
      "12173/12173 [==============================] - 266s 22ms/step - loss: 0.1693 - acc: 0.9413 - val_loss: 1.9254 - val_acc: 0.6626\n",
      "Epoch 74/100\n",
      "12173/12173 [==============================] - 266s 22ms/step - loss: 0.1603 - acc: 0.9447 - val_loss: 1.9105 - val_acc: 0.6445\n",
      "Epoch 75/100\n",
      "12173/12173 [==============================] - 271s 22ms/step - loss: 0.1539 - acc: 0.9439 - val_loss: 1.8921 - val_acc: 0.6570\n",
      "Epoch 76/100\n",
      "12173/12173 [==============================] - 293s 24ms/step - loss: 0.1633 - acc: 0.9438 - val_loss: 1.9694 - val_acc: 0.6557\n",
      "Epoch 77/100\n",
      "12173/12173 [==============================] - 267s 22ms/step - loss: 0.1469 - acc: 0.9489 - val_loss: 1.9147 - val_acc: 0.6524\n",
      "Epoch 78/100\n",
      "12173/12173 [==============================] - 271s 22ms/step - loss: 0.1606 - acc: 0.9446 - val_loss: 2.0707 - val_acc: 0.6547\n",
      "Epoch 79/100\n",
      "12173/12173 [==============================] - 339s 28ms/step - loss: 0.1694 - acc: 0.9402 - val_loss: 1.9180 - val_acc: 0.6487\n",
      "Epoch 80/100\n",
      "12173/12173 [==============================] - 333s 27ms/step - loss: 0.1489 - acc: 0.9488 - val_loss: 1.8521 - val_acc: 0.6557\n",
      "Epoch 81/100\n",
      "12173/12173 [==============================] - 385s 32ms/step - loss: 0.1748 - acc: 0.9386 - val_loss: 2.0306 - val_acc: 0.6515\n",
      "Epoch 82/100\n",
      "12173/12173 [==============================] - 366s 30ms/step - loss: 0.1358 - acc: 0.9535 - val_loss: 2.0672 - val_acc: 0.6496\n",
      "Epoch 83/100\n",
      "12173/12173 [==============================] - 321s 26ms/step - loss: 0.1324 - acc: 0.9524 - val_loss: 2.2037 - val_acc: 0.6440\n",
      "Epoch 84/100\n",
      "12173/12173 [==============================] - 316s 26ms/step - loss: 0.1495 - acc: 0.9505 - val_loss: 1.8512 - val_acc: 0.6524\n",
      "Epoch 85/100\n",
      "12173/12173 [==============================] - 349s 29ms/step - loss: 0.1505 - acc: 0.9471 - val_loss: 1.9611 - val_acc: 0.6491\n",
      "Epoch 86/100\n",
      "12173/12173 [==============================] - 336s 28ms/step - loss: 0.1504 - acc: 0.9459 - val_loss: 2.0738 - val_acc: 0.6575\n",
      "Epoch 87/100\n",
      "12173/12173 [==============================] - 324s 27ms/step - loss: 0.1405 - acc: 0.9527 - val_loss: 1.9783 - val_acc: 0.6547\n",
      "Epoch 88/100\n",
      "12173/12173 [==============================] - 311s 26ms/step - loss: 0.1500 - acc: 0.9494 - val_loss: 2.0341 - val_acc: 0.6557\n",
      "Epoch 89/100\n",
      "12173/12173 [==============================] - 323s 27ms/step - loss: 0.1422 - acc: 0.9513 - val_loss: 1.8478 - val_acc: 0.6463\n",
      "Epoch 90/100\n",
      "12173/12173 [==============================] - 315s 26ms/step - loss: 0.1288 - acc: 0.9545 - val_loss: 2.0298 - val_acc: 0.6543\n",
      "Epoch 91/100\n",
      "12173/12173 [==============================] - 309s 25ms/step - loss: 0.1446 - acc: 0.9502 - val_loss: 1.9568 - val_acc: 0.6505\n",
      "Epoch 92/100\n",
      "12173/12173 [==============================] - 331s 27ms/step - loss: 0.1513 - acc: 0.9476 - val_loss: 2.0276 - val_acc: 0.6491\n",
      "Epoch 93/100\n",
      "12173/12173 [==============================] - 299s 25ms/step - loss: 0.1445 - acc: 0.9547 - val_loss: 1.9027 - val_acc: 0.6589\n",
      "Epoch 94/100\n",
      "12173/12173 [==============================] - 293s 24ms/step - loss: 0.1237 - acc: 0.9588 - val_loss: 2.1014 - val_acc: 0.6561\n",
      "Epoch 95/100\n",
      "12173/12173 [==============================] - 289s 24ms/step - loss: 0.1272 - acc: 0.9578 - val_loss: 2.1222 - val_acc: 0.6533\n",
      "Epoch 96/100\n",
      "12173/12173 [==============================] - 297s 24ms/step - loss: 0.1169 - acc: 0.9580 - val_loss: 2.0686 - val_acc: 0.6519\n",
      "Epoch 97/100\n",
      "12173/12173 [==============================] - 297s 24ms/step - loss: 0.1392 - acc: 0.9526 - val_loss: 2.0369 - val_acc: 0.6543\n",
      "Epoch 98/100\n",
      "12173/12173 [==============================] - 295s 24ms/step - loss: 0.1212 - acc: 0.9588 - val_loss: 2.1132 - val_acc: 0.6491\n",
      "Epoch 99/100\n",
      "12173/12173 [==============================] - 303s 25ms/step - loss: 0.1454 - acc: 0.9492 - val_loss: 2.0429 - val_acc: 0.6482\n",
      "Epoch 100/100\n",
      "12173/12173 [==============================] - 315s 26ms/step - loss: 0.1464 - acc: 0.9506 - val_loss: 2.0657 - val_acc: 0.6501\n",
      "Train loss: [0.3314645893500738, 0.9420472000867457]\n",
      "Test loss: [2.0783464757702017, 0.6443829113924051]\n"
     ]
    }
   ],
   "source": [
    "hist = model.fit(x=X_train, y=y_oh_train, validation_split=0.15, batch_size=BATCH_SIZE, epochs=EPOCHS)\n",
    "model.save('models/model_age.h5')\n",
    "\n",
    "print('Train loss:', model.evaluate(X_train, y_oh_train, verbose=0))\n",
    "print('Test loss:', model.evaluate(X_test, y_oh_test, verbose=0))"
   ]
  },
  {
   "cell_type": "code",
   "execution_count": 9,
   "metadata": {},
   "outputs": [
    {
     "name": "stdout",
     "output_type": "stream",
     "text": [
      "Acurácia: 0.6443829113924051\n",
      "Matriz de de confusão:\n",
      " [[302  53   4   0   1   0   2   0]\n",
      " [ 53 199  32   8  11   3   0   0]\n",
      " [  9  47 196  20  37   8   1   2]\n",
      " [  3  10  30 119  52  15   4   6]\n",
      " [  3   7  31  42 538  91  16   4]\n",
      " [  1   4  16  28  91 178   8   7]\n",
      " [  0   0   5   5  22  35  37  14]\n",
      " [  0   0   2   2  11  33  10  60]]\n"
     ]
    }
   ],
   "source": [
    "y_pred = model.predict(X_test).argmax(axis=1)\n",
    "print('Acurácia:', accuracy_score(y_test, y_pred))\n",
    "print('Matriz de de confusão:\\n', confusion_matrix(y_test, y_pred))"
   ]
  },
  {
   "cell_type": "code",
   "execution_count": 10,
   "metadata": {},
   "outputs": [
    {
     "data": {
      "text/plain": [
       "Text(0.5,0,'epoch')"
      ]
     },
     "execution_count": 10,
     "metadata": {},
     "output_type": "execute_result"
    },
    {
     "data": {
      "image/png": "[encoded data removed]",
      "text/plain": [
       "<Figure size 432x288 with 1 Axes>"
      ]
     },
     "metadata": {
      "needs_background": "light"
     },
     "output_type": "display_data"
    }
   ],
   "source": [
    "plt.plot(hist.history['acc'])\n",
    "plt.title('Acurácia')\n",
    "plt.ylabel('acc')\n",
    "plt.xlabel('epoch')"
   ]
  },
  {
   "cell_type": "code",
   "execution_count": 11,
   "metadata": {},
   "outputs": [
    {
     "data": {
      "text/plain": [
       "Text(0.5,0,'epoch')"
      ]
     },
     "execution_count": 11,
     "metadata": {},
     "output_type": "execute_result"
    },
    {
     "data": {
      "image/png": "[encoded data removed]",
      "text/plain": [
       "<Figure size 432x288 with 1 Axes>"
      ]
     },
     "metadata": {
      "needs_background": "light"
     },
     "output_type": "display_data"
    }
   ],
   "source": [
    "plt.plot(hist.history['loss'])\n",
    "plt.title('Loss')\n",
    "plt.ylabel('loss')\n",
    "plt.xlabel('epoch')"
   ]
  },
  {
   "cell_type": "code",
   "execution_count": null,
   "metadata": {},
   "outputs": [],
   "source": []
  }
 ],
 "metadata": {
  "kernelspec": {
   "display_name": "Python 3",
   "language": "python",
   "name": "python3"
  },
  "language_info": {
   "codemirror_mode": {
    "name": "ipython",
    "version": 3
   },
   "file_extension": ".py",
   "mimetype": "text/x-python",
   "name": "python",
   "nbconvert_exporter": "python",
   "pygments_lexer": "ipython3",
   "version": "3.6.5"
  }
 },
 "nbformat": 4,
 "nbformat_minor": 2
}
