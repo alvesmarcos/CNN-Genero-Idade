{
 "cells": [
  {
   "cell_type": "markdown",
   "metadata": {},
   "source": [
    "## Rede Neural Convolucional (CNN)\n",
    "\n",
    "Neste notebook iremos criar nosso classificador afim resolver o problema de gênero e idade. Para isso iremos utilizar o framework [Keras](https://keras.io)"
   ]
  },
  {
   "cell_type": "markdown",
   "metadata": {},
   "source": [
    "## Dependências"
   ]
  },
  {
   "cell_type": "code",
   "execution_count": 1,
   "metadata": {},
   "outputs": [
    {
     "name": "stderr",
     "output_type": "stream",
     "text": [
      "Using TensorFlow backend.\n"
     ]
    }
   ],
   "source": [
    "import numpy as np\n",
    "import matplotlib.pyplot as plt\n",
    "import _pickle as pkl\n",
    "from keras.models import Sequential, load_model\n",
    "from keras.layers import Dense, Dropout, Flatten\n",
    "from keras.layers import Conv2D, MaxPooling2D, BatchNormalization\n",
    "from keras.callbacks import EarlyStopping\n",
    "from keras.utils import to_categorical\n",
    "from keras.losses import categorical_crossentropy\n",
    "from keras.optimizers import SGD\n",
    "from keras.layers import normalization\n",
    "from sklearn.model_selection import train_test_split"
   ]
  },
  {
   "cell_type": "markdown",
   "metadata": {},
   "source": [
    "## Funções auxíliares\n",
    "\n",
    "Iremos carregar implementar algumas funções para leitura e formatação dos dados de entrada pré processados no notebook anterior."
   ]
  },
  {
   "cell_type": "code",
   "execution_count": 6,
   "metadata": {},
   "outputs": [],
   "source": [
    "DATA_NAME = ['data_%d' % i for i in range(5)]"
   ]
  },
  {
   "cell_type": "code",
   "execution_count": 13,
   "metadata": {},
   "outputs": [],
   "source": [
    "def load(name):\n",
    "    with open(name+'.pkl', 'rb') as f:\n",
    "        return pkl.load(f)\n",
    "\n",
    "def wrapper_data(name):\n",
    "    imagens = []\n",
    "    labels = []\n",
    "    for data in DATA_NAME:\n",
    "        obj = load(name+data)\n",
    "        for x, y in zip(obj['imagens'], obj['labels']):\n",
    "            imagens.append(x)\n",
    "            labels.append(y)\n",
    "    return np.array(imagens, dtype=np.float16),  np.array(labels, dtype=np.uint16) "
   ]
  },
  {
   "cell_type": "markdown",
   "metadata": {},
   "source": [
    "## Arquitetura Gênero\n",
    "\n",
    "![Keras](images/test.svg)"
   ]
  },
  {
   "cell_type": "markdown",
   "metadata": {},
   "source": [
    "### Modelo"
   ]
  },
  {
   "cell_type": "code",
   "execution_count": 7,
   "metadata": {},
   "outputs": [
    {
     "name": "stdout",
     "output_type": "stream",
     "text": [
      "_________________________________________________________________\n",
      "Layer (type)                 Output Shape              Param #   \n",
      "=================================================================\n",
      "conv2d_1 (Conv2D)            (None, 56, 56, 96)        14208     \n",
      "_________________________________________________________________\n",
      "max_pooling2d_1 (MaxPooling2 (None, 28, 28, 96)        0         \n",
      "_________________________________________________________________\n",
      "batch_normalization_1 (Batch (None, 28, 28, 96)        384       \n",
      "_________________________________________________________________\n",
      "conv2d_2 (Conv2D)            (None, 28, 28, 256)       614656    \n",
      "_________________________________________________________________\n",
      "max_pooling2d_2 (MaxPooling2 (None, 14, 14, 256)       0         \n",
      "_________________________________________________________________\n",
      "batch_normalization_2 (Batch (None, 14, 14, 256)       1024      \n",
      "_________________________________________________________________\n",
      "conv2d_3 (Conv2D)            (None, 14, 14, 384)       885120    \n",
      "_________________________________________________________________\n",
      "max_pooling2d_3 (MaxPooling2 (None, 7, 7, 384)         0         \n",
      "_________________________________________________________________\n",
      "flatten_1 (Flatten)          (None, 18816)             0         \n",
      "_________________________________________________________________\n",
      "dense_1 (Dense)              (None, 512)               9634304   \n",
      "_________________________________________________________________\n",
      "dropout_1 (Dropout)          (None, 512)               0         \n",
      "_________________________________________________________________\n",
      "dense_2 (Dense)              (None, 512)               262656    \n",
      "_________________________________________________________________\n",
      "dropout_2 (Dropout)          (None, 512)               0         \n",
      "_________________________________________________________________\n",
      "dense_3 (Dense)              (None, 2)                 1026      \n",
      "=================================================================\n",
      "Total params: 11,413,378\n",
      "Trainable params: 11,412,674\n",
      "Non-trainable params: 704\n",
      "_________________________________________________________________\n",
      "None\n"
     ]
    }
   ],
   "source": [
    "model = Sequential()\n",
    "# convolutional layers\n",
    "# 3x\n",
    "model.add(Conv2D(filters=96,\n",
    "                 kernel_size=(7,7), # 3x3\n",
    "                 activation='relu',\n",
    "                 strides=(4,4),\n",
    "                 padding='valid',\n",
    "                 input_shape=(227,227,3)))\n",
    "model.add(MaxPooling2D(pool_size=(3,3), strides=(2,2), padding='same')) # pool_size=2\n",
    "model.add(BatchNormalization())\n",
    "\n",
    "model.add(Conv2D(filters=256,\n",
    "                 kernel_size=(5,5),\n",
    "                 padding='same',\n",
    "                 activation='relu'))\n",
    "model.add(MaxPooling2D(pool_size=(3,3), strides=(2,2), padding='same'))\n",
    "model.add(BatchNormalization())\n",
    "\n",
    "model.add(Conv2D(filters=384,\n",
    "                 kernel_size=(3,3),\n",
    "                 padding='same',\n",
    "                 activation='relu'))\n",
    "model.add(MaxPooling2D(pool_size=(3,3), strides=(2,2),  padding='same'))\n",
    "\n",
    "model.add(Flatten())\n",
    "\n",
    "# fully connected layers\n",
    "model.add(Dense(512, activation='relu'))\n",
    "model.add(Dropout(0.5))\n",
    "model.add(Dense(512, activation='relu'))\n",
    "model.add(Dropout(0.5))\n",
    "model.add(Dense(2, activation='softmax'))\n",
    "\n",
    "print(model.summary())"
   ]
  },
  {
   "cell_type": "markdown",
   "metadata": {},
   "source": [
    "### Hiper-parâmetros"
   ]
  },
  {
   "cell_type": "code",
   "execution_count": 3,
   "metadata": {},
   "outputs": [],
   "source": [
    "BATCH_SIZE = 50\n",
    "EPOCHS = 10000\n",
    "LR = 1e-3\n",
    "LR_DECAY = 1e-4 / EPOCHS"
   ]
  },
  {
   "cell_type": "code",
   "execution_count": null,
   "metadata": {},
   "outputs": [],
   "source": [
    "model.compile(loss=categorical_crossentropy, \n",
    "              optimizer=SGD(lr=LR, decay=LR_DECAY, momentum=0.9), # adam\n",
    "              metrics=['accuracy'])"
   ]
  },
  {
   "cell_type": "markdown",
   "metadata": {},
   "source": [
    "### Entrada "
   ]
  },
  {
   "cell_type": "code",
   "execution_count": null,
   "metadata": {},
   "outputs": [],
   "source": [
    "X_train, X_test, y_train, y_test = train_test_split(wrapper_data('gender/'), test_size=0.15)\n",
    "\n",
    "y_train = to_categorical(y_train, 2)\n",
    "y_test = to_categorical(y_test, 2)\n",
    "\n",
    "X_train.shape, X_test.shape, y_train.shape, y_test.shape"
   ]
  },
  {
   "cell_type": "markdown",
   "metadata": {},
   "source": [
    "### Treino"
   ]
  },
  {
   "cell_type": "code",
   "execution_count": null,
   "metadata": {},
   "outputs": [],
   "source": [
    "hist = model.fit(x=X_train, y=y_train, validation_split=0.1, batch_size=BATCH_SIZE, epochs=EPOCHS)\n",
    "model.save('models/model_gender.h5')\n",
    "\n",
    "print('Train loss:', model.evaluate(X_train, y_train, verbose=0))\n",
    "print('Test loss:', model.evaluate(X_test, y_test, verbose=0))"
   ]
  },
  {
   "cell_type": "markdown",
   "metadata": {},
   "source": [
    "## Arquitetura Idade\n",
    "\n",
    "![Keras](images/test1.svg)"
   ]
  },
  {
   "cell_type": "markdown",
   "metadata": {},
   "source": [
    "### Modelo"
   ]
  },
  {
   "cell_type": "code",
   "execution_count": 36,
   "metadata": {},
   "outputs": [
    {
     "name": "stdout",
     "output_type": "stream",
     "text": [
      "_________________________________________________________________\n",
      "Layer (type)                 Output Shape              Param #   \n",
      "=================================================================\n",
      "conv2d_7 (Conv2D)            (None, 56, 56, 96)        14208     \n",
      "_________________________________________________________________\n",
      "max_pooling2d_7 (MaxPooling2 (None, 28, 28, 96)        0         \n",
      "_________________________________________________________________\n",
      "batch_normalization_5 (Batch (None, 28, 28, 96)        384       \n",
      "_________________________________________________________________\n",
      "conv2d_8 (Conv2D)            (None, 28, 28, 256)       614656    \n",
      "_________________________________________________________________\n",
      "max_pooling2d_8 (MaxPooling2 (None, 14, 14, 256)       0         \n",
      "_________________________________________________________________\n",
      "batch_normalization_6 (Batch (None, 14, 14, 256)       1024      \n",
      "_________________________________________________________________\n",
      "conv2d_9 (Conv2D)            (None, 14, 14, 384)       885120    \n",
      "_________________________________________________________________\n",
      "max_pooling2d_9 (MaxPooling2 (None, 7, 7, 384)         0         \n",
      "_________________________________________________________________\n",
      "flatten_3 (Flatten)          (None, 18816)             0         \n",
      "_________________________________________________________________\n",
      "dense_7 (Dense)              (None, 512)               9634304   \n",
      "_________________________________________________________________\n",
      "dropout_5 (Dropout)          (None, 512)               0         \n",
      "_________________________________________________________________\n",
      "dense_8 (Dense)              (None, 512)               262656    \n",
      "_________________________________________________________________\n",
      "dropout_6 (Dropout)          (None, 512)               0         \n",
      "_________________________________________________________________\n",
      "dense_9 (Dense)              (None, 8)                 4104      \n",
      "=================================================================\n",
      "Total params: 11,416,456\n",
      "Trainable params: 11,415,752\n",
      "Non-trainable params: 704\n",
      "_________________________________________________________________\n",
      "None\n"
     ]
    }
   ],
   "source": [
    "model = Sequential()\n",
    "# convolutional layers\n",
    "model.add(Conv2D(filters=96,\n",
    "                 kernel_size=(7,7),\n",
    "                 activation='relu',\n",
    "                 strides=(4,4),\n",
    "                 padding='valid',\n",
    "                 input_shape=(227,227,3)))\n",
    "model.add(MaxPooling2D(pool_size=(3,3), strides=(2,2), padding='same'))\n",
    "model.add(BatchNormalization()) # axis=3\n",
    "\n",
    "model.add(Conv2D(filters=256,\n",
    "                 kernel_size=(5,5),\n",
    "                 padding='same',\n",
    "                 activation='relu'))\n",
    "model.add(MaxPooling2D(pool_size=(3,3), strides=(2,2), padding='same'))\n",
    "model.add(BatchNormalization())\n",
    "\n",
    "model.add(Conv2D(filters=384,\n",
    "                 kernel_size=(3,3),\n",
    "                 padding='same',\n",
    "                 activation='relu'))\n",
    "model.add(MaxPooling2D(pool_size=(3,3), strides=(2,2),  padding='same'))\n",
    "\n",
    "model.add(Flatten())\n",
    "\n",
    "# fully connected layers\n",
    "model.add(Dense(512, activation='relu'))\n",
    "model.add(Dropout(0.5))\n",
    "model.add(Dense(512, activation='relu'))\n",
    "model.add(Dropout(0.5))\n",
    "model.add(Dense(8, activation='softmax'))\n",
    "\n",
    "print(model.summary())"
   ]
  },
  {
   "cell_type": "markdown",
   "metadata": {},
   "source": [
    "### Hiper-parâmetros"
   ]
  },
  {
   "cell_type": "code",
   "execution_count": 2,
   "metadata": {},
   "outputs": [],
   "source": [
    "BATCH_SIZE = 50\n",
    "EPOCHS = 10000\n",
    "LR = 1e-3\n",
    "LR_DECAY = 1e-4 / EPOCHS\n",
    "MOMENTUM = 0.9"
   ]
  },
  {
   "cell_type": "code",
   "execution_count": null,
   "metadata": {},
   "outputs": [],
   "source": [
    "model.compile(loss=categorical_crossentropy, \n",
    "              optimizer=SGD(lr=LR, decay=LR_DECAY, momentum=MOMENTUM),\n",
    "              metrics=['accuracy'])"
   ]
  },
  {
   "cell_type": "markdown",
   "metadata": {},
   "source": [
    "### Idade Masculina\n",
    "\n",
    "Iremos considerar apenas os dados que tem o gênero definido como masculino"
   ]
  },
  {
   "cell_type": "markdown",
   "metadata": {},
   "source": [
    "### Entrada"
   ]
  },
  {
   "cell_type": "code",
   "execution_count": 37,
   "metadata": {},
   "outputs": [
    {
     "data": {
      "text/plain": [
       "((6229, 227, 227, 3), (1100, 227, 227, 3), (6229, 8), (1100, 8))"
      ]
     },
     "execution_count": 37,
     "metadata": {},
     "output_type": "execute_result"
    }
   ],
   "source": [
    "X, y = wrapper_data('serializer/age-male/')\n",
    "# separando os dados em treinamento e teste\n",
    "X_train, X_test, y_train, y_test = train_test_split(X, y, test_size=0.15)\n",
    "# transformando para one_hot\n",
    "y_train = to_categorical(y_train)\n",
    "y_test = to_categorical(y_test)\n",
    "\n",
    "X_train.shape, X_test.shape, y_train.shape, y_test.shape"
   ]
  },
  {
   "cell_type": "markdown",
   "metadata": {},
   "source": [
    "### Treino"
   ]
  },
  {
   "cell_type": "code",
   "execution_count": 41,
   "metadata": {},
   "outputs": [
    {
     "name": "stdout",
     "output_type": "stream",
     "text": [
      "Train on 5606 samples, validate on 623 samples\n",
      "Epoch 1/10000\n",
      "5606/5606 [==============================] - 232s 41ms/step - loss: 2.1261 - acc: 0.2378 - val_loss: 1.8140 - val_acc: 0.3387\n",
      "Epoch 2/10000\n",
      "5606/5606 [==============================] - 218s 39ms/step - loss: 1.9130 - acc: 0.2808 - val_loss: 1.7712 - val_acc: 0.3628\n",
      "Epoch 3/10000\n",
      "5606/5606 [==============================] - 225s 40ms/step - loss: 1.8603 - acc: 0.2963 - val_loss: 1.7428 - val_acc: 0.3868\n",
      "Epoch 4/10000\n",
      "5606/5606 [==============================] - 220s 39ms/step - loss: 1.7914 - acc: 0.3268 - val_loss: 1.6984 - val_acc: 0.3804\n",
      "Epoch 5/10000\n",
      "5606/5606 [==============================] - 226s 40ms/step - loss: 1.7418 - acc: 0.3370 - val_loss: 1.5639 - val_acc: 0.4270\n",
      "Epoch 6/10000\n",
      "5606/5606 [==============================] - 228s 41ms/step - loss: 1.6631 - acc: 0.3733 - val_loss: 1.5348 - val_acc: 0.4575\n",
      "Epoch 7/10000\n",
      "5606/5606 [==============================] - 276s 49ms/step - loss: 1.6387 - acc: 0.3732 - val_loss: 1.5231 - val_acc: 0.4494\n",
      "Epoch 8/10000\n",
      "5606/5606 [==============================] - 317s 57ms/step - loss: 1.5797 - acc: 0.3860 - val_loss: 1.4557 - val_acc: 0.4462\n",
      "Epoch 9/10000\n",
      "5606/5606 [==============================] - 352s 63ms/step - loss: 1.5397 - acc: 0.4053 - val_loss: 1.4400 - val_acc: 0.4703\n",
      "Epoch 10/10000\n",
      "5606/5606 [==============================] - 331s 59ms/step - loss: 1.4933 - acc: 0.4201 - val_loss: 1.3699 - val_acc: 0.5120\n",
      "Epoch 11/10000\n",
      "5606/5606 [==============================] - 391s 70ms/step - loss: 1.4334 - acc: 0.4372 - val_loss: 1.3513 - val_acc: 0.4976\n",
      "Epoch 12/10000\n",
      "5606/5606 [==============================] - 334s 60ms/step - loss: 1.4029 - acc: 0.4422 - val_loss: 1.2754 - val_acc: 0.5409\n",
      "Epoch 13/10000\n",
      "5606/5606 [==============================] - 334s 60ms/step - loss: 1.3453 - acc: 0.4677 - val_loss: 1.2905 - val_acc: 0.5361\n",
      "Epoch 14/10000\n",
      "5606/5606 [==============================] - 354s 63ms/step - loss: 1.3370 - acc: 0.4741 - val_loss: 1.2506 - val_acc: 0.5120\n",
      "Epoch 15/10000\n",
      "5606/5606 [==============================] - 285s 51ms/step - loss: 1.2863 - acc: 0.4886 - val_loss: 1.2777 - val_acc: 0.5120\n",
      "Epoch 16/10000\n",
      "5606/5606 [==============================] - 275s 49ms/step - loss: 1.2438 - acc: 0.5018 - val_loss: 1.1274 - val_acc: 0.5955\n",
      "Epoch 17/10000\n",
      "5606/5606 [==============================] - 267s 48ms/step - loss: 1.1930 - acc: 0.5248 - val_loss: 1.1510 - val_acc: 0.5441\n",
      "Epoch 18/10000\n",
      "5606/5606 [==============================] - 230s 41ms/step - loss: 1.1598 - acc: 0.5266 - val_loss: 1.0398 - val_acc: 0.5971\n",
      "Epoch 19/10000\n",
      "5606/5606 [==============================] - 221s 39ms/step - loss: 1.1672 - acc: 0.5309 - val_loss: 1.1293 - val_acc: 0.5682\n",
      "Epoch 20/10000\n",
      "5606/5606 [==============================] - 522s 93ms/step - loss: 1.1421 - acc: 0.5487 - val_loss: 1.0931 - val_acc: 0.6116\n",
      "Epoch 21/10000\n",
      "5606/5606 [==============================] - 243s 43ms/step - loss: 1.1012 - acc: 0.5560 - val_loss: 1.0948 - val_acc: 0.5907\n",
      "Epoch 22/10000\n",
      "5606/5606 [==============================] - 273s 49ms/step - loss: 1.0496 - acc: 0.5831 - val_loss: 1.0614 - val_acc: 0.6244\n",
      "Epoch 23/10000\n",
      "5606/5606 [==============================] - 247s 44ms/step - loss: 1.0539 - acc: 0.5744 - val_loss: 1.1354 - val_acc: 0.5891\n",
      "Epoch 24/10000\n",
      "5606/5606 [==============================] - 237s 42ms/step - loss: 0.9969 - acc: 0.6020 - val_loss: 1.1181 - val_acc: 0.5891\n",
      "Epoch 25/10000\n",
      "5606/5606 [==============================] - 255s 46ms/step - loss: 0.9894 - acc: 0.6019 - val_loss: 0.9713 - val_acc: 0.6356\n",
      "Epoch 26/10000\n",
      "5606/5606 [==============================] - 215s 38ms/step - loss: 0.9448 - acc: 0.6158 - val_loss: 1.0414 - val_acc: 0.6067\n",
      "Epoch 27/10000\n",
      "5606/5606 [==============================] - 234s 42ms/step - loss: 0.9163 - acc: 0.6272 - val_loss: 1.0204 - val_acc: 0.6180\n",
      "Epoch 28/10000\n",
      "5606/5606 [==============================] - 227s 40ms/step - loss: 0.8905 - acc: 0.6411 - val_loss: 0.9904 - val_acc: 0.6148\n",
      "Epoch 29/10000\n",
      "5606/5606 [==============================] - 223s 40ms/step - loss: 0.8980 - acc: 0.6400 - val_loss: 1.0029 - val_acc: 0.6565\n",
      "Epoch 30/10000\n",
      "5606/5606 [==============================] - 218s 39ms/step - loss: 0.9195 - acc: 0.6258 - val_loss: 1.0302 - val_acc: 0.6404\n",
      "Epoch 31/10000\n",
      "5606/5606 [==============================] - 236s 42ms/step - loss: 0.9276 - acc: 0.6156 - val_loss: 0.9397 - val_acc: 0.6597\n",
      "Epoch 32/10000\n",
      "5606/5606 [==============================] - 229s 41ms/step - loss: 0.8922 - acc: 0.6379 - val_loss: 0.9752 - val_acc: 0.6533\n",
      "Epoch 33/10000\n",
      "5606/5606 [==============================] - 234s 42ms/step - loss: 0.8733 - acc: 0.6465 - val_loss: 0.9212 - val_acc: 0.6677\n",
      "Epoch 34/10000\n",
      "5606/5606 [==============================] - 258s 46ms/step - loss: 0.8566 - acc: 0.6352 - val_loss: 0.9056 - val_acc: 0.6709\n",
      "Epoch 35/10000\n",
      "5606/5606 [==============================] - 258s 46ms/step - loss: 0.9023 - acc: 0.6345 - val_loss: 0.9601 - val_acc: 0.6324\n",
      "Epoch 36/10000\n",
      "5606/5606 [==============================] - 281s 50ms/step - loss: 0.9323 - acc: 0.6204 - val_loss: 0.9660 - val_acc: 0.6260\n",
      "Epoch 37/10000\n",
      "5606/5606 [==============================] - 274s 49ms/step - loss: 0.8421 - acc: 0.6511 - val_loss: 0.9251 - val_acc: 0.6806\n",
      "Epoch 38/10000\n",
      "5606/5606 [==============================] - 288s 51ms/step - loss: 0.8277 - acc: 0.6638 - val_loss: 0.9045 - val_acc: 0.6902\n",
      "Epoch 39/10000\n",
      "5606/5606 [==============================] - 288s 51ms/step - loss: 0.7994 - acc: 0.6730 - val_loss: 0.8732 - val_acc: 0.6950\n",
      "Epoch 40/10000\n",
      "5606/5606 [==============================] - 262s 47ms/step - loss: 0.7439 - acc: 0.6944 - val_loss: 1.0289 - val_acc: 0.6308\n",
      "Epoch 41/10000\n",
      "5606/5606 [==============================] - 246s 44ms/step - loss: 0.7140 - acc: 0.7053 - val_loss: 0.8531 - val_acc: 0.6950\n",
      "Epoch 42/10000\n",
      "5606/5606 [==============================] - 251s 45ms/step - loss: 0.7161 - acc: 0.7153 - val_loss: 0.8908 - val_acc: 0.6806\n",
      "Epoch 43/10000\n",
      "5606/5606 [==============================] - 270s 48ms/step - loss: 0.7057 - acc: 0.7114 - val_loss: 1.0545 - val_acc: 0.6469\n",
      "Epoch 44/10000\n",
      "5606/5606 [==============================] - 289s 52ms/step - loss: 0.6798 - acc: 0.7176 - val_loss: 0.9145 - val_acc: 0.6870\n",
      "Epoch 45/10000\n",
      "5606/5606 [==============================] - 259s 46ms/step - loss: 0.6686 - acc: 0.7317 - val_loss: 0.8183 - val_acc: 0.7030\n",
      "Epoch 46/10000\n",
      "5606/5606 [==============================] - 265s 47ms/step - loss: 0.6958 - acc: 0.7141 - val_loss: 0.9310 - val_acc: 0.6854\n",
      "Epoch 47/10000\n",
      "5606/5606 [==============================] - 231s 41ms/step - loss: 0.6808 - acc: 0.7203 - val_loss: 0.8650 - val_acc: 0.6806\n",
      "Epoch 48/10000\n",
      "2600/5606 [============>.................] - ETA: 1:56 - loss: 0.6298 - acc: 0.7477"
     ]
    },
    {
     "ename": "KeyboardInterrupt",
     "evalue": "",
     "output_type": "error",
     "traceback": [
      "\u001b[0;31m---------------------------------------------------------------------------\u001b[0m",
      "\u001b[0;31mKeyboardInterrupt\u001b[0m                         Traceback (most recent call last)",
      "\u001b[0;32m<ipython-input-41-360673624016>\u001b[0m in \u001b[0;36m<module>\u001b[0;34m\u001b[0m\n\u001b[0;32m----> 1\u001b[0;31m \u001b[0mhist\u001b[0m \u001b[0;34m=\u001b[0m \u001b[0mmodel\u001b[0m\u001b[0;34m.\u001b[0m\u001b[0mfit\u001b[0m\u001b[0;34m(\u001b[0m\u001b[0mx\u001b[0m\u001b[0;34m=\u001b[0m\u001b[0mX_train\u001b[0m\u001b[0;34m,\u001b[0m \u001b[0my\u001b[0m\u001b[0;34m=\u001b[0m\u001b[0my_train\u001b[0m\u001b[0;34m,\u001b[0m \u001b[0mvalidation_split\u001b[0m\u001b[0;34m=\u001b[0m\u001b[0;36m0.1\u001b[0m\u001b[0;34m,\u001b[0m \u001b[0mbatch_size\u001b[0m\u001b[0;34m=\u001b[0m\u001b[0mBATCH_SIZE\u001b[0m\u001b[0;34m,\u001b[0m \u001b[0mepochs\u001b[0m\u001b[0;34m=\u001b[0m\u001b[0mEPOCHS\u001b[0m\u001b[0;34m)\u001b[0m\u001b[0;34m\u001b[0m\u001b[0m\n\u001b[0m\u001b[1;32m      2\u001b[0m \u001b[0mmodel\u001b[0m\u001b[0;34m.\u001b[0m\u001b[0msave\u001b[0m\u001b[0;34m(\u001b[0m\u001b[0;34m'models/model_age_male.h5'\u001b[0m\u001b[0;34m)\u001b[0m\u001b[0;34m\u001b[0m\u001b[0m\n\u001b[1;32m      3\u001b[0m \u001b[0;34m\u001b[0m\u001b[0m\n\u001b[1;32m      4\u001b[0m \u001b[0mprint\u001b[0m\u001b[0;34m(\u001b[0m\u001b[0;34m'Train loss:'\u001b[0m\u001b[0;34m,\u001b[0m \u001b[0mmodel\u001b[0m\u001b[0;34m.\u001b[0m\u001b[0mevaluate\u001b[0m\u001b[0;34m(\u001b[0m\u001b[0mX_train\u001b[0m\u001b[0;34m,\u001b[0m \u001b[0my_train\u001b[0m\u001b[0;34m,\u001b[0m \u001b[0mverbose\u001b[0m\u001b[0;34m=\u001b[0m\u001b[0;36m0\u001b[0m\u001b[0;34m)\u001b[0m\u001b[0;34m)\u001b[0m\u001b[0;34m\u001b[0m\u001b[0m\n\u001b[1;32m      5\u001b[0m \u001b[0mprint\u001b[0m\u001b[0;34m(\u001b[0m\u001b[0;34m'Test loss:'\u001b[0m\u001b[0;34m,\u001b[0m \u001b[0mmodel\u001b[0m\u001b[0;34m.\u001b[0m\u001b[0mevaluate\u001b[0m\u001b[0;34m(\u001b[0m\u001b[0mX_test\u001b[0m\u001b[0;34m,\u001b[0m \u001b[0my_test\u001b[0m\u001b[0;34m,\u001b[0m \u001b[0mverbose\u001b[0m\u001b[0;34m=\u001b[0m\u001b[0;36m0\u001b[0m\u001b[0;34m)\u001b[0m\u001b[0;34m)\u001b[0m\u001b[0;34m\u001b[0m\u001b[0m\n",
      "\u001b[0;32m~/miniconda3/envs/cnn-genero-idade-env/lib/python3.6/site-packages/keras/engine/training.py\u001b[0m in \u001b[0;36mfit\u001b[0;34m(self, x, y, batch_size, epochs, verbose, callbacks, validation_split, validation_data, shuffle, class_weight, sample_weight, initial_epoch, steps_per_epoch, validation_steps, **kwargs)\u001b[0m\n\u001b[1;32m   1037\u001b[0m                                         \u001b[0minitial_epoch\u001b[0m\u001b[0;34m=\u001b[0m\u001b[0minitial_epoch\u001b[0m\u001b[0;34m,\u001b[0m\u001b[0;34m\u001b[0m\u001b[0m\n\u001b[1;32m   1038\u001b[0m                                         \u001b[0msteps_per_epoch\u001b[0m\u001b[0;34m=\u001b[0m\u001b[0msteps_per_epoch\u001b[0m\u001b[0;34m,\u001b[0m\u001b[0;34m\u001b[0m\u001b[0m\n\u001b[0;32m-> 1039\u001b[0;31m                                         validation_steps=validation_steps)\n\u001b[0m\u001b[1;32m   1040\u001b[0m \u001b[0;34m\u001b[0m\u001b[0m\n\u001b[1;32m   1041\u001b[0m     def evaluate(self, x=None, y=None,\n",
      "\u001b[0;32m~/miniconda3/envs/cnn-genero-idade-env/lib/python3.6/site-packages/keras/engine/training_arrays.py\u001b[0m in \u001b[0;36mfit_loop\u001b[0;34m(model, f, ins, out_labels, batch_size, epochs, verbose, callbacks, val_f, val_ins, shuffle, callback_metrics, initial_epoch, steps_per_epoch, validation_steps)\u001b[0m\n\u001b[1;32m    197\u001b[0m                     \u001b[0mins_batch\u001b[0m\u001b[0;34m[\u001b[0m\u001b[0mi\u001b[0m\u001b[0;34m]\u001b[0m \u001b[0;34m=\u001b[0m \u001b[0mins_batch\u001b[0m\u001b[0;34m[\u001b[0m\u001b[0mi\u001b[0m\u001b[0;34m]\u001b[0m\u001b[0;34m.\u001b[0m\u001b[0mtoarray\u001b[0m\u001b[0;34m(\u001b[0m\u001b[0;34m)\u001b[0m\u001b[0;34m\u001b[0m\u001b[0m\n\u001b[1;32m    198\u001b[0m \u001b[0;34m\u001b[0m\u001b[0m\n\u001b[0;32m--> 199\u001b[0;31m                 \u001b[0mouts\u001b[0m \u001b[0;34m=\u001b[0m \u001b[0mf\u001b[0m\u001b[0;34m(\u001b[0m\u001b[0mins_batch\u001b[0m\u001b[0;34m)\u001b[0m\u001b[0;34m\u001b[0m\u001b[0m\n\u001b[0m\u001b[1;32m    200\u001b[0m                 \u001b[0mouts\u001b[0m \u001b[0;34m=\u001b[0m \u001b[0mto_list\u001b[0m\u001b[0;34m(\u001b[0m\u001b[0mouts\u001b[0m\u001b[0;34m)\u001b[0m\u001b[0;34m\u001b[0m\u001b[0m\n\u001b[1;32m    201\u001b[0m                 \u001b[0;32mfor\u001b[0m \u001b[0ml\u001b[0m\u001b[0;34m,\u001b[0m \u001b[0mo\u001b[0m \u001b[0;32min\u001b[0m \u001b[0mzip\u001b[0m\u001b[0;34m(\u001b[0m\u001b[0mout_labels\u001b[0m\u001b[0;34m,\u001b[0m \u001b[0mouts\u001b[0m\u001b[0;34m)\u001b[0m\u001b[0;34m:\u001b[0m\u001b[0;34m\u001b[0m\u001b[0m\n",
      "\u001b[0;32m~/miniconda3/envs/cnn-genero-idade-env/lib/python3.6/site-packages/keras/backend/tensorflow_backend.py\u001b[0m in \u001b[0;36m__call__\u001b[0;34m(self, inputs)\u001b[0m\n\u001b[1;32m   2713\u001b[0m                 \u001b[0;32mreturn\u001b[0m \u001b[0mself\u001b[0m\u001b[0;34m.\u001b[0m\u001b[0m_legacy_call\u001b[0m\u001b[0;34m(\u001b[0m\u001b[0minputs\u001b[0m\u001b[0;34m)\u001b[0m\u001b[0;34m\u001b[0m\u001b[0m\n\u001b[1;32m   2714\u001b[0m \u001b[0;34m\u001b[0m\u001b[0m\n\u001b[0;32m-> 2715\u001b[0;31m             \u001b[0;32mreturn\u001b[0m \u001b[0mself\u001b[0m\u001b[0;34m.\u001b[0m\u001b[0m_call\u001b[0m\u001b[0;34m(\u001b[0m\u001b[0minputs\u001b[0m\u001b[0;34m)\u001b[0m\u001b[0;34m\u001b[0m\u001b[0m\n\u001b[0m\u001b[1;32m   2716\u001b[0m         \u001b[0;32melse\u001b[0m\u001b[0;34m:\u001b[0m\u001b[0;34m\u001b[0m\u001b[0m\n\u001b[1;32m   2717\u001b[0m             \u001b[0;32mif\u001b[0m \u001b[0mpy_any\u001b[0m\u001b[0;34m(\u001b[0m\u001b[0mis_tensor\u001b[0m\u001b[0;34m(\u001b[0m\u001b[0mx\u001b[0m\u001b[0;34m)\u001b[0m \u001b[0;32mfor\u001b[0m \u001b[0mx\u001b[0m \u001b[0;32min\u001b[0m \u001b[0minputs\u001b[0m\u001b[0;34m)\u001b[0m\u001b[0;34m:\u001b[0m\u001b[0;34m\u001b[0m\u001b[0m\n",
      "\u001b[0;32m~/miniconda3/envs/cnn-genero-idade-env/lib/python3.6/site-packages/keras/backend/tensorflow_backend.py\u001b[0m in \u001b[0;36m_call\u001b[0;34m(self, inputs)\u001b[0m\n\u001b[1;32m   2673\u001b[0m             \u001b[0mfetched\u001b[0m \u001b[0;34m=\u001b[0m \u001b[0mself\u001b[0m\u001b[0;34m.\u001b[0m\u001b[0m_callable_fn\u001b[0m\u001b[0;34m(\u001b[0m\u001b[0;34m*\u001b[0m\u001b[0marray_vals\u001b[0m\u001b[0;34m,\u001b[0m \u001b[0mrun_metadata\u001b[0m\u001b[0;34m=\u001b[0m\u001b[0mself\u001b[0m\u001b[0;34m.\u001b[0m\u001b[0mrun_metadata\u001b[0m\u001b[0;34m)\u001b[0m\u001b[0;34m\u001b[0m\u001b[0m\n\u001b[1;32m   2674\u001b[0m         \u001b[0;32melse\u001b[0m\u001b[0;34m:\u001b[0m\u001b[0;34m\u001b[0m\u001b[0m\n\u001b[0;32m-> 2675\u001b[0;31m             \u001b[0mfetched\u001b[0m \u001b[0;34m=\u001b[0m \u001b[0mself\u001b[0m\u001b[0;34m.\u001b[0m\u001b[0m_callable_fn\u001b[0m\u001b[0;34m(\u001b[0m\u001b[0;34m*\u001b[0m\u001b[0marray_vals\u001b[0m\u001b[0;34m)\u001b[0m\u001b[0;34m\u001b[0m\u001b[0m\n\u001b[0m\u001b[1;32m   2676\u001b[0m         \u001b[0;32mreturn\u001b[0m \u001b[0mfetched\u001b[0m\u001b[0;34m[\u001b[0m\u001b[0;34m:\u001b[0m\u001b[0mlen\u001b[0m\u001b[0;34m(\u001b[0m\u001b[0mself\u001b[0m\u001b[0;34m.\u001b[0m\u001b[0moutputs\u001b[0m\u001b[0;34m)\u001b[0m\u001b[0;34m]\u001b[0m\u001b[0;34m\u001b[0m\u001b[0m\n\u001b[1;32m   2677\u001b[0m \u001b[0;34m\u001b[0m\u001b[0m\n",
      "\u001b[0;32m~/miniconda3/envs/cnn-genero-idade-env/lib/python3.6/site-packages/tensorflow/python/client/session.py\u001b[0m in \u001b[0;36m__call__\u001b[0;34m(self, *args, **kwargs)\u001b[0m\n\u001b[1;32m   1397\u001b[0m           ret = tf_session.TF_SessionRunCallable(\n\u001b[1;32m   1398\u001b[0m               \u001b[0mself\u001b[0m\u001b[0;34m.\u001b[0m\u001b[0m_session\u001b[0m\u001b[0;34m.\u001b[0m\u001b[0m_session\u001b[0m\u001b[0;34m,\u001b[0m \u001b[0mself\u001b[0m\u001b[0;34m.\u001b[0m\u001b[0m_handle\u001b[0m\u001b[0;34m,\u001b[0m \u001b[0margs\u001b[0m\u001b[0;34m,\u001b[0m \u001b[0mstatus\u001b[0m\u001b[0;34m,\u001b[0m\u001b[0;34m\u001b[0m\u001b[0m\n\u001b[0;32m-> 1399\u001b[0;31m               run_metadata_ptr)\n\u001b[0m\u001b[1;32m   1400\u001b[0m         \u001b[0;32mif\u001b[0m \u001b[0mrun_metadata\u001b[0m\u001b[0;34m:\u001b[0m\u001b[0;34m\u001b[0m\u001b[0m\n\u001b[1;32m   1401\u001b[0m           \u001b[0mproto_data\u001b[0m \u001b[0;34m=\u001b[0m \u001b[0mtf_session\u001b[0m\u001b[0;34m.\u001b[0m\u001b[0mTF_GetBuffer\u001b[0m\u001b[0;34m(\u001b[0m\u001b[0mrun_metadata_ptr\u001b[0m\u001b[0;34m)\u001b[0m\u001b[0;34m\u001b[0m\u001b[0m\n",
      "\u001b[0;31mKeyboardInterrupt\u001b[0m: "
     ]
    }
   ],
   "source": [
    "hist = model.fit(x=X_train, y=y_train, validation_split=0.1, batch_size=BATCH_SIZE, epochs=EPOCHS)\n",
    "model.save('models/model_age_male.h5')\n",
    "\n",
    "print('Train loss:', model.evaluate(X_train, y_train, verbose=0))\n",
    "print('Test loss:', model.evaluate(X_test, y_test, verbose=0))"
   ]
  }
 ],
 "metadata": {
  "kernelspec": {
   "display_name": "Python 3",
   "language": "python",
   "name": "python3"
  },
  "language_info": {
   "codemirror_mode": {
    "name": "ipython",
    "version": 3
   },
   "file_extension": ".py",
   "mimetype": "text/x-python",
   "name": "python",
   "nbconvert_exporter": "python",
   "pygments_lexer": "ipython3",
   "version": "3.6.5"
  }
 },
 "nbformat": 4,
 "nbformat_minor": 2
}
